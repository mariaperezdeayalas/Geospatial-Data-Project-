{
 "cells": [
  {
   "cell_type": "code",
   "execution_count": 48,
   "id": "434a8325",
   "metadata": {},
   "outputs": [],
   "source": [
    "from pymongo import MongoClient\n",
    "from pymongo import GEOSPHERE\n",
    "from bson.json_util import dumps\n",
    "import json\n",
    "import pandas as pd"
   ]
  },
  {
   "cell_type": "code",
   "execution_count": 2,
   "id": "368d8fc5",
   "metadata": {},
   "outputs": [
    {
     "data": {
      "text/plain": [
       "Database(MongoClient(host=['localhost:27017'], document_class=dict, tz_aware=False, connect=True), 'geospatial_project_ironhack')"
      ]
     },
     "execution_count": 2,
     "metadata": {},
     "output_type": "execute_result"
    }
   ],
   "source": [
    "client = MongoClient(\"localhost:27017\")\n",
    "db = client.get_database(\"geospatial_project_ironhack\")\n",
    "db"
   ]
  },
  {
   "cell_type": "code",
   "execution_count": 3,
   "id": "0c6485b1",
   "metadata": {},
   "outputs": [],
   "source": [
    "madrid = db.get_collection(\"madrid\")\n",
    "san_francisco = db.get_collection(\"san_francisco\")\n",
    "tel_aviv = db.get_collection(\"tel_aviv\")"
   ]
  },
  {
   "cell_type": "code",
   "execution_count": null,
   "id": "0db636af",
   "metadata": {},
   "outputs": [],
   "source": [
    "madrid1 = db.get_collection(\"madrid1\")"
   ]
  },
  {
   "cell_type": "code",
   "execution_count": 4,
   "id": "1b25cc9a",
   "metadata": {
    "scrolled": true
   },
   "outputs": [
    {
     "data": {
      "text/plain": [
       "'geometry_2dsphere'"
      ]
     },
     "execution_count": 4,
     "metadata": {},
     "output_type": "execute_result"
    }
   ],
   "source": [
    "db.madrid.create_index([('geometry', GEOSPHERE)])"
   ]
  },
  {
   "cell_type": "code",
   "execution_count": 5,
   "id": "bc578919",
   "metadata": {},
   "outputs": [
    {
     "data": {
      "text/plain": [
       "'geometry_2dsphere'"
      ]
     },
     "execution_count": 5,
     "metadata": {},
     "output_type": "execute_result"
    }
   ],
   "source": [
    "db.san_francisco.create_index([('geometry', GEOSPHERE)])"
   ]
  },
  {
   "cell_type": "code",
   "execution_count": 6,
   "id": "e6fe4ec9",
   "metadata": {},
   "outputs": [
    {
     "data": {
      "text/plain": [
       "'geometry_2dsphere'"
      ]
     },
     "execution_count": 6,
     "metadata": {},
     "output_type": "execute_result"
    }
   ],
   "source": [
    "db.tel_aviv.create_index([('geometry', GEOSPHERE)])"
   ]
  },
  {
   "cell_type": "code",
   "execution_count": 7,
   "id": "72ac1ab5",
   "metadata": {},
   "outputs": [],
   "source": [
    "def type_point(lista):\n",
    "    return {\"type\":\"Point\", \"coordinates\": lista}"
   ]
  },
  {
   "cell_type": "code",
   "execution_count": 8,
   "id": "e1bd1fa8",
   "metadata": {},
   "outputs": [
    {
     "data": {
      "text/plain": [
       "pymongo.collection.Collection"
      ]
     },
     "execution_count": 8,
     "metadata": {},
     "output_type": "execute_result"
    }
   ],
   "source": [
    "type(madrid)"
   ]
  },
  {
   "cell_type": "code",
   "execution_count": 9,
   "id": "5c73df31",
   "metadata": {},
   "outputs": [],
   "source": [
    "mad_coord = [-3.69280, 40.45007]\n",
    "sf_coord = [-122.39846, 37.68461]\n",
    "ta_coord = [34.78461, 32.08757]"
   ]
  },
  {
   "cell_type": "code",
   "execution_count": 35,
   "id": "279348a6",
   "metadata": {},
   "outputs": [],
   "source": [
    "query_mad = [{\"$geoNear\" : {'near': mad_coord,\n",
    "                        'distanceField' : 'distance',\n",
    "                        'maxDistance' : 3000,\n",
    "                        'distanceMultiplier': 6371,\n",
    "                        'spherical' : True}}]"
   ]
  },
  {
   "cell_type": "code",
   "execution_count": 41,
   "id": "f8e5886e",
   "metadata": {
    "scrolled": true
   },
   "outputs": [],
   "source": [
    "geoloc_mad = madrid.aggregate(query_mad)"
   ]
  },
  {
   "cell_type": "code",
   "execution_count": 42,
   "id": "38f01c30",
   "metadata": {},
   "outputs": [],
   "source": [
    "mad_json = json.loads(dumps(geoloc_mad))"
   ]
  },
  {
   "cell_type": "code",
   "execution_count": 105,
   "id": "d37bba98",
   "metadata": {},
   "outputs": [],
   "source": [
    "#mad_json"
   ]
  },
  {
   "cell_type": "code",
   "execution_count": 72,
   "id": "2aca810c",
   "metadata": {},
   "outputs": [
    {
     "data": {
      "text/html": [
       "<div>\n",
       "<style scoped>\n",
       "    .dataframe tbody tr th:only-of-type {\n",
       "        vertical-align: middle;\n",
       "    }\n",
       "\n",
       "    .dataframe tbody tr th {\n",
       "        vertical-align: top;\n",
       "    }\n",
       "\n",
       "    .dataframe thead th {\n",
       "        text-align: right;\n",
       "    }\n",
       "</style>\n",
       "<table border=\"1\" class=\"dataframe\">\n",
       "  <thead>\n",
       "    <tr style=\"text-align: right;\">\n",
       "      <th></th>\n",
       "      <th>_id</th>\n",
       "      <th>name</th>\n",
       "      <th>lat</th>\n",
       "      <th>lng</th>\n",
       "      <th>shortName</th>\n",
       "      <th>geometry</th>\n",
       "      <th>distance</th>\n",
       "    </tr>\n",
       "  </thead>\n",
       "  <tbody>\n",
       "    <tr>\n",
       "      <th>0</th>\n",
       "      <td>{'$oid': '61927aa69a24db8a1dc37033'}</td>\n",
       "      <td>Starbucks</td>\n",
       "      <td>40.447489</td>\n",
       "      <td>-3.693093</td>\n",
       "      <td>Coffee Shop</td>\n",
       "      <td>{'type': 'Point', 'coordinates': [-3.693093492...</td>\n",
       "      <td>0.288097</td>\n",
       "    </tr>\n",
       "    <tr>\n",
       "      <th>1</th>\n",
       "      <td>{'$oid': '61927aa69a24db8a1dc3703a'}</td>\n",
       "      <td>Starbucks</td>\n",
       "      <td>40.447729</td>\n",
       "      <td>-3.695175</td>\n",
       "      <td>Coffee Shop</td>\n",
       "      <td>{'type': 'Point', 'coordinates': [-3.695175471...</td>\n",
       "      <td>0.328909</td>\n",
       "    </tr>\n",
       "    <tr>\n",
       "      <th>2</th>\n",
       "      <td>{'$oid': '61927aa69a24db8a1dc37063'}</td>\n",
       "      <td>Metro Nuevos Ministerios</td>\n",
       "      <td>40.446193</td>\n",
       "      <td>-3.692379</td>\n",
       "      <td>Metro</td>\n",
       "      <td>{'type': 'Point', 'coordinates': [-3.692379014...</td>\n",
       "      <td>0.432545</td>\n",
       "    </tr>\n",
       "    <tr>\n",
       "      <th>3</th>\n",
       "      <td>{'$oid': '61927aa69a24db8a1dc37011'}</td>\n",
       "      <td>Moby Dick Club</td>\n",
       "      <td>40.454592</td>\n",
       "      <td>-3.693674</td>\n",
       "      <td>Pub</td>\n",
       "      <td>{'type': 'Point', 'coordinates': [-3.693673676...</td>\n",
       "      <td>0.508260</td>\n",
       "    </tr>\n",
       "    <tr>\n",
       "      <th>4</th>\n",
       "      <td>{'$oid': '61927aa69a24db8a1dc3705e'}</td>\n",
       "      <td>Vía 1</td>\n",
       "      <td>40.445486</td>\n",
       "      <td>-3.691728</td>\n",
       "      <td>Platform</td>\n",
       "      <td>{'type': 'Point', 'coordinates': [-3.691727835...</td>\n",
       "      <td>0.517753</td>\n",
       "    </tr>\n",
       "    <tr>\n",
       "      <th>...</th>\n",
       "      <td>...</td>\n",
       "      <td>...</td>\n",
       "      <td>...</td>\n",
       "      <td>...</td>\n",
       "      <td>...</td>\n",
       "      <td>...</td>\n",
       "      <td>...</td>\n",
       "    </tr>\n",
       "    <tr>\n",
       "      <th>91</th>\n",
       "      <td>{'$oid': '61927aa69a24db8a1dc37068'}</td>\n",
       "      <td>AVE Madrid-Albacete</td>\n",
       "      <td>40.405705</td>\n",
       "      <td>-3.689699</td>\n",
       "      <td>Train Station</td>\n",
       "      <td>{'type': 'Point', 'coordinates': [-3.689698909...</td>\n",
       "      <td>4.940115</td>\n",
       "    </tr>\n",
       "    <tr>\n",
       "      <th>92</th>\n",
       "      <td>{'$oid': '61927aa69a24db8a1dc3704b'}</td>\n",
       "      <td>Starbucks</td>\n",
       "      <td>40.462823</td>\n",
       "      <td>-3.636758</td>\n",
       "      <td>Coffee Shop</td>\n",
       "      <td>{'type': 'Point', 'coordinates': [-3.636758032...</td>\n",
       "      <td>4.949107</td>\n",
       "    </tr>\n",
       "    <tr>\n",
       "      <th>93</th>\n",
       "      <td>{'$oid': '61927aa69a24db8a1dc3705b'}</td>\n",
       "      <td>Estación de Cercanías de Madrid-Atocha</td>\n",
       "      <td>40.405497</td>\n",
       "      <td>-3.688216</td>\n",
       "      <td>Train Station</td>\n",
       "      <td>{'type': 'Point', 'coordinates': [-3.688215570...</td>\n",
       "      <td>4.971498</td>\n",
       "    </tr>\n",
       "    <tr>\n",
       "      <th>94</th>\n",
       "      <td>{'$oid': '61927aa69a24db8a1dc3706a'}</td>\n",
       "      <td>Anden 5 AVE Estación de Madrid-Puerta de Atocha</td>\n",
       "      <td>40.405386</td>\n",
       "      <td>-3.689466</td>\n",
       "      <td>Train Station</td>\n",
       "      <td>{'type': 'Point', 'coordinates': [-3.689466079...</td>\n",
       "      <td>4.976646</td>\n",
       "    </tr>\n",
       "    <tr>\n",
       "      <th>95</th>\n",
       "      <td>{'$oid': '61927aa69a24db8a1dc3706b'}</td>\n",
       "      <td>Vía 11</td>\n",
       "      <td>40.405148</td>\n",
       "      <td>-3.689649</td>\n",
       "      <td>Train Station</td>\n",
       "      <td>{'type': 'Point', 'coordinates': [-3.689649371...</td>\n",
       "      <td>5.002220</td>\n",
       "    </tr>\n",
       "  </tbody>\n",
       "</table>\n",
       "<p>96 rows × 7 columns</p>\n",
       "</div>"
      ],
      "text/plain": [
       "                                     _id  \\\n",
       "0   {'$oid': '61927aa69a24db8a1dc37033'}   \n",
       "1   {'$oid': '61927aa69a24db8a1dc3703a'}   \n",
       "2   {'$oid': '61927aa69a24db8a1dc37063'}   \n",
       "3   {'$oid': '61927aa69a24db8a1dc37011'}   \n",
       "4   {'$oid': '61927aa69a24db8a1dc3705e'}   \n",
       "..                                   ...   \n",
       "91  {'$oid': '61927aa69a24db8a1dc37068'}   \n",
       "92  {'$oid': '61927aa69a24db8a1dc3704b'}   \n",
       "93  {'$oid': '61927aa69a24db8a1dc3705b'}   \n",
       "94  {'$oid': '61927aa69a24db8a1dc3706a'}   \n",
       "95  {'$oid': '61927aa69a24db8a1dc3706b'}   \n",
       "\n",
       "                                               name        lat       lng  \\\n",
       "0                                         Starbucks  40.447489 -3.693093   \n",
       "1                                         Starbucks  40.447729 -3.695175   \n",
       "2                          Metro Nuevos Ministerios  40.446193 -3.692379   \n",
       "3                                    Moby Dick Club  40.454592 -3.693674   \n",
       "4                                             Vía 1  40.445486 -3.691728   \n",
       "..                                              ...        ...       ...   \n",
       "91                              AVE Madrid-Albacete  40.405705 -3.689699   \n",
       "92                                        Starbucks  40.462823 -3.636758   \n",
       "93           Estación de Cercanías de Madrid-Atocha  40.405497 -3.688216   \n",
       "94  Anden 5 AVE Estación de Madrid-Puerta de Atocha  40.405386 -3.689466   \n",
       "95                                           Vía 11  40.405148 -3.689649   \n",
       "\n",
       "        shortName                                           geometry  distance  \n",
       "0     Coffee Shop  {'type': 'Point', 'coordinates': [-3.693093492...  0.288097  \n",
       "1     Coffee Shop  {'type': 'Point', 'coordinates': [-3.695175471...  0.328909  \n",
       "2           Metro  {'type': 'Point', 'coordinates': [-3.692379014...  0.432545  \n",
       "3             Pub  {'type': 'Point', 'coordinates': [-3.693673676...  0.508260  \n",
       "4        Platform  {'type': 'Point', 'coordinates': [-3.691727835...  0.517753  \n",
       "..            ...                                                ...       ...  \n",
       "91  Train Station  {'type': 'Point', 'coordinates': [-3.689698909...  4.940115  \n",
       "92    Coffee Shop  {'type': 'Point', 'coordinates': [-3.636758032...  4.949107  \n",
       "93  Train Station  {'type': 'Point', 'coordinates': [-3.688215570...  4.971498  \n",
       "94  Train Station  {'type': 'Point', 'coordinates': [-3.689466079...  4.976646  \n",
       "95  Train Station  {'type': 'Point', 'coordinates': [-3.689649371...  5.002220  \n",
       "\n",
       "[96 rows x 7 columns]"
      ]
     },
     "execution_count": 72,
     "metadata": {},
     "output_type": "execute_result"
    }
   ],
   "source": [
    "mad_df = pd.DataFrame(mad_json)\n",
    "mad_df"
   ]
  },
  {
   "cell_type": "code",
   "execution_count": 51,
   "id": "442ade9d",
   "metadata": {},
   "outputs": [
    {
     "data": {
      "text/plain": [
       "Coffee Shop         29\n",
       "Pub                 27\n",
       "Train Station       23\n",
       "Basketball Court     5\n",
       "Train                4\n",
       "Platform             2\n",
       "Bar                  2\n",
       "Metro                1\n",
       "Gym / Fitness        1\n",
       "Rock Club            1\n",
       "Preschool            1\n",
       "Name: shortName, dtype: int64"
      ]
     },
     "execution_count": 51,
     "metadata": {},
     "output_type": "execute_result"
    }
   ],
   "source": [
    "mad_df['shortName'].value_counts()"
   ]
  },
  {
   "cell_type": "code",
   "execution_count": 86,
   "id": "281522e1",
   "metadata": {},
   "outputs": [],
   "source": [
    "mad_df['shortName'].replace({'Train': 'Train Station', 'Platform': 'Train Station', 'Bar': 'Pub', 'Metro': 'Train Station', 'Gym / Fitness': 'Basketball Court', 'Rock Club': 'Pub'}, inplace=True)\n"
   ]
  },
  {
   "cell_type": "code",
   "execution_count": 87,
   "id": "305dbf1e",
   "metadata": {},
   "outputs": [
    {
     "data": {
      "text/plain": [
       "Train Station       30\n",
       "Pub                 30\n",
       "Coffee Shop         29\n",
       "Basketball Court     6\n",
       "Preschool            1\n",
       "Name: shortName, dtype: int64"
      ]
     },
     "execution_count": 87,
     "metadata": {},
     "output_type": "execute_result"
    }
   ],
   "source": [
    "mad_df['shortName'].value_counts()"
   ]
  },
  {
   "cell_type": "code",
   "execution_count": 88,
   "id": "9dd260a7",
   "metadata": {},
   "outputs": [],
   "source": [
    "group = mad_df[\"distance\"].groupby(mad_df[\"shortName\"]).mean()"
   ]
  },
  {
   "cell_type": "code",
   "execution_count": 91,
   "id": "a677c631",
   "metadata": {},
   "outputs": [],
   "source": [
    "mad_group = mad_df.groupby(mad_df[\"shortName\"]).mean()"
   ]
  },
  {
   "cell_type": "code",
   "execution_count": 92,
   "id": "409ae996",
   "metadata": {},
   "outputs": [
    {
     "data": {
      "text/html": [
       "<div>\n",
       "<style scoped>\n",
       "    .dataframe tbody tr th:only-of-type {\n",
       "        vertical-align: middle;\n",
       "    }\n",
       "\n",
       "    .dataframe tbody tr th {\n",
       "        vertical-align: top;\n",
       "    }\n",
       "\n",
       "    .dataframe thead th {\n",
       "        text-align: right;\n",
       "    }\n",
       "</style>\n",
       "<table border=\"1\" class=\"dataframe\">\n",
       "  <thead>\n",
       "    <tr style=\"text-align: right;\">\n",
       "      <th></th>\n",
       "      <th>lat</th>\n",
       "      <th>lng</th>\n",
       "      <th>distance</th>\n",
       "    </tr>\n",
       "    <tr>\n",
       "      <th>shortName</th>\n",
       "      <th></th>\n",
       "      <th></th>\n",
       "      <th></th>\n",
       "    </tr>\n",
       "  </thead>\n",
       "  <tbody>\n",
       "    <tr>\n",
       "      <th>Basketball Court</th>\n",
       "      <td>40.443210</td>\n",
       "      <td>-3.685107</td>\n",
       "      <td>2.879925</td>\n",
       "    </tr>\n",
       "    <tr>\n",
       "      <th>Coffee Shop</th>\n",
       "      <td>40.428382</td>\n",
       "      <td>-3.696877</td>\n",
       "      <td>3.104004</td>\n",
       "    </tr>\n",
       "    <tr>\n",
       "      <th>Preschool</th>\n",
       "      <td>40.421212</td>\n",
       "      <td>-3.717058</td>\n",
       "      <td>3.809429</td>\n",
       "    </tr>\n",
       "    <tr>\n",
       "      <th>Pub</th>\n",
       "      <td>40.437561</td>\n",
       "      <td>-3.694952</td>\n",
       "      <td>2.423203</td>\n",
       "    </tr>\n",
       "    <tr>\n",
       "      <th>Train Station</th>\n",
       "      <td>40.435940</td>\n",
       "      <td>-3.691228</td>\n",
       "      <td>3.299591</td>\n",
       "    </tr>\n",
       "  </tbody>\n",
       "</table>\n",
       "</div>"
      ],
      "text/plain": [
       "                        lat       lng  distance\n",
       "shortName                                      \n",
       "Basketball Court  40.443210 -3.685107  2.879925\n",
       "Coffee Shop       40.428382 -3.696877  3.104004\n",
       "Preschool         40.421212 -3.717058  3.809429\n",
       "Pub               40.437561 -3.694952  2.423203\n",
       "Train Station     40.435940 -3.691228  3.299591"
      ]
     },
     "execution_count": 92,
     "metadata": {},
     "output_type": "execute_result"
    }
   ],
   "source": [
    "mad_group"
   ]
  },
  {
   "cell_type": "code",
   "execution_count": 93,
   "id": "b55c7f47",
   "metadata": {},
   "outputs": [
    {
     "data": {
      "text/plain": [
       "2.8799248575749803"
      ]
     },
     "execution_count": 93,
     "metadata": {},
     "output_type": "execute_result"
    }
   ],
   "source": [
    "mad_group['distance'][0]"
   ]
  },
  {
   "cell_type": "code",
   "execution_count": 94,
   "id": "e4082a7c",
   "metadata": {},
   "outputs": [],
   "source": [
    "pun_train = 0.3\n",
    "pun_pub = 0.3\n",
    "pun_coffee = 0.2\n",
    "pun_basket = 0.1\n",
    "pun_preschool = 0.1"
   ]
  },
  {
   "cell_type": "code",
   "execution_count": 97,
   "id": "45bc884c",
   "metadata": {},
   "outputs": [],
   "source": [
    "mad_pun = mad_group['distance'][0] * pun_basket + mad_group['distance'][1] * pun_coffee + mad_group['distance'][2] * pun_preschool + mad_group['distance'][3] * pun_pub + mad_group['distance'][4] * pun_train \n"
   ]
  },
  {
   "cell_type": "code",
   "execution_count": 98,
   "id": "a7a0c6d6",
   "metadata": {},
   "outputs": [
    {
     "data": {
      "text/plain": [
       "3.006574420479695"
      ]
     },
     "execution_count": 98,
     "metadata": {},
     "output_type": "execute_result"
    }
   ],
   "source": [
    "mad_pun"
   ]
  },
  {
   "cell_type": "code",
   "execution_count": 36,
   "id": "42c5c318",
   "metadata": {},
   "outputs": [],
   "source": [
    "query_sf = [{\"$geoNear\" : {'near': sf_coord,\n",
    "                        'distanceField' : 'distance',\n",
    "                        'maxDistance' : 3000,\n",
    "                        'distanceMultiplier': 6371,\n",
    "                        'spherical' : True}}]"
   ]
  },
  {
   "cell_type": "code",
   "execution_count": 38,
   "id": "065b0548",
   "metadata": {},
   "outputs": [],
   "source": [
    "geoloc_sf = san_francisco.aggregate(query_sf)"
   ]
  },
  {
   "cell_type": "code",
   "execution_count": 39,
   "id": "a4921b86",
   "metadata": {},
   "outputs": [],
   "source": [
    "sf_json = json.loads(dumps(geoloc_sf))\n",
    "# sf_json"
   ]
  },
  {
   "cell_type": "code",
   "execution_count": 66,
   "id": "5ee1d13f",
   "metadata": {},
   "outputs": [],
   "source": [
    "sf_df = pd.DataFrame(sf_json)\n",
    "#sf_df"
   ]
  },
  {
   "cell_type": "code",
   "execution_count": 53,
   "id": "ecab093d",
   "metadata": {},
   "outputs": [
    {
     "data": {
      "text/plain": [
       "Coffee Shop         8\n",
       "Train               5\n",
       "Train Station       3\n",
       "Preschool           3\n",
       "Basketball Court    2\n",
       "Park                1\n",
       "Bar                 1\n",
       "Name: shortName, dtype: int64"
      ]
     },
     "execution_count": 53,
     "metadata": {},
     "output_type": "execute_result"
    }
   ],
   "source": [
    "sf_df['shortName'].value_counts()"
   ]
  },
  {
   "cell_type": "code",
   "execution_count": 67,
   "id": "2d132ced",
   "metadata": {},
   "outputs": [],
   "source": [
    "sf_df['shortName'].replace({'Train': 'Train Station', 'Bar': 'Pub', 'Park': 'Basketball Court'}, inplace=True)\n"
   ]
  },
  {
   "cell_type": "code",
   "execution_count": 69,
   "id": "55e96fdd",
   "metadata": {},
   "outputs": [
    {
     "data": {
      "text/plain": [
       "Train Station       8\n",
       "Coffee Shop         8\n",
       "Preschool           3\n",
       "Basketball Court    3\n",
       "Pub                 1\n",
       "Name: shortName, dtype: int64"
      ]
     },
     "execution_count": 69,
     "metadata": {},
     "output_type": "execute_result"
    }
   ],
   "source": [
    "sf_df['shortName'].value_counts()"
   ]
  },
  {
   "cell_type": "code",
   "execution_count": 99,
   "id": "3b9a1b37",
   "metadata": {},
   "outputs": [
    {
     "data": {
      "text/html": [
       "<div>\n",
       "<style scoped>\n",
       "    .dataframe tbody tr th:only-of-type {\n",
       "        vertical-align: middle;\n",
       "    }\n",
       "\n",
       "    .dataframe tbody tr th {\n",
       "        vertical-align: top;\n",
       "    }\n",
       "\n",
       "    .dataframe thead th {\n",
       "        text-align: right;\n",
       "    }\n",
       "</style>\n",
       "<table border=\"1\" class=\"dataframe\">\n",
       "  <thead>\n",
       "    <tr style=\"text-align: right;\">\n",
       "      <th></th>\n",
       "      <th>lat</th>\n",
       "      <th>lng</th>\n",
       "      <th>distance</th>\n",
       "    </tr>\n",
       "    <tr>\n",
       "      <th>shortName</th>\n",
       "      <th></th>\n",
       "      <th></th>\n",
       "      <th></th>\n",
       "    </tr>\n",
       "  </thead>\n",
       "  <tbody>\n",
       "    <tr>\n",
       "      <th>Basketball Court</th>\n",
       "      <td>37.716112</td>\n",
       "      <td>-122.427839</td>\n",
       "      <td>4.402140</td>\n",
       "    </tr>\n",
       "    <tr>\n",
       "      <th>Coffee Shop</th>\n",
       "      <td>37.665030</td>\n",
       "      <td>-122.442495</td>\n",
       "      <td>5.191138</td>\n",
       "    </tr>\n",
       "    <tr>\n",
       "      <th>Preschool</th>\n",
       "      <td>37.678496</td>\n",
       "      <td>-122.409170</td>\n",
       "      <td>3.912461</td>\n",
       "    </tr>\n",
       "    <tr>\n",
       "      <th>Pub</th>\n",
       "      <td>37.714243</td>\n",
       "      <td>-122.436415</td>\n",
       "      <td>4.691268</td>\n",
       "    </tr>\n",
       "    <tr>\n",
       "      <th>Train Station</th>\n",
       "      <td>37.687490</td>\n",
       "      <td>-122.402535</td>\n",
       "      <td>3.061211</td>\n",
       "    </tr>\n",
       "  </tbody>\n",
       "</table>\n",
       "</div>"
      ],
      "text/plain": [
       "                        lat         lng  distance\n",
       "shortName                                        \n",
       "Basketball Court  37.716112 -122.427839  4.402140\n",
       "Coffee Shop       37.665030 -122.442495  5.191138\n",
       "Preschool         37.678496 -122.409170  3.912461\n",
       "Pub               37.714243 -122.436415  4.691268\n",
       "Train Station     37.687490 -122.402535  3.061211"
      ]
     },
     "execution_count": 99,
     "metadata": {},
     "output_type": "execute_result"
    }
   ],
   "source": [
    "group = sf_df[\"distance\"].groupby(sf_df[\"shortName\"]).mean()\n",
    "sf_group = sf_df.groupby(sf_df[\"shortName\"]).mean()\n",
    "sf_group"
   ]
  },
  {
   "cell_type": "code",
   "execution_count": 100,
   "id": "05918786",
   "metadata": {},
   "outputs": [],
   "source": [
    "sf_pun = sf_group['distance'][0] * pun_basket + sf_group['distance'][1] * pun_coffee + sf_group['distance'][2] * pun_preschool + sf_group['distance'][3] * pun_pub + sf_group['distance'][4] * pun_train \n"
   ]
  },
  {
   "cell_type": "code",
   "execution_count": 101,
   "id": "b7e07bba",
   "metadata": {},
   "outputs": [
    {
     "data": {
      "text/plain": [
       "4.195431765347487"
      ]
     },
     "execution_count": 101,
     "metadata": {},
     "output_type": "execute_result"
    }
   ],
   "source": [
    "sf_pun"
   ]
  },
  {
   "cell_type": "code",
   "execution_count": 44,
   "id": "fa3086f4",
   "metadata": {},
   "outputs": [],
   "source": [
    "query_ta = [{\"$geoNear\" : {'near': ta_coord,\n",
    "                        'distanceField' : 'distance',\n",
    "                        'maxDistance' : 3000,\n",
    "                        'distanceMultiplier': 6371,\n",
    "                        'spherical' : True}}]"
   ]
  },
  {
   "cell_type": "code",
   "execution_count": 45,
   "id": "2043aca5",
   "metadata": {},
   "outputs": [],
   "source": [
    "geoloc_ta = tel_aviv.aggregate(query_ta)"
   ]
  },
  {
   "cell_type": "code",
   "execution_count": 46,
   "id": "abba194e",
   "metadata": {},
   "outputs": [],
   "source": [
    "ta_json = json.loads(dumps(geoloc_ta))"
   ]
  },
  {
   "cell_type": "code",
   "execution_count": 70,
   "id": "608b4b42",
   "metadata": {},
   "outputs": [],
   "source": [
    "#ta_json"
   ]
  },
  {
   "cell_type": "code",
   "execution_count": 76,
   "id": "0f1482af",
   "metadata": {},
   "outputs": [],
   "source": [
    "ta_df1 = pd.DataFrame(ta_json)\n",
    "#ta_df1"
   ]
  },
  {
   "cell_type": "code",
   "execution_count": 77,
   "id": "b7cdf3c4",
   "metadata": {},
   "outputs": [
    {
     "data": {
      "text/plain": [
       "Pub                 21\n",
       "Preschool           11\n",
       "Platform             8\n",
       "Bar                  7\n",
       "Basketball Court     6\n",
       "Train Station        6\n",
       "Café                 3\n",
       "Train                2\n",
       "Beer Garden          1\n",
       "Irish                1\n",
       "Historic Site        1\n",
       "Name: shortName, dtype: int64"
      ]
     },
     "execution_count": 77,
     "metadata": {},
     "output_type": "execute_result"
    }
   ],
   "source": [
    "ta_df1['shortName'].value_counts()"
   ]
  },
  {
   "cell_type": "code",
   "execution_count": 78,
   "id": "5f2936a7",
   "metadata": {},
   "outputs": [],
   "source": [
    "ta_df1['shortName'].replace({'Train': 'Train Station', 'Platform': 'Train Station', 'Bar': 'Pub', 'Café': 'Coffee Shop', 'Beer Garden': 'Pub', 'Irish': 'Pub'}, inplace=True)\n"
   ]
  },
  {
   "cell_type": "code",
   "execution_count": 79,
   "id": "8ee2ff5a",
   "metadata": {},
   "outputs": [
    {
     "data": {
      "text/plain": [
       "Pub                 30\n",
       "Train Station       16\n",
       "Preschool           11\n",
       "Basketball Court     6\n",
       "Coffee Shop          3\n",
       "Historic Site        1\n",
       "Name: shortName, dtype: int64"
      ]
     },
     "execution_count": 79,
     "metadata": {},
     "output_type": "execute_result"
    }
   ],
   "source": [
    "ta_df1['shortName'].value_counts()"
   ]
  },
  {
   "cell_type": "code",
   "execution_count": 80,
   "id": "4a4e7767",
   "metadata": {},
   "outputs": [],
   "source": [
    "ta_df = ta_df1.loc[ta_df1['shortName'] != 'Historic Site']"
   ]
  },
  {
   "cell_type": "code",
   "execution_count": 81,
   "id": "57e232c6",
   "metadata": {
    "scrolled": true
   },
   "outputs": [
    {
     "data": {
      "text/plain": [
       "Pub                 30\n",
       "Train Station       16\n",
       "Preschool           11\n",
       "Basketball Court     6\n",
       "Coffee Shop          3\n",
       "Name: shortName, dtype: int64"
      ]
     },
     "execution_count": 81,
     "metadata": {},
     "output_type": "execute_result"
    }
   ],
   "source": [
    "ta_df['shortName'].value_counts()"
   ]
  },
  {
   "cell_type": "code",
   "execution_count": 102,
   "id": "abfcb115",
   "metadata": {},
   "outputs": [
    {
     "data": {
      "text/html": [
       "<div>\n",
       "<style scoped>\n",
       "    .dataframe tbody tr th:only-of-type {\n",
       "        vertical-align: middle;\n",
       "    }\n",
       "\n",
       "    .dataframe tbody tr th {\n",
       "        vertical-align: top;\n",
       "    }\n",
       "\n",
       "    .dataframe thead th {\n",
       "        text-align: right;\n",
       "    }\n",
       "</style>\n",
       "<table border=\"1\" class=\"dataframe\">\n",
       "  <thead>\n",
       "    <tr style=\"text-align: right;\">\n",
       "      <th></th>\n",
       "      <th>lat</th>\n",
       "      <th>lng</th>\n",
       "      <th>distance</th>\n",
       "    </tr>\n",
       "    <tr>\n",
       "      <th>shortName</th>\n",
       "      <th></th>\n",
       "      <th></th>\n",
       "      <th></th>\n",
       "    </tr>\n",
       "  </thead>\n",
       "  <tbody>\n",
       "    <tr>\n",
       "      <th>Basketball Court</th>\n",
       "      <td>32.085242</td>\n",
       "      <td>34.793452</td>\n",
       "      <td>3.112211</td>\n",
       "    </tr>\n",
       "    <tr>\n",
       "      <th>Coffee Shop</th>\n",
       "      <td>32.077061</td>\n",
       "      <td>34.768616</td>\n",
       "      <td>2.458585</td>\n",
       "    </tr>\n",
       "    <tr>\n",
       "      <th>Preschool</th>\n",
       "      <td>32.086835</td>\n",
       "      <td>34.793249</td>\n",
       "      <td>2.738236</td>\n",
       "    </tr>\n",
       "    <tr>\n",
       "      <th>Pub</th>\n",
       "      <td>32.072628</td>\n",
       "      <td>34.775462</td>\n",
       "      <td>2.151556</td>\n",
       "    </tr>\n",
       "    <tr>\n",
       "      <th>Train Station</th>\n",
       "      <td>32.080286</td>\n",
       "      <td>34.797069</td>\n",
       "      <td>2.323809</td>\n",
       "    </tr>\n",
       "  </tbody>\n",
       "</table>\n",
       "</div>"
      ],
      "text/plain": [
       "                        lat        lng  distance\n",
       "shortName                                       \n",
       "Basketball Court  32.085242  34.793452  3.112211\n",
       "Coffee Shop       32.077061  34.768616  2.458585\n",
       "Preschool         32.086835  34.793249  2.738236\n",
       "Pub               32.072628  34.775462  2.151556\n",
       "Train Station     32.080286  34.797069  2.323809"
      ]
     },
     "execution_count": 102,
     "metadata": {},
     "output_type": "execute_result"
    }
   ],
   "source": [
    "group = ta_df[\"distance\"].groupby(ta_df[\"shortName\"]).mean()\n",
    "ta_group = ta_df.groupby(ta_df[\"shortName\"]).mean()\n",
    "ta_group"
   ]
  },
  {
   "cell_type": "code",
   "execution_count": 103,
   "id": "0b4bcd0f",
   "metadata": {},
   "outputs": [],
   "source": [
    "ta_pun = ta_group['distance'][0] * pun_basket + ta_group['distance'][1] * pun_coffee + ta_group['distance'][2] * pun_preschool + ta_group['distance'][3] * pun_pub + ta_group['distance'][4] * pun_train \n"
   ]
  },
  {
   "cell_type": "code",
   "execution_count": 104,
   "id": "fa7a43dd",
   "metadata": {},
   "outputs": [
    {
     "data": {
      "text/plain": [
       "2.4193714282739"
      ]
     },
     "execution_count": 104,
     "metadata": {},
     "output_type": "execute_result"
    }
   ],
   "source": [
    "ta_pun"
   ]
  },
  {
   "cell_type": "code",
   "execution_count": 108,
   "id": "b430e3e3",
   "metadata": {},
   "outputs": [
    {
     "data": {
      "text/plain": [
       "{'Madrid': 3.006574420479695,\n",
       " 'San Francisco': 4.195431765347487,\n",
       " 'Tel Aviv': 2.4193714282739}"
      ]
     },
     "execution_count": 108,
     "metadata": {},
     "output_type": "execute_result"
    }
   ],
   "source": [
    "final_pun = {'Madrid': mad_pun, 'San Francisco': sf_pun, 'Tel Aviv': ta_pun}\n",
    "final_pun"
   ]
  },
  {
   "cell_type": "code",
   "execution_count": null,
   "id": "c78c90ab",
   "metadata": {},
   "outputs": [],
   "source": []
  }
 ],
 "metadata": {
  "kernelspec": {
   "display_name": "ironhack",
   "language": "python",
   "name": "ironhack"
  },
  "language_info": {
   "codemirror_mode": {
    "name": "ipython",
    "version": 3
   },
   "file_extension": ".py",
   "mimetype": "text/x-python",
   "name": "python",
   "nbconvert_exporter": "python",
   "pygments_lexer": "ipython3",
   "version": "3.8.10"
  }
 },
 "nbformat": 4,
 "nbformat_minor": 5
}
