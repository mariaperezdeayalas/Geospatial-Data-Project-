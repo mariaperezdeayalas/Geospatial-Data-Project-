{
 "cells": [
  {
   "cell_type": "markdown",
   "id": "a72a8cc0",
   "metadata": {},
   "source": [
    "# Geospatial Queries"
   ]
  },
  {
   "cell_type": "code",
   "execution_count": 1,
   "id": "542cd85e",
   "metadata": {},
   "outputs": [],
   "source": [
    "from pymongo import MongoClient\n",
    "from pymongo import GEOSPHERE\n",
    "from bson.json_util import dumps\n",
    "import json\n",
    "import pandas as pd"
   ]
  },
  {
   "cell_type": "markdown",
   "id": "58430456",
   "metadata": {},
   "source": [
    "## I. Getting the data from MongoDB & establishing my index"
   ]
  },
  {
   "cell_type": "code",
   "execution_count": 2,
   "id": "df29fcaa",
   "metadata": {},
   "outputs": [
    {
     "data": {
      "text/plain": [
       "Database(MongoClient(host=['localhost:27017'], document_class=dict, tz_aware=False, connect=True), 'geospatial_project_ironhack')"
      ]
     },
     "execution_count": 2,
     "metadata": {},
     "output_type": "execute_result"
    }
   ],
   "source": [
    "client = MongoClient(\"localhost:27017\")\n",
    "db = client.get_database(\"geospatial_project_ironhack\")\n",
    "db"
   ]
  },
  {
   "cell_type": "code",
   "execution_count": 5,
   "id": "cc2b3710",
   "metadata": {},
   "outputs": [],
   "source": [
    "madrid = db.get_collection(\"madrid\")\n",
    "san_francisco = db.get_collection(\"san_francisco\")\n",
    "tel_aviv = db.get_collection(\"tel_aviv\")"
   ]
  },
  {
   "cell_type": "code",
   "execution_count": 6,
   "id": "dc93ece1",
   "metadata": {
    "scrolled": true
   },
   "outputs": [
    {
     "data": {
      "text/plain": [
       "'geometry_2dsphere'"
      ]
     },
     "execution_count": 6,
     "metadata": {},
     "output_type": "execute_result"
    }
   ],
   "source": [
    "db.madrid.create_index([('geometry', GEOSPHERE)])"
   ]
  },
  {
   "cell_type": "code",
   "execution_count": 7,
   "id": "85e679e0",
   "metadata": {},
   "outputs": [
    {
     "data": {
      "text/plain": [
       "'geometry_2dsphere'"
      ]
     },
     "execution_count": 7,
     "metadata": {},
     "output_type": "execute_result"
    }
   ],
   "source": [
    "db.san_francisco.create_index([('geometry', GEOSPHERE)])"
   ]
  },
  {
   "cell_type": "code",
   "execution_count": 8,
   "id": "dd83a72f",
   "metadata": {},
   "outputs": [
    {
     "data": {
      "text/plain": [
       "'geometry_2dsphere'"
      ]
     },
     "execution_count": 8,
     "metadata": {},
     "output_type": "execute_result"
    }
   ],
   "source": [
    "db.tel_aviv.create_index([('geometry', GEOSPHERE)])"
   ]
  },
  {
   "cell_type": "code",
   "execution_count": 9,
   "id": "18be1fad",
   "metadata": {
    "scrolled": true
   },
   "outputs": [
    {
     "data": {
      "text/plain": [
       "pymongo.collection.Collection"
      ]
     },
     "execution_count": 9,
     "metadata": {},
     "output_type": "execute_result"
    }
   ],
   "source": [
    "type(madrid)"
   ]
  },
  {
   "cell_type": "markdown",
   "id": "09ccb478",
   "metadata": {},
   "source": [
    "## II. Calculating the distances & weighing "
   ]
  },
  {
   "cell_type": "code",
   "execution_count": 10,
   "id": "27297fe4",
   "metadata": {},
   "outputs": [],
   "source": [
    "mad_coord = [-3.69280, 40.45007]\n",
    "sf_coord = [-122.39846, 37.68461]\n",
    "ta_coord = [34.78461, 32.08757]"
   ]
  },
  {
   "cell_type": "code",
   "execution_count": 11,
   "id": "8428abc5",
   "metadata": {},
   "outputs": [],
   "source": [
    "query_mad = [{\"$geoNear\" : {'near': mad_coord,\n",
    "                        'distanceField' : 'distance',\n",
    "                        'maxDistance' : 3000,\n",
    "                        'distanceMultiplier': 6371,\n",
    "                        'spherical' : True}}]"
   ]
  },
  {
   "cell_type": "code",
   "execution_count": 12,
   "id": "ff6a9bc4",
   "metadata": {
    "scrolled": true
   },
   "outputs": [],
   "source": [
    "geoloc_mad = madrid.aggregate(query_mad)"
   ]
  },
  {
   "cell_type": "code",
   "execution_count": 13,
   "id": "985b051f",
   "metadata": {},
   "outputs": [],
   "source": [
    "mad_json = json.loads(dumps(geoloc_mad))"
   ]
  },
  {
   "cell_type": "code",
   "execution_count": 14,
   "id": "c4891ba7",
   "metadata": {},
   "outputs": [],
   "source": [
    "#mad_json"
   ]
  },
  {
   "cell_type": "code",
   "execution_count": 15,
   "id": "3e22a0ff",
   "metadata": {},
   "outputs": [
    {
     "data": {
      "text/html": [
       "<div>\n",
       "<style scoped>\n",
       "    .dataframe tbody tr th:only-of-type {\n",
       "        vertical-align: middle;\n",
       "    }\n",
       "\n",
       "    .dataframe tbody tr th {\n",
       "        vertical-align: top;\n",
       "    }\n",
       "\n",
       "    .dataframe thead th {\n",
       "        text-align: right;\n",
       "    }\n",
       "</style>\n",
       "<table border=\"1\" class=\"dataframe\">\n",
       "  <thead>\n",
       "    <tr style=\"text-align: right;\">\n",
       "      <th></th>\n",
       "      <th>_id</th>\n",
       "      <th>name</th>\n",
       "      <th>lat</th>\n",
       "      <th>lng</th>\n",
       "      <th>shortName</th>\n",
       "      <th>geometry</th>\n",
       "      <th>distance</th>\n",
       "    </tr>\n",
       "  </thead>\n",
       "  <tbody>\n",
       "    <tr>\n",
       "      <th>220</th>\n",
       "      <td>{'$oid': '6192903d9a24db8a1dc37132'}</td>\n",
       "      <td>Starbucks</td>\n",
       "      <td>40.42195</td>\n",
       "      <td>-3.720378</td>\n",
       "      <td>Coffee Shop</td>\n",
       "      <td>{'type': 'Point', 'coordinates': [-3.720377627...</td>\n",
       "      <td>3.901853</td>\n",
       "    </tr>\n",
       "  </tbody>\n",
       "</table>\n",
       "</div>"
      ],
      "text/plain": [
       "                                      _id       name       lat       lng  \\\n",
       "220  {'$oid': '6192903d9a24db8a1dc37132'}  Starbucks  40.42195 -3.720378   \n",
       "\n",
       "       shortName                                           geometry  distance  \n",
       "220  Coffee Shop  {'type': 'Point', 'coordinates': [-3.720377627...  3.901853  "
      ]
     },
     "execution_count": 15,
     "metadata": {},
     "output_type": "execute_result"
    }
   ],
   "source": [
    "mad_df = pd.DataFrame(mad_json)\n",
    "mad_df.sample()"
   ]
  },
  {
   "cell_type": "code",
   "execution_count": 16,
   "id": "a5e73e56",
   "metadata": {},
   "outputs": [
    {
     "data": {
      "text/plain": [
       "Coffee Shop         87\n",
       "Pub                 81\n",
       "Train Station       69\n",
       "Basketball Court    15\n",
       "Train               12\n",
       "Platform             6\n",
       "Bar                  6\n",
       "Metro                3\n",
       "Gym / Fitness        3\n",
       "Rock Club            3\n",
       "Preschool            3\n",
       "Name: shortName, dtype: int64"
      ]
     },
     "execution_count": 16,
     "metadata": {},
     "output_type": "execute_result"
    }
   ],
   "source": [
    "mad_df['shortName'].value_counts()"
   ]
  },
  {
   "cell_type": "code",
   "execution_count": 17,
   "id": "daabca89",
   "metadata": {},
   "outputs": [],
   "source": [
    "mad_df['shortName'].replace({'Train': 'Train Station', 'Platform': 'Train Station', 'Bar': 'Pub', 'Metro': 'Train Station', 'Gym / Fitness': 'Basketball Court', 'Rock Club': 'Pub'}, inplace=True)\n"
   ]
  },
  {
   "cell_type": "code",
   "execution_count": 18,
   "id": "4a557f62",
   "metadata": {},
   "outputs": [
    {
     "data": {
      "text/plain": [
       "Train Station       90\n",
       "Pub                 90\n",
       "Coffee Shop         87\n",
       "Basketball Court    18\n",
       "Preschool            3\n",
       "Name: shortName, dtype: int64"
      ]
     },
     "execution_count": 18,
     "metadata": {},
     "output_type": "execute_result"
    }
   ],
   "source": [
    "mad_df['shortName'].value_counts()"
   ]
  },
  {
   "cell_type": "code",
   "execution_count": 19,
   "id": "4b5a3bce",
   "metadata": {},
   "outputs": [],
   "source": [
    "group = mad_df[\"distance\"].groupby(mad_df[\"shortName\"]).mean()"
   ]
  },
  {
   "cell_type": "code",
   "execution_count": 20,
   "id": "eead4c1b",
   "metadata": {},
   "outputs": [],
   "source": [
    "mad_group = mad_df.groupby(mad_df[\"shortName\"]).mean()"
   ]
  },
  {
   "cell_type": "code",
   "execution_count": 21,
   "id": "b90bcc63",
   "metadata": {},
   "outputs": [
    {
     "data": {
      "text/html": [
       "<div>\n",
       "<style scoped>\n",
       "    .dataframe tbody tr th:only-of-type {\n",
       "        vertical-align: middle;\n",
       "    }\n",
       "\n",
       "    .dataframe tbody tr th {\n",
       "        vertical-align: top;\n",
       "    }\n",
       "\n",
       "    .dataframe thead th {\n",
       "        text-align: right;\n",
       "    }\n",
       "</style>\n",
       "<table border=\"1\" class=\"dataframe\">\n",
       "  <thead>\n",
       "    <tr style=\"text-align: right;\">\n",
       "      <th></th>\n",
       "      <th>lat</th>\n",
       "      <th>lng</th>\n",
       "      <th>distance</th>\n",
       "    </tr>\n",
       "    <tr>\n",
       "      <th>shortName</th>\n",
       "      <th></th>\n",
       "      <th></th>\n",
       "      <th></th>\n",
       "    </tr>\n",
       "  </thead>\n",
       "  <tbody>\n",
       "    <tr>\n",
       "      <th>Basketball Court</th>\n",
       "      <td>40.443210</td>\n",
       "      <td>-3.685107</td>\n",
       "      <td>2.879925</td>\n",
       "    </tr>\n",
       "    <tr>\n",
       "      <th>Coffee Shop</th>\n",
       "      <td>40.428382</td>\n",
       "      <td>-3.696877</td>\n",
       "      <td>3.104004</td>\n",
       "    </tr>\n",
       "    <tr>\n",
       "      <th>Preschool</th>\n",
       "      <td>40.421212</td>\n",
       "      <td>-3.717058</td>\n",
       "      <td>3.809429</td>\n",
       "    </tr>\n",
       "    <tr>\n",
       "      <th>Pub</th>\n",
       "      <td>40.437561</td>\n",
       "      <td>-3.694952</td>\n",
       "      <td>2.423203</td>\n",
       "    </tr>\n",
       "    <tr>\n",
       "      <th>Train Station</th>\n",
       "      <td>40.435940</td>\n",
       "      <td>-3.691228</td>\n",
       "      <td>3.299591</td>\n",
       "    </tr>\n",
       "  </tbody>\n",
       "</table>\n",
       "</div>"
      ],
      "text/plain": [
       "                        lat       lng  distance\n",
       "shortName                                      \n",
       "Basketball Court  40.443210 -3.685107  2.879925\n",
       "Coffee Shop       40.428382 -3.696877  3.104004\n",
       "Preschool         40.421212 -3.717058  3.809429\n",
       "Pub               40.437561 -3.694952  2.423203\n",
       "Train Station     40.435940 -3.691228  3.299591"
      ]
     },
     "execution_count": 21,
     "metadata": {},
     "output_type": "execute_result"
    }
   ],
   "source": [
    "mad_group"
   ]
  },
  {
   "cell_type": "code",
   "execution_count": 22,
   "id": "3470d8a2",
   "metadata": {},
   "outputs": [
    {
     "data": {
      "text/plain": [
       "2.8799248575749803"
      ]
     },
     "execution_count": 22,
     "metadata": {},
     "output_type": "execute_result"
    }
   ],
   "source": [
    "mad_group['distance'][0]"
   ]
  },
  {
   "cell_type": "code",
   "execution_count": 23,
   "id": "0889b62f",
   "metadata": {},
   "outputs": [],
   "source": [
    "# Establishing my punctuation based on my priorities\n",
    "pun_train = 0.3\n",
    "pun_pub = 0.3\n",
    "pun_coffee = 0.2\n",
    "pun_basket = 0.1\n",
    "pun_preschool = 0.1"
   ]
  },
  {
   "cell_type": "code",
   "execution_count": 24,
   "id": "4dc82bab",
   "metadata": {},
   "outputs": [],
   "source": [
    "mad_pun = mad_group['distance'][0] * pun_basket + mad_group['distance'][1] * pun_coffee + mad_group['distance'][2] * pun_preschool + mad_group['distance'][3] * pun_pub + mad_group['distance'][4] * pun_train \n"
   ]
  },
  {
   "cell_type": "code",
   "execution_count": 25,
   "id": "a42604c3",
   "metadata": {},
   "outputs": [
    {
     "data": {
      "text/plain": [
       "3.006574420479695"
      ]
     },
     "execution_count": 25,
     "metadata": {},
     "output_type": "execute_result"
    }
   ],
   "source": [
    "mad_pun"
   ]
  },
  {
   "cell_type": "code",
   "execution_count": 26,
   "id": "65ce86bc",
   "metadata": {},
   "outputs": [],
   "source": [
    "query_sf = [{\"$geoNear\" : {'near': sf_coord,\n",
    "                        'distanceField' : 'distance',\n",
    "                        'maxDistance' : 3000,\n",
    "                        'distanceMultiplier': 6371,\n",
    "                        'spherical' : True}}]"
   ]
  },
  {
   "cell_type": "code",
   "execution_count": 27,
   "id": "9a58eaa2",
   "metadata": {},
   "outputs": [],
   "source": [
    "geoloc_sf = san_francisco.aggregate(query_sf)"
   ]
  },
  {
   "cell_type": "code",
   "execution_count": 28,
   "id": "30a1070e",
   "metadata": {},
   "outputs": [],
   "source": [
    "sf_json = json.loads(dumps(geoloc_sf))\n",
    "# sf_json"
   ]
  },
  {
   "cell_type": "code",
   "execution_count": 29,
   "id": "a922d26c",
   "metadata": {},
   "outputs": [],
   "source": [
    "sf_df = pd.DataFrame(sf_json)\n",
    "#sf_df"
   ]
  },
  {
   "cell_type": "code",
   "execution_count": 30,
   "id": "03830a65",
   "metadata": {},
   "outputs": [
    {
     "data": {
      "text/plain": [
       "Coffee Shop         16\n",
       "Train               10\n",
       "Train Station        6\n",
       "Preschool            6\n",
       "Basketball Court     4\n",
       "Park                 2\n",
       "Bar                  2\n",
       "Name: shortName, dtype: int64"
      ]
     },
     "execution_count": 30,
     "metadata": {},
     "output_type": "execute_result"
    }
   ],
   "source": [
    "sf_df['shortName'].value_counts()"
   ]
  },
  {
   "cell_type": "code",
   "execution_count": 31,
   "id": "6a02b328",
   "metadata": {},
   "outputs": [],
   "source": [
    "sf_df['shortName'].replace({'Train': 'Train Station', 'Bar': 'Pub', 'Park': 'Basketball Court'}, inplace=True)\n"
   ]
  },
  {
   "cell_type": "code",
   "execution_count": 32,
   "id": "be3716a3",
   "metadata": {},
   "outputs": [
    {
     "data": {
      "text/plain": [
       "Train Station       16\n",
       "Coffee Shop         16\n",
       "Preschool            6\n",
       "Basketball Court     6\n",
       "Pub                  2\n",
       "Name: shortName, dtype: int64"
      ]
     },
     "execution_count": 32,
     "metadata": {},
     "output_type": "execute_result"
    }
   ],
   "source": [
    "sf_df['shortName'].value_counts()"
   ]
  },
  {
   "cell_type": "code",
   "execution_count": 33,
   "id": "e18f9d63",
   "metadata": {},
   "outputs": [
    {
     "data": {
      "text/html": [
       "<div>\n",
       "<style scoped>\n",
       "    .dataframe tbody tr th:only-of-type {\n",
       "        vertical-align: middle;\n",
       "    }\n",
       "\n",
       "    .dataframe tbody tr th {\n",
       "        vertical-align: top;\n",
       "    }\n",
       "\n",
       "    .dataframe thead th {\n",
       "        text-align: right;\n",
       "    }\n",
       "</style>\n",
       "<table border=\"1\" class=\"dataframe\">\n",
       "  <thead>\n",
       "    <tr style=\"text-align: right;\">\n",
       "      <th></th>\n",
       "      <th>lat</th>\n",
       "      <th>lng</th>\n",
       "      <th>distance</th>\n",
       "    </tr>\n",
       "    <tr>\n",
       "      <th>shortName</th>\n",
       "      <th></th>\n",
       "      <th></th>\n",
       "      <th></th>\n",
       "    </tr>\n",
       "  </thead>\n",
       "  <tbody>\n",
       "    <tr>\n",
       "      <th>Basketball Court</th>\n",
       "      <td>37.716112</td>\n",
       "      <td>-122.427839</td>\n",
       "      <td>4.402140</td>\n",
       "    </tr>\n",
       "    <tr>\n",
       "      <th>Coffee Shop</th>\n",
       "      <td>37.665030</td>\n",
       "      <td>-122.442495</td>\n",
       "      <td>5.191138</td>\n",
       "    </tr>\n",
       "    <tr>\n",
       "      <th>Preschool</th>\n",
       "      <td>37.678496</td>\n",
       "      <td>-122.409170</td>\n",
       "      <td>3.912461</td>\n",
       "    </tr>\n",
       "    <tr>\n",
       "      <th>Pub</th>\n",
       "      <td>37.714243</td>\n",
       "      <td>-122.436415</td>\n",
       "      <td>4.691268</td>\n",
       "    </tr>\n",
       "    <tr>\n",
       "      <th>Train Station</th>\n",
       "      <td>37.687490</td>\n",
       "      <td>-122.402535</td>\n",
       "      <td>3.061211</td>\n",
       "    </tr>\n",
       "  </tbody>\n",
       "</table>\n",
       "</div>"
      ],
      "text/plain": [
       "                        lat         lng  distance\n",
       "shortName                                        \n",
       "Basketball Court  37.716112 -122.427839  4.402140\n",
       "Coffee Shop       37.665030 -122.442495  5.191138\n",
       "Preschool         37.678496 -122.409170  3.912461\n",
       "Pub               37.714243 -122.436415  4.691268\n",
       "Train Station     37.687490 -122.402535  3.061211"
      ]
     },
     "execution_count": 33,
     "metadata": {},
     "output_type": "execute_result"
    }
   ],
   "source": [
    "group = sf_df[\"distance\"].groupby(sf_df[\"shortName\"]).mean()\n",
    "sf_group = sf_df.groupby(sf_df[\"shortName\"]).mean()\n",
    "sf_group"
   ]
  },
  {
   "cell_type": "code",
   "execution_count": 34,
   "id": "8d98254b",
   "metadata": {},
   "outputs": [],
   "source": [
    "sf_pun = sf_group['distance'][0] * pun_basket + sf_group['distance'][1] * pun_coffee + sf_group['distance'][2] * pun_preschool + sf_group['distance'][3] * pun_pub + sf_group['distance'][4] * pun_train \n"
   ]
  },
  {
   "cell_type": "code",
   "execution_count": 35,
   "id": "185daff2",
   "metadata": {},
   "outputs": [
    {
     "data": {
      "text/plain": [
       "4.195431765347487"
      ]
     },
     "execution_count": 35,
     "metadata": {},
     "output_type": "execute_result"
    }
   ],
   "source": [
    "sf_pun"
   ]
  },
  {
   "cell_type": "code",
   "execution_count": 36,
   "id": "df33f5ab",
   "metadata": {},
   "outputs": [],
   "source": [
    "query_ta = [{\"$geoNear\" : {'near': ta_coord,\n",
    "                        'distanceField' : 'distance',\n",
    "                        'maxDistance' : 3000,\n",
    "                        'distanceMultiplier': 6371,\n",
    "                        'spherical' : True}}]"
   ]
  },
  {
   "cell_type": "code",
   "execution_count": 37,
   "id": "2fcadeb5",
   "metadata": {},
   "outputs": [],
   "source": [
    "geoloc_ta = tel_aviv.aggregate(query_ta)"
   ]
  },
  {
   "cell_type": "code",
   "execution_count": 38,
   "id": "6ae5035d",
   "metadata": {},
   "outputs": [],
   "source": [
    "ta_json = json.loads(dumps(geoloc_ta))"
   ]
  },
  {
   "cell_type": "code",
   "execution_count": 39,
   "id": "b941adf8",
   "metadata": {},
   "outputs": [],
   "source": [
    "#ta_json"
   ]
  },
  {
   "cell_type": "code",
   "execution_count": 40,
   "id": "741c50f5",
   "metadata": {},
   "outputs": [],
   "source": [
    "ta_df1 = pd.DataFrame(ta_json)\n",
    "#ta_df1"
   ]
  },
  {
   "cell_type": "code",
   "execution_count": 41,
   "id": "56c0da7f",
   "metadata": {},
   "outputs": [
    {
     "data": {
      "text/plain": [
       "Pub                 42\n",
       "Preschool           22\n",
       "Platform            16\n",
       "Bar                 14\n",
       "Basketball Court    12\n",
       "Train Station       12\n",
       "Café                 6\n",
       "Train                4\n",
       "Beer Garden          2\n",
       "Irish                2\n",
       "Historic Site        2\n",
       "Name: shortName, dtype: int64"
      ]
     },
     "execution_count": 41,
     "metadata": {},
     "output_type": "execute_result"
    }
   ],
   "source": [
    "ta_df1['shortName'].value_counts()"
   ]
  },
  {
   "cell_type": "code",
   "execution_count": 42,
   "id": "e2a55f18",
   "metadata": {},
   "outputs": [],
   "source": [
    "ta_df1['shortName'].replace({'Train': 'Train Station', 'Platform': 'Train Station', 'Bar': 'Pub', 'Café': 'Coffee Shop', 'Beer Garden': 'Pub', 'Irish': 'Pub'}, inplace=True)\n"
   ]
  },
  {
   "cell_type": "code",
   "execution_count": 43,
   "id": "627b8df9",
   "metadata": {},
   "outputs": [
    {
     "data": {
      "text/plain": [
       "Pub                 60\n",
       "Train Station       32\n",
       "Preschool           22\n",
       "Basketball Court    12\n",
       "Coffee Shop          6\n",
       "Historic Site        2\n",
       "Name: shortName, dtype: int64"
      ]
     },
     "execution_count": 43,
     "metadata": {},
     "output_type": "execute_result"
    }
   ],
   "source": [
    "ta_df1['shortName'].value_counts()"
   ]
  },
  {
   "cell_type": "code",
   "execution_count": 44,
   "id": "904dc041",
   "metadata": {},
   "outputs": [],
   "source": [
    "ta_df = ta_df1.loc[ta_df1['shortName'] != 'Historic Site']"
   ]
  },
  {
   "cell_type": "code",
   "execution_count": 45,
   "id": "fe5ca7dd",
   "metadata": {
    "scrolled": true
   },
   "outputs": [
    {
     "data": {
      "text/plain": [
       "Pub                 60\n",
       "Train Station       32\n",
       "Preschool           22\n",
       "Basketball Court    12\n",
       "Coffee Shop          6\n",
       "Name: shortName, dtype: int64"
      ]
     },
     "execution_count": 45,
     "metadata": {},
     "output_type": "execute_result"
    }
   ],
   "source": [
    "ta_df['shortName'].value_counts()"
   ]
  },
  {
   "cell_type": "code",
   "execution_count": 46,
   "id": "ba1bd4df",
   "metadata": {},
   "outputs": [
    {
     "data": {
      "text/html": [
       "<div>\n",
       "<style scoped>\n",
       "    .dataframe tbody tr th:only-of-type {\n",
       "        vertical-align: middle;\n",
       "    }\n",
       "\n",
       "    .dataframe tbody tr th {\n",
       "        vertical-align: top;\n",
       "    }\n",
       "\n",
       "    .dataframe thead th {\n",
       "        text-align: right;\n",
       "    }\n",
       "</style>\n",
       "<table border=\"1\" class=\"dataframe\">\n",
       "  <thead>\n",
       "    <tr style=\"text-align: right;\">\n",
       "      <th></th>\n",
       "      <th>lat</th>\n",
       "      <th>lng</th>\n",
       "      <th>distance</th>\n",
       "    </tr>\n",
       "    <tr>\n",
       "      <th>shortName</th>\n",
       "      <th></th>\n",
       "      <th></th>\n",
       "      <th></th>\n",
       "    </tr>\n",
       "  </thead>\n",
       "  <tbody>\n",
       "    <tr>\n",
       "      <th>Basketball Court</th>\n",
       "      <td>32.085242</td>\n",
       "      <td>34.793452</td>\n",
       "      <td>3.112211</td>\n",
       "    </tr>\n",
       "    <tr>\n",
       "      <th>Coffee Shop</th>\n",
       "      <td>32.077061</td>\n",
       "      <td>34.768616</td>\n",
       "      <td>2.458585</td>\n",
       "    </tr>\n",
       "    <tr>\n",
       "      <th>Preschool</th>\n",
       "      <td>32.086835</td>\n",
       "      <td>34.793249</td>\n",
       "      <td>2.738236</td>\n",
       "    </tr>\n",
       "    <tr>\n",
       "      <th>Pub</th>\n",
       "      <td>32.072628</td>\n",
       "      <td>34.775462</td>\n",
       "      <td>2.151556</td>\n",
       "    </tr>\n",
       "    <tr>\n",
       "      <th>Train Station</th>\n",
       "      <td>32.080286</td>\n",
       "      <td>34.797069</td>\n",
       "      <td>2.323809</td>\n",
       "    </tr>\n",
       "  </tbody>\n",
       "</table>\n",
       "</div>"
      ],
      "text/plain": [
       "                        lat        lng  distance\n",
       "shortName                                       \n",
       "Basketball Court  32.085242  34.793452  3.112211\n",
       "Coffee Shop       32.077061  34.768616  2.458585\n",
       "Preschool         32.086835  34.793249  2.738236\n",
       "Pub               32.072628  34.775462  2.151556\n",
       "Train Station     32.080286  34.797069  2.323809"
      ]
     },
     "execution_count": 46,
     "metadata": {},
     "output_type": "execute_result"
    }
   ],
   "source": [
    "group = ta_df[\"distance\"].groupby(ta_df[\"shortName\"]).mean()\n",
    "ta_group = ta_df.groupby(ta_df[\"shortName\"]).mean()\n",
    "ta_group"
   ]
  },
  {
   "cell_type": "code",
   "execution_count": 47,
   "id": "aa4b5194",
   "metadata": {},
   "outputs": [],
   "source": [
    "ta_pun = ta_group['distance'][0] * pun_basket + ta_group['distance'][1] * pun_coffee + ta_group['distance'][2] * pun_preschool + ta_group['distance'][3] * pun_pub + ta_group['distance'][4] * pun_train \n"
   ]
  },
  {
   "cell_type": "code",
   "execution_count": 48,
   "id": "5ee12e20",
   "metadata": {},
   "outputs": [
    {
     "data": {
      "text/plain": [
       "2.4193714282739"
      ]
     },
     "execution_count": 48,
     "metadata": {},
     "output_type": "execute_result"
    }
   ],
   "source": [
    "ta_pun"
   ]
  },
  {
   "cell_type": "markdown",
   "id": "7d1ae3ca",
   "metadata": {},
   "source": [
    "## III. Final outcome"
   ]
  },
  {
   "cell_type": "code",
   "execution_count": 49,
   "id": "6ed12f5c",
   "metadata": {
    "scrolled": true
   },
   "outputs": [
    {
     "data": {
      "text/plain": [
       "{'Madrid': 3.006574420479695,\n",
       " 'San Francisco': 4.195431765347487,\n",
       " 'Tel Aviv': 2.4193714282739}"
      ]
     },
     "execution_count": 49,
     "metadata": {},
     "output_type": "execute_result"
    }
   ],
   "source": [
    "final_pun = {'Madrid': mad_pun, 'San Francisco': sf_pun, 'Tel Aviv': ta_pun}\n",
    "final_pun"
   ]
  },
  {
   "cell_type": "markdown",
   "id": "241bdcb3",
   "metadata": {},
   "source": [
    "#### Based on the above punctuations, the best city to locate the offices is Tel Aviv based on my requirements as it is the one with a lower distances between places"
   ]
  }
 ],
 "metadata": {
  "kernelspec": {
   "display_name": "ironhack",
   "language": "python",
   "name": "ironhack"
  },
  "language_info": {
   "codemirror_mode": {
    "name": "ipython",
    "version": 3
   },
   "file_extension": ".py",
   "mimetype": "text/x-python",
   "name": "python",
   "nbconvert_exporter": "python",
   "pygments_lexer": "ipython3",
   "version": "3.8.10"
  }
 },
 "nbformat": 4,
 "nbformat_minor": 5
}
