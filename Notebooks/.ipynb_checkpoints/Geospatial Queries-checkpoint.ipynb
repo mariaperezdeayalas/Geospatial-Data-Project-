{
 "cells": [
  {
   "cell_type": "code",
   "execution_count": 54,
   "id": "19e1e300",
   "metadata": {},
   "outputs": [],
   "source": [
    "from pymongo import MongoClient\n",
    "from pymongo import GEOSPHERE"
   ]
  },
  {
   "cell_type": "code",
   "execution_count": 55,
   "id": "280e70e9",
   "metadata": {},
   "outputs": [
    {
     "data": {
      "text/plain": [
       "Database(MongoClient(host=['localhost:27017'], document_class=dict, tz_aware=False, connect=True), 'geospatial_project_ironhack')"
      ]
     },
     "execution_count": 55,
     "metadata": {},
     "output_type": "execute_result"
    }
   ],
   "source": [
    "client = MongoClient(\"localhost:27017\")\n",
    "db = client.get_database(\"geospatial_project_ironhack\")\n",
    "db"
   ]
  },
  {
   "cell_type": "code",
   "execution_count": 56,
   "id": "a68bb86e",
   "metadata": {},
   "outputs": [],
   "source": [
    "madrid = db.get_collection(\"madrid\")\n",
    "san_francisco = db.get_collection(\"san_francisco\")\n",
    "tel_aviv = db.get_collection(\"tel_aviv\")"
   ]
  },
  {
   "cell_type": "code",
   "execution_count": 57,
   "id": "7f20cd5f",
   "metadata": {},
   "outputs": [
    {
     "data": {
      "text/plain": [
       "'geometry_2dsphere'"
      ]
     },
     "execution_count": 57,
     "metadata": {},
     "output_type": "execute_result"
    }
   ],
   "source": [
    "db.madrid.create_index([('geometry', GEOSPHERE)])"
   ]
  },
  {
   "cell_type": "code",
   "execution_count": 58,
   "id": "9c4e2a20",
   "metadata": {},
   "outputs": [
    {
     "data": {
      "text/plain": [
       "'geometry_2dsphere'"
      ]
     },
     "execution_count": 58,
     "metadata": {},
     "output_type": "execute_result"
    }
   ],
   "source": [
    "db.san_francisco.create_index([('geometry', GEOSPHERE)])"
   ]
  },
  {
   "cell_type": "code",
   "execution_count": 59,
   "id": "48f9227f",
   "metadata": {},
   "outputs": [
    {
     "data": {
      "text/plain": [
       "'geometry_2dsphere'"
      ]
     },
     "execution_count": 59,
     "metadata": {},
     "output_type": "execute_result"
    }
   ],
   "source": [
    "db.tel_aviv.create_index([('geometry', GEOSPHERE)])"
   ]
  },
  {
   "cell_type": "code",
   "execution_count": 60,
   "id": "210302fb",
   "metadata": {},
   "outputs": [],
   "source": [
    "def type_point(lista):\n",
    "    return {\"type\":\"Point\", \"coordinates\": lista}"
   ]
  },
  {
   "cell_type": "code",
   "execution_count": 61,
   "id": "37d0fc9f",
   "metadata": {},
   "outputs": [
    {
     "data": {
      "text/plain": [
       "pymongo.collection.Collection"
      ]
     },
     "execution_count": 61,
     "metadata": {},
     "output_type": "execute_result"
    }
   ],
   "source": [
    "type(madrid)"
   ]
  },
  {
   "cell_type": "code",
   "execution_count": 62,
   "id": "513ec107",
   "metadata": {},
   "outputs": [],
   "source": [
    "mad_coord = [-3.69280, 40.45007]\n",
    "sf_coord = [-122.39846, 37.68461]\n",
    "ta_coord = [34.78461, 32.08757]"
   ]
  },
  {
   "cell_type": "code",
   "execution_count": 63,
   "id": "ca82eb0e",
   "metadata": {},
   "outputs": [
    {
     "data": {
      "text/plain": [
       "{'type': 'Point', 'coordinates': [-3.6928, 40.45007]}"
      ]
     },
     "execution_count": 63,
     "metadata": {},
     "output_type": "execute_result"
    }
   ],
   "source": [
    "mad = type_point(mad_coord)\n",
    "mad"
   ]
  },
  {
   "cell_type": "code",
   "execution_count": 73,
   "id": "3b10aa34",
   "metadata": {},
   "outputs": [],
   "source": [
    "mad_query = {'geometry': {'$near': {'$geometry': mad, '$maxDistance': 4000}}}\n",
    "# list(madrid.find(mad_query))"
   ]
  },
  {
   "cell_type": "code",
   "execution_count": 74,
   "id": "4b1f1073",
   "metadata": {},
   "outputs": [],
   "source": [
    "sf = type_point(sf_coord)\n",
    "sf\n",
    "sf_query = {'geometry': {'$near': {'$geometry': sf, '$maxDistance': 4000}}}\n",
    "# list(san_francisco.find(sf_query))"
   ]
  },
  {
   "cell_type": "code",
   "execution_count": 75,
   "id": "78b83ce2",
   "metadata": {},
   "outputs": [],
   "source": [
    "ta = type_point(ta_coord)\n",
    "ta\n",
    "ta_query = {'geometry': {'$near': {'$geometry': ta, '$maxDistance': 4000}}}\n",
    "# list(tel_aviv.find(ta_query))"
   ]
  },
  {
   "cell_type": "code",
   "execution_count": null,
   "id": "171cdb4e",
   "metadata": {},
   "outputs": [],
   "source": []
  },
  {
   "cell_type": "code",
   "execution_count": null,
   "id": "1b733283",
   "metadata": {},
   "outputs": [],
   "source": []
  },
  {
   "cell_type": "code",
   "execution_count": null,
   "id": "c0cc950c",
   "metadata": {},
   "outputs": [],
   "source": []
  },
  {
   "cell_type": "code",
   "execution_count": null,
   "id": "03a23de4",
   "metadata": {},
   "outputs": [],
   "source": []
  },
  {
   "cell_type": "code",
   "execution_count": null,
   "id": "b224cbed",
   "metadata": {},
   "outputs": [],
   "source": []
  },
  {
   "cell_type": "code",
   "execution_count": null,
   "id": "7e03d44c",
   "metadata": {},
   "outputs": [],
   "source": []
  },
  {
   "cell_type": "code",
   "execution_count": null,
   "id": "aba0878f",
   "metadata": {},
   "outputs": [],
   "source": []
  },
  {
   "cell_type": "code",
   "execution_count": null,
   "id": "443e9724",
   "metadata": {},
   "outputs": [],
   "source": []
  },
  {
   "cell_type": "code",
   "execution_count": null,
   "id": "56f19845",
   "metadata": {},
   "outputs": [],
   "source": []
  }
 ],
 "metadata": {
  "kernelspec": {
   "display_name": "ironhack",
   "language": "python",
   "name": "ironhack"
  },
  "language_info": {
   "codemirror_mode": {
    "name": "ipython",
    "version": 3
   },
   "file_extension": ".py",
   "mimetype": "text/x-python",
   "name": "python",
   "nbconvert_exporter": "python",
   "pygments_lexer": "ipython3",
   "version": "3.8.10"
  }
 },
 "nbformat": 4,
 "nbformat_minor": 5
}
