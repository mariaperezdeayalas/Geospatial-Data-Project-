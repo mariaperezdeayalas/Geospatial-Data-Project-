{
 "cells": [
  {
   "cell_type": "markdown",
   "id": "d6e43c63",
   "metadata": {},
   "source": [
    "# Cleaning Notebook"
   ]
  },
  {
   "cell_type": "code",
   "execution_count": null,
   "id": "6d0b4dd0",
   "metadata": {
    "scrolled": true
   },
   "outputs": [],
   "source": [
    "%pip install pyjsonviewer"
   ]
  },
  {
   "cell_type": "code",
   "execution_count": null,
   "id": "d1881a64",
   "metadata": {},
   "outputs": [],
   "source": [
    "!pip install cartoframes"
   ]
  },
  {
   "cell_type": "code",
   "execution_count": null,
   "id": "61b2ca67",
   "metadata": {},
   "outputs": [],
   "source": [
    "%pip install geopandas"
   ]
  },
  {
   "cell_type": "code",
   "execution_count": 1,
   "id": "f8ba7434",
   "metadata": {},
   "outputs": [],
   "source": [
    "import requests\n",
    "import json\n",
    "from dotenv import load_dotenv\n",
    "import os\n",
    "import pandas as pd\n",
    "import sys\n",
    "sys.path.append('/Users/maperezdeayalas/Documents/Ironhack/Geospatial-Data-Project-/SRC')\n",
    "import functions as fc\n",
    "from functools import reduce\n",
    "import operator\n",
    "import geopandas as gpd\n",
    "import shapely.geometry\n",
    "from pymongo import MongoClient\n",
    "from pymongo import GEOSPHERE"
   ]
  },
  {
   "cell_type": "markdown",
   "id": "25d4d4e0",
   "metadata": {},
   "source": [
    "#### As mentioned in the README, the cities I am going to work with for this project are: Madrid, Tel Aviv & San Francisco "
   ]
  },
  {
   "cell_type": "markdown",
   "id": "d9666814",
   "metadata": {},
   "source": [
    "## I. Establishing the key coordinates for each city"
   ]
  },
  {
   "cell_type": "markdown",
   "id": "defb3d9c",
   "metadata": {},
   "source": [
    "#### For SF & TA I have taken the main train stations situated at the center of the city, and for Madrid the 'Torre Picasso' building situated next to Nuevos Ministerios train station.\n"
   ]
  },
  {
   "cell_type": "markdown",
   "id": "ffc403de",
   "metadata": {},
   "source": [
    "#### To get the coordinates I have used a function and the geocode API "
   ]
  },
  {
   "cell_type": "code",
   "execution_count": 2,
   "id": "d2ce7500",
   "metadata": {},
   "outputs": [
    {
     "data": {
      "text/plain": [
       "{'type': 'Point', 'coordinates': ['40.45007', '-3.69280']}"
      ]
     },
     "execution_count": 2,
     "metadata": {},
     "output_type": "execute_result"
    }
   ],
   "source": [
    "madrid_location = fc.geocode('Torre Picasso, Madrid')\n",
    "madrid_location"
   ]
  },
  {
   "cell_type": "code",
   "execution_count": 3,
   "id": "2af15075",
   "metadata": {},
   "outputs": [
    {
     "data": {
      "text/plain": [
       "{'type': 'Point', 'coordinates': ['37.68461', '-122.39846']}"
      ]
     },
     "execution_count": 3,
     "metadata": {},
     "output_type": "execute_result"
    }
   ],
   "source": [
    "san_francisco_location = fc.geocode('Caltrain Station San Francisco')\n",
    "san_francisco_location"
   ]
  },
  {
   "cell_type": "code",
   "execution_count": 6,
   "id": "e5d92db9",
   "metadata": {},
   "outputs": [
    {
     "data": {
      "text/plain": [
       "{'type': 'Point', 'coordinates': ['32.08757', '34.78461']}"
      ]
     },
     "execution_count": 6,
     "metadata": {},
     "output_type": "execute_result"
    }
   ],
   "source": [
    "tel_aviv_location = fc.geocode('Tel Aviv Savidor Mercaz')\n",
    "tel_aviv_location"
   ]
  },
  {
   "cell_type": "markdown",
   "id": "d008f105",
   "metadata": {},
   "source": [
    "## II. Calling Foursquare API"
   ]
  },
  {
   "cell_type": "markdown",
   "id": "9fe38e48",
   "metadata": {},
   "source": [
    "#### Now for each of my requirements I am going to call the Foursquare API using a function "
   ]
  },
  {
   "cell_type": "code",
   "execution_count": 11,
   "id": "b1b24e06",
   "metadata": {},
   "outputs": [
    {
     "data": {
      "text/plain": [
       "True"
      ]
     },
     "execution_count": 11,
     "metadata": {},
     "output_type": "execute_result"
    }
   ],
   "source": [
    "load_dotenv()"
   ]
  },
  {
   "cell_type": "code",
   "execution_count": 12,
   "id": "0fd0b322",
   "metadata": {},
   "outputs": [],
   "source": [
    "url_query = 'https://api.foursquare.com/v2/venues/explore'"
   ]
  },
  {
   "cell_type": "code",
   "execution_count": 13,
   "id": "b8bcae17",
   "metadata": {},
   "outputs": [],
   "source": [
    "queries = ['Pub', 'Basketball Court', 'Starbucks', 'Preschool', 'Train Station']"
   ]
  },
  {
   "cell_type": "code",
   "execution_count": 14,
   "id": "f8597a91",
   "metadata": {},
   "outputs": [],
   "source": [
    "madrid = fc.get_parameters(madrid_location['coordinates'], *queries)\n",
    "# madrid"
   ]
  },
  {
   "cell_type": "code",
   "execution_count": 15,
   "id": "bafc73bd",
   "metadata": {},
   "outputs": [],
   "source": [
    "san_francisco = fc.get_parameters(san_francisco_location['coordinates'], *queries)\n",
    "# san_francisco"
   ]
  },
  {
   "cell_type": "code",
   "execution_count": 16,
   "id": "55858363",
   "metadata": {},
   "outputs": [],
   "source": [
    "tel_aviv = fc.get_parameters(tel_aviv_location['coordinates'], *queries)\n",
    "# tel_aviv"
   ]
  },
  {
   "cell_type": "code",
   "execution_count": 17,
   "id": "3879717c",
   "metadata": {},
   "outputs": [
    {
     "data": {
      "text/plain": [
       "{'id': '4adcda35f964a5207a3b21e3',\n",
       " 'name': 'The Irish Rover',\n",
       " 'contact': {},\n",
       " 'location': {'address': 'Av. del Brasil 7',\n",
       "  'lat': 40.45478612229017,\n",
       "  'lng': -3.6937700295880824,\n",
       "  'labeledLatLngs': [{'label': 'display',\n",
       "    'lat': 40.45478612229017,\n",
       "    'lng': -3.6937700295880824}],\n",
       "  'distance': 531,\n",
       "  'postalCode': '28020',\n",
       "  'cc': 'ES',\n",
       "  'city': 'Madrid',\n",
       "  'state': 'Madrid',\n",
       "  'country': 'España',\n",
       "  'formattedAddress': ['Av. del Brasil 7', '28020 Madrid Madrid', 'España']},\n",
       " 'categories': [{'id': '4bf58dd8d48988d11b941735',\n",
       "   'name': 'Pub',\n",
       "   'pluralName': 'Pubs',\n",
       "   'shortName': 'Pub',\n",
       "   'icon': {'prefix': 'https://ss3.4sqi.net/img/categories_v2/nightlife/pub_',\n",
       "    'suffix': '.png'},\n",
       "   'primary': True}],\n",
       " 'verified': False,\n",
       " 'stats': {'tipCount': 0,\n",
       "  'usersCount': 0,\n",
       "  'checkinsCount': 0,\n",
       "  'visitsCount': 0},\n",
       " 'beenHere': {'count': 0,\n",
       "  'lastCheckinExpiredAt': 0,\n",
       "  'marked': False,\n",
       "  'unconfirmedCount': 0},\n",
       " 'photos': {'count': 0, 'groups': []},\n",
       " 'hereNow': {'count': 0, 'summary': 'Nobody here', 'groups': []}}"
      ]
     },
     "execution_count": 17,
     "metadata": {},
     "output_type": "execute_result"
    }
   ],
   "source": [
    "madrid['Pub']['response']['groups'][0]['items'][0]['venue'] # Here is where I have all my key data"
   ]
  },
  {
   "cell_type": "code",
   "execution_count": 18,
   "id": "c2f99907",
   "metadata": {},
   "outputs": [],
   "source": [
    "mad = madrid_location['coordinates']"
   ]
  },
  {
   "cell_type": "code",
   "execution_count": 20,
   "id": "6e9a7d01",
   "metadata": {},
   "outputs": [],
   "source": [
    "madrid_ = []\n",
    "for i in range(len(queries)):\n",
    "    for x in range(len(madrid[queries[i]]['response']['groups'][0]['items'])):\n",
    "        madrid_.append(fc.clean_data(madrid[queries[i]]['response']['groups'][0]['items'][x]['venue'], mad))\n",
    "       "
   ]
  },
  {
   "cell_type": "code",
   "execution_count": null,
   "id": "d47f06b6",
   "metadata": {},
   "outputs": [],
   "source": [
    "# madrid_"
   ]
  },
  {
   "cell_type": "code",
   "execution_count": 21,
   "id": "441e9d5b",
   "metadata": {},
   "outputs": [],
   "source": [
    "sf = san_francisco_location['coordinates']"
   ]
  },
  {
   "cell_type": "code",
   "execution_count": 22,
   "id": "d75a698a",
   "metadata": {},
   "outputs": [],
   "source": [
    "san_francisco_ = []\n",
    "for i in range(len(queries)):\n",
    "    for x in range(len(san_francisco[queries[i]]['response']['groups'][0]['items'])):\n",
    "        san_francisco_.append(fc.clean_data(san_francisco[queries[i]]['response']['groups'][0]['items'][x]['venue'], sf))"
   ]
  },
  {
   "cell_type": "code",
   "execution_count": null,
   "id": "20368f76",
   "metadata": {},
   "outputs": [],
   "source": [
    "# san_francisco_"
   ]
  },
  {
   "cell_type": "code",
   "execution_count": 23,
   "id": "17813e46",
   "metadata": {},
   "outputs": [],
   "source": [
    "ta = tel_aviv_location['coordinates']"
   ]
  },
  {
   "cell_type": "code",
   "execution_count": 24,
   "id": "344cec89",
   "metadata": {},
   "outputs": [],
   "source": [
    "tel_aviv_ = []\n",
    "for i in range(len(queries)):\n",
    "    for x in range(len(tel_aviv[queries[i]]['response']['groups'][0]['items'])):\n",
    "        tel_aviv_.append(fc.clean_data(tel_aviv[queries[i]]['response']['groups'][0]['items'][x]['venue'], ta))"
   ]
  },
  {
   "cell_type": "code",
   "execution_count": 25,
   "id": "ee6971fb",
   "metadata": {},
   "outputs": [],
   "source": [
    "# tel_aviv_"
   ]
  },
  {
   "cell_type": "markdown",
   "id": "2c48e62c",
   "metadata": {},
   "source": [
    "## III. Converting my data to Pandas & Geopandas"
   ]
  },
  {
   "cell_type": "markdown",
   "id": "11f5c842",
   "metadata": {},
   "source": [
    "#### To visualize in a easier way my information, I have converted my info to Pandas. This will also then allow my to import the data to Mongo in a better way."
   ]
  },
  {
   "cell_type": "code",
   "execution_count": 26,
   "id": "ebdeea1e",
   "metadata": {},
   "outputs": [
    {
     "data": {
      "text/html": [
       "<div>\n",
       "<style scoped>\n",
       "    .dataframe tbody tr th:only-of-type {\n",
       "        vertical-align: middle;\n",
       "    }\n",
       "\n",
       "    .dataframe tbody tr th {\n",
       "        vertical-align: top;\n",
       "    }\n",
       "\n",
       "    .dataframe thead th {\n",
       "        text-align: right;\n",
       "    }\n",
       "</style>\n",
       "<table border=\"1\" class=\"dataframe\">\n",
       "  <thead>\n",
       "    <tr style=\"text-align: right;\">\n",
       "      <th></th>\n",
       "      <th>name</th>\n",
       "      <th>lat</th>\n",
       "      <th>lng</th>\n",
       "      <th>shortName</th>\n",
       "      <th>location</th>\n",
       "    </tr>\n",
       "  </thead>\n",
       "  <tbody>\n",
       "    <tr>\n",
       "      <th>25</th>\n",
       "      <td>Pop'n'Roll</td>\n",
       "      <td>40.447001</td>\n",
       "      <td>-3.663680</td>\n",
       "      <td>Rock Club</td>\n",
       "      <td>{'type': 'Point', 'coordinates': [40.447001447...</td>\n",
       "    </tr>\n",
       "    <tr>\n",
       "      <th>38</th>\n",
       "      <td>Starbucks</td>\n",
       "      <td>40.433564</td>\n",
       "      <td>-3.686829</td>\n",
       "      <td>Coffee Shop</td>\n",
       "      <td>{'type': 'Point', 'coordinates': [40.433563917...</td>\n",
       "    </tr>\n",
       "    <tr>\n",
       "      <th>86</th>\n",
       "      <td>AVE Puerta 13 Planta Baja</td>\n",
       "      <td>40.406242</td>\n",
       "      <td>-3.690179</td>\n",
       "      <td>Train Station</td>\n",
       "      <td>{'type': 'Point', 'coordinates': [40.406242, -...</td>\n",
       "    </tr>\n",
       "    <tr>\n",
       "      <th>70</th>\n",
       "      <td>Estación del Norte</td>\n",
       "      <td>40.421230</td>\n",
       "      <td>-3.719121</td>\n",
       "      <td>Train Station</td>\n",
       "      <td>{'type': 'Point', 'coordinates': [40.421230335...</td>\n",
       "    </tr>\n",
       "    <tr>\n",
       "      <th>28</th>\n",
       "      <td>Maloney's Madrid</td>\n",
       "      <td>40.439339</td>\n",
       "      <td>-3.693051</td>\n",
       "      <td>Pub</td>\n",
       "      <td>{'type': 'Point', 'coordinates': [40.439339291...</td>\n",
       "    </tr>\n",
       "  </tbody>\n",
       "</table>\n",
       "</div>"
      ],
      "text/plain": [
       "                         name        lat       lng      shortName  \\\n",
       "25                 Pop'n'Roll  40.447001 -3.663680      Rock Club   \n",
       "38                  Starbucks  40.433564 -3.686829    Coffee Shop   \n",
       "86  AVE Puerta 13 Planta Baja  40.406242 -3.690179  Train Station   \n",
       "70         Estación del Norte  40.421230 -3.719121  Train Station   \n",
       "28           Maloney's Madrid  40.439339 -3.693051            Pub   \n",
       "\n",
       "                                             location  \n",
       "25  {'type': 'Point', 'coordinates': [40.447001447...  \n",
       "38  {'type': 'Point', 'coordinates': [40.433563917...  \n",
       "86  {'type': 'Point', 'coordinates': [40.406242, -...  \n",
       "70  {'type': 'Point', 'coordinates': [40.421230335...  \n",
       "28  {'type': 'Point', 'coordinates': [40.439339291...  "
      ]
     },
     "execution_count": 26,
     "metadata": {},
     "output_type": "execute_result"
    }
   ],
   "source": [
    "madrid_df = pd.DataFrame(madrid_)\n",
    "madrid_df.sample(5)"
   ]
  },
  {
   "cell_type": "code",
   "execution_count": 27,
   "id": "2f403048",
   "metadata": {},
   "outputs": [
    {
     "data": {
      "text/plain": [
       "pandas.core.frame.DataFrame"
      ]
     },
     "execution_count": 27,
     "metadata": {},
     "output_type": "execute_result"
    }
   ],
   "source": [
    "type(madrid_df)"
   ]
  },
  {
   "cell_type": "code",
   "execution_count": 28,
   "id": "33c2f821",
   "metadata": {},
   "outputs": [
    {
     "data": {
      "text/html": [
       "<div>\n",
       "<style scoped>\n",
       "    .dataframe tbody tr th:only-of-type {\n",
       "        vertical-align: middle;\n",
       "    }\n",
       "\n",
       "    .dataframe tbody tr th {\n",
       "        vertical-align: top;\n",
       "    }\n",
       "\n",
       "    .dataframe thead th {\n",
       "        text-align: right;\n",
       "    }\n",
       "</style>\n",
       "<table border=\"1\" class=\"dataframe\">\n",
       "  <thead>\n",
       "    <tr style=\"text-align: right;\">\n",
       "      <th></th>\n",
       "      <th>name</th>\n",
       "      <th>lat</th>\n",
       "      <th>lng</th>\n",
       "      <th>shortName</th>\n",
       "      <th>location</th>\n",
       "    </tr>\n",
       "  </thead>\n",
       "  <tbody>\n",
       "    <tr>\n",
       "      <th>16</th>\n",
       "      <td>La Fontanilla</td>\n",
       "      <td>40.413733</td>\n",
       "      <td>-3.708182</td>\n",
       "      <td>Pub</td>\n",
       "      <td>{'type': 'Point', 'coordinates': [40.413732765...</td>\n",
       "    </tr>\n",
       "  </tbody>\n",
       "</table>\n",
       "</div>"
      ],
      "text/plain": [
       "             name        lat       lng shortName  \\\n",
       "16  La Fontanilla  40.413733 -3.708182       Pub   \n",
       "\n",
       "                                             location  \n",
       "16  {'type': 'Point', 'coordinates': [40.413732765...  "
      ]
     },
     "execution_count": 28,
     "metadata": {},
     "output_type": "execute_result"
    }
   ],
   "source": [
    "madrid_df.sample()"
   ]
  },
  {
   "cell_type": "code",
   "execution_count": 30,
   "id": "f1d61020",
   "metadata": {},
   "outputs": [],
   "source": [
    "madrid_gdf = gpd.GeoDataFrame(madrid_df, geometry = gpd.points_from_xy(madrid_df.lng, madrid_df.lat))\n"
   ]
  },
  {
   "cell_type": "code",
   "execution_count": 31,
   "id": "892df6f9",
   "metadata": {
    "scrolled": true
   },
   "outputs": [
    {
     "data": {
      "text/html": [
       "<div>\n",
       "<style scoped>\n",
       "    .dataframe tbody tr th:only-of-type {\n",
       "        vertical-align: middle;\n",
       "    }\n",
       "\n",
       "    .dataframe tbody tr th {\n",
       "        vertical-align: top;\n",
       "    }\n",
       "\n",
       "    .dataframe thead th {\n",
       "        text-align: right;\n",
       "    }\n",
       "</style>\n",
       "<table border=\"1\" class=\"dataframe\">\n",
       "  <thead>\n",
       "    <tr style=\"text-align: right;\">\n",
       "      <th></th>\n",
       "      <th>name</th>\n",
       "      <th>lat</th>\n",
       "      <th>lng</th>\n",
       "      <th>shortName</th>\n",
       "      <th>location</th>\n",
       "      <th>geometry</th>\n",
       "    </tr>\n",
       "  </thead>\n",
       "  <tbody>\n",
       "    <tr>\n",
       "      <th>0</th>\n",
       "      <td>The Irish Rover</td>\n",
       "      <td>40.454786</td>\n",
       "      <td>-3.69377</td>\n",
       "      <td>Pub</td>\n",
       "      <td>{'type': 'Point', 'coordinates': [40.454786122...</td>\n",
       "      <td>POINT (-3.69377 40.45479)</td>\n",
       "    </tr>\n",
       "  </tbody>\n",
       "</table>\n",
       "</div>"
      ],
      "text/plain": [
       "              name        lat      lng shortName  \\\n",
       "0  The Irish Rover  40.454786 -3.69377       Pub   \n",
       "\n",
       "                                            location  \\\n",
       "0  {'type': 'Point', 'coordinates': [40.454786122...   \n",
       "\n",
       "                    geometry  \n",
       "0  POINT (-3.69377 40.45479)  "
      ]
     },
     "execution_count": 31,
     "metadata": {},
     "output_type": "execute_result"
    }
   ],
   "source": [
    "madrid_gdf.sample()"
   ]
  },
  {
   "cell_type": "code",
   "execution_count": 32,
   "id": "085d10cd",
   "metadata": {},
   "outputs": [],
   "source": [
    "madrid_gdf.drop('location', axis=1, inplace=True)"
   ]
  },
  {
   "cell_type": "code",
   "execution_count": 33,
   "id": "87952f4d",
   "metadata": {},
   "outputs": [
    {
     "data": {
      "text/html": [
       "<div>\n",
       "<style scoped>\n",
       "    .dataframe tbody tr th:only-of-type {\n",
       "        vertical-align: middle;\n",
       "    }\n",
       "\n",
       "    .dataframe tbody tr th {\n",
       "        vertical-align: top;\n",
       "    }\n",
       "\n",
       "    .dataframe thead th {\n",
       "        text-align: right;\n",
       "    }\n",
       "</style>\n",
       "<table border=\"1\" class=\"dataframe\">\n",
       "  <thead>\n",
       "    <tr style=\"text-align: right;\">\n",
       "      <th></th>\n",
       "      <th>name</th>\n",
       "      <th>lat</th>\n",
       "      <th>lng</th>\n",
       "      <th>shortName</th>\n",
       "      <th>geometry</th>\n",
       "    </tr>\n",
       "  </thead>\n",
       "  <tbody>\n",
       "    <tr>\n",
       "      <th>10</th>\n",
       "      <td>Fogg Birra and Cheese</td>\n",
       "      <td>40.412275</td>\n",
       "      <td>-3.697988</td>\n",
       "      <td>Pub</td>\n",
       "      <td>POINT (-3.69799 40.41228)</td>\n",
       "    </tr>\n",
       "  </tbody>\n",
       "</table>\n",
       "</div>"
      ],
      "text/plain": [
       "                     name        lat       lng shortName  \\\n",
       "10  Fogg Birra and Cheese  40.412275 -3.697988       Pub   \n",
       "\n",
       "                     geometry  \n",
       "10  POINT (-3.69799 40.41228)  "
      ]
     },
     "execution_count": 33,
     "metadata": {},
     "output_type": "execute_result"
    }
   ],
   "source": [
    "madrid_gdf.sample()"
   ]
  },
  {
   "cell_type": "code",
   "execution_count": 34,
   "id": "be9bfab3",
   "metadata": {},
   "outputs": [
    {
     "data": {
      "text/html": [
       "<div>\n",
       "<style scoped>\n",
       "    .dataframe tbody tr th:only-of-type {\n",
       "        vertical-align: middle;\n",
       "    }\n",
       "\n",
       "    .dataframe tbody tr th {\n",
       "        vertical-align: top;\n",
       "    }\n",
       "\n",
       "    .dataframe thead th {\n",
       "        text-align: right;\n",
       "    }\n",
       "</style>\n",
       "<table border=\"1\" class=\"dataframe\">\n",
       "  <thead>\n",
       "    <tr style=\"text-align: right;\">\n",
       "      <th></th>\n",
       "      <th>name</th>\n",
       "      <th>lat</th>\n",
       "      <th>lng</th>\n",
       "      <th>shortName</th>\n",
       "      <th>location</th>\n",
       "    </tr>\n",
       "  </thead>\n",
       "  <tbody>\n",
       "    <tr>\n",
       "      <th>17</th>\n",
       "      <td>South San Francisco Caltrain Station</td>\n",
       "      <td>37.657019</td>\n",
       "      <td>-122.404947</td>\n",
       "      <td>Train Station</td>\n",
       "      <td>{'type': 'Point', 'coordinates': [37.657018648...</td>\n",
       "    </tr>\n",
       "  </tbody>\n",
       "</table>\n",
       "</div>"
      ],
      "text/plain": [
       "                                    name        lat         lng  \\\n",
       "17  South San Francisco Caltrain Station  37.657019 -122.404947   \n",
       "\n",
       "        shortName                                           location  \n",
       "17  Train Station  {'type': 'Point', 'coordinates': [37.657018648...  "
      ]
     },
     "execution_count": 34,
     "metadata": {},
     "output_type": "execute_result"
    }
   ],
   "source": [
    "san_francisco_df = pd.DataFrame(san_francisco_)\n",
    "san_francisco_df.sample()"
   ]
  },
  {
   "cell_type": "code",
   "execution_count": 35,
   "id": "7c7b3e37",
   "metadata": {},
   "outputs": [
    {
     "data": {
      "text/html": [
       "<div>\n",
       "<style scoped>\n",
       "    .dataframe tbody tr th:only-of-type {\n",
       "        vertical-align: middle;\n",
       "    }\n",
       "\n",
       "    .dataframe tbody tr th {\n",
       "        vertical-align: top;\n",
       "    }\n",
       "\n",
       "    .dataframe thead th {\n",
       "        text-align: right;\n",
       "    }\n",
       "</style>\n",
       "<table border=\"1\" class=\"dataframe\">\n",
       "  <thead>\n",
       "    <tr style=\"text-align: right;\">\n",
       "      <th></th>\n",
       "      <th>name</th>\n",
       "      <th>lat</th>\n",
       "      <th>lng</th>\n",
       "      <th>shortName</th>\n",
       "      <th>geometry</th>\n",
       "    </tr>\n",
       "  </thead>\n",
       "  <tbody>\n",
       "    <tr>\n",
       "      <th>18</th>\n",
       "      <td>Caltrain #139</td>\n",
       "      <td>37.707563</td>\n",
       "      <td>-122.401732</td>\n",
       "      <td>Train</td>\n",
       "      <td>POINT (-122.40173 37.70756)</td>\n",
       "    </tr>\n",
       "  </tbody>\n",
       "</table>\n",
       "</div>"
      ],
      "text/plain": [
       "             name        lat         lng shortName  \\\n",
       "18  Caltrain #139  37.707563 -122.401732     Train   \n",
       "\n",
       "                       geometry  \n",
       "18  POINT (-122.40173 37.70756)  "
      ]
     },
     "execution_count": 35,
     "metadata": {},
     "output_type": "execute_result"
    }
   ],
   "source": [
    "san_francisco_gdf = gpd.GeoDataFrame(san_francisco_df, geometry = gpd.points_from_xy(san_francisco_df.lng, san_francisco_df.lat))\n",
    "san_francisco_gdf.drop('location', axis = 1, inplace = True)\n",
    "san_francisco_gdf.sample()\n"
   ]
  },
  {
   "cell_type": "code",
   "execution_count": 36,
   "id": "3b5c9455",
   "metadata": {
    "scrolled": true
   },
   "outputs": [
    {
     "data": {
      "text/html": [
       "<div>\n",
       "<style scoped>\n",
       "    .dataframe tbody tr th:only-of-type {\n",
       "        vertical-align: middle;\n",
       "    }\n",
       "\n",
       "    .dataframe tbody tr th {\n",
       "        vertical-align: top;\n",
       "    }\n",
       "\n",
       "    .dataframe thead th {\n",
       "        text-align: right;\n",
       "    }\n",
       "</style>\n",
       "<table border=\"1\" class=\"dataframe\">\n",
       "  <thead>\n",
       "    <tr style=\"text-align: right;\">\n",
       "      <th></th>\n",
       "      <th>name</th>\n",
       "      <th>lat</th>\n",
       "      <th>lng</th>\n",
       "      <th>shortName</th>\n",
       "      <th>geometry</th>\n",
       "    </tr>\n",
       "  </thead>\n",
       "  <tbody>\n",
       "    <tr>\n",
       "      <th>55</th>\n",
       "      <td>HaHagana Train Station (תחנת רכבת תל אביב ההגנה)</td>\n",
       "      <td>32.05393</td>\n",
       "      <td>34.78468</td>\n",
       "      <td>Train Station</td>\n",
       "      <td>POINT (34.78468 32.05393)</td>\n",
       "    </tr>\n",
       "  </tbody>\n",
       "</table>\n",
       "</div>"
      ],
      "text/plain": [
       "                                                name       lat       lng  \\\n",
       "55  HaHagana Train Station (תחנת רכבת תל אביב ההגנה)  32.05393  34.78468   \n",
       "\n",
       "        shortName                   geometry  \n",
       "55  Train Station  POINT (34.78468 32.05393)  "
      ]
     },
     "execution_count": 36,
     "metadata": {},
     "output_type": "execute_result"
    }
   ],
   "source": [
    "tel_aviv_df = pd.DataFrame(tel_aviv_)\n",
    "tel_aviv_gdf = gpd.GeoDataFrame(tel_aviv_df, geometry = gpd.points_from_xy(tel_aviv_df.lng, tel_aviv_df.lat))\n",
    "tel_aviv_gdf.drop('location', axis = 1, inplace = True)\n",
    "tel_aviv_gdf.sample()\n"
   ]
  },
  {
   "cell_type": "markdown",
   "id": "3d41c942",
   "metadata": {},
   "source": [
    "## IV. Importing the data to Mongo"
   ]
  },
  {
   "cell_type": "code",
   "execution_count": 37,
   "id": "cd0d015a",
   "metadata": {
    "scrolled": true
   },
   "outputs": [
    {
     "data": {
      "text/plain": [
       "Database(MongoClient(host=['localhost:27017'], document_class=dict, tz_aware=False, connect=True), 'geospatial_project_ironhack')"
      ]
     },
     "execution_count": 37,
     "metadata": {},
     "output_type": "execute_result"
    }
   ],
   "source": [
    "client = MongoClient(\"localhost:27017\")\n",
    "db = client.get_database(\"geospatial_project_ironhack\")\n",
    "db"
   ]
  },
  {
   "cell_type": "code",
   "execution_count": 39,
   "id": "c786dd66",
   "metadata": {},
   "outputs": [],
   "source": [
    "madrid = db.get_collection(\"madrid\")\n",
    "san_francisco = db.get_collection(\"san_francisco\")\n",
    "tel_aviv = db.get_collection(\"tel_aviv\")"
   ]
  },
  {
   "cell_type": "code",
   "execution_count": 40,
   "id": "de1a32b0",
   "metadata": {},
   "outputs": [
    {
     "name": "stderr",
     "output_type": "stream",
     "text": [
      "/opt/homebrew/Caskroom/miniconda/base/lib/python3.8/site-packages/geopandas/geodataframe.py:1350: UserWarning: Geometry column does not contain geometry.\n",
      "  warnings.warn(\"Geometry column does not contain geometry.\")\n"
     ]
    }
   ],
   "source": [
    "madrid_gdf['geometry']=madrid_gdf['geometry'].apply(lambda x:shapely.geometry.mapping(x))"
   ]
  },
  {
   "cell_type": "code",
   "execution_count": 41,
   "id": "93dd5834",
   "metadata": {},
   "outputs": [],
   "source": [
    "madrid_dic = madrid_gdf.to_dict(orient=\"records\")"
   ]
  },
  {
   "cell_type": "code",
   "execution_count": 42,
   "id": "6ad7e49b",
   "metadata": {},
   "outputs": [
    {
     "data": {
      "text/plain": [
       "'geometry_2dsphere'"
      ]
     },
     "execution_count": 42,
     "metadata": {},
     "output_type": "execute_result"
    }
   ],
   "source": [
    "madrid.create_index([(\"geometry\", GEOSPHERE)])"
   ]
  },
  {
   "cell_type": "code",
   "execution_count": 43,
   "id": "62fdd0e1",
   "metadata": {
    "scrolled": true
   },
   "outputs": [
    {
     "data": {
      "text/plain": [
       "<pymongo.results.InsertManyResult at 0x7fe652ae0ec0>"
      ]
     },
     "execution_count": 43,
     "metadata": {},
     "output_type": "execute_result"
    }
   ],
   "source": [
    "madrid.insert_many(madrid_dic)"
   ]
  },
  {
   "cell_type": "code",
   "execution_count": 44,
   "id": "650193c4",
   "metadata": {},
   "outputs": [
    {
     "name": "stderr",
     "output_type": "stream",
     "text": [
      "/opt/homebrew/Caskroom/miniconda/base/lib/python3.8/site-packages/geopandas/geodataframe.py:1350: UserWarning: Geometry column does not contain geometry.\n",
      "  warnings.warn(\"Geometry column does not contain geometry.\")\n"
     ]
    }
   ],
   "source": [
    "san_francisco_gdf['geometry']=san_francisco_gdf['geometry'].apply(lambda x:shapely.geometry.mapping(x))"
   ]
  },
  {
   "cell_type": "code",
   "execution_count": 45,
   "id": "6a296480",
   "metadata": {},
   "outputs": [],
   "source": [
    "san_francisco_dic = san_francisco_gdf.to_dict(orient=\"records\")"
   ]
  },
  {
   "cell_type": "code",
   "execution_count": 46,
   "id": "18a2c6ce",
   "metadata": {},
   "outputs": [
    {
     "data": {
      "text/plain": [
       "'geometry_2dsphere'"
      ]
     },
     "execution_count": 46,
     "metadata": {},
     "output_type": "execute_result"
    }
   ],
   "source": [
    "san_francisco.create_index([(\"geometry\", GEOSPHERE)])"
   ]
  },
  {
   "cell_type": "code",
   "execution_count": 47,
   "id": "69f6b75a",
   "metadata": {},
   "outputs": [
    {
     "data": {
      "text/plain": [
       "<pymongo.results.InsertManyResult at 0x7fe6531b2b40>"
      ]
     },
     "execution_count": 47,
     "metadata": {},
     "output_type": "execute_result"
    }
   ],
   "source": [
    "san_francisco.insert_many(san_francisco_dic)"
   ]
  },
  {
   "cell_type": "code",
   "execution_count": 48,
   "id": "26c4f882",
   "metadata": {},
   "outputs": [
    {
     "name": "stderr",
     "output_type": "stream",
     "text": [
      "/opt/homebrew/Caskroom/miniconda/base/lib/python3.8/site-packages/geopandas/geodataframe.py:1350: UserWarning: Geometry column does not contain geometry.\n",
      "  warnings.warn(\"Geometry column does not contain geometry.\")\n"
     ]
    }
   ],
   "source": [
    "tel_aviv_gdf['geometry']=tel_aviv_gdf['geometry'].apply(lambda x:shapely.geometry.mapping(x))"
   ]
  },
  {
   "cell_type": "code",
   "execution_count": 49,
   "id": "ab8bbc66",
   "metadata": {},
   "outputs": [],
   "source": [
    "tel_aviv_dic = tel_aviv_gdf.to_dict(orient=\"records\")"
   ]
  },
  {
   "cell_type": "code",
   "execution_count": 50,
   "id": "be936c9d",
   "metadata": {},
   "outputs": [
    {
     "data": {
      "text/plain": [
       "'geometry_2dsphere'"
      ]
     },
     "execution_count": 50,
     "metadata": {},
     "output_type": "execute_result"
    }
   ],
   "source": [
    "tel_aviv.create_index([(\"geometry\", GEOSPHERE)])"
   ]
  },
  {
   "cell_type": "code",
   "execution_count": 51,
   "id": "591d9402",
   "metadata": {},
   "outputs": [
    {
     "data": {
      "text/plain": [
       "<pymongo.results.InsertManyResult at 0x7fe6531c5380>"
      ]
     },
     "execution_count": 51,
     "metadata": {},
     "output_type": "execute_result"
    }
   ],
   "source": [
    "tel_aviv.insert_many(tel_aviv_dic)"
   ]
  }
 ],
 "metadata": {
  "kernelspec": {
   "display_name": "ironhack",
   "language": "python",
   "name": "ironhack"
  },
  "language_info": {
   "codemirror_mode": {
    "name": "ipython",
    "version": 3
   },
   "file_extension": ".py",
   "mimetype": "text/x-python",
   "name": "python",
   "nbconvert_exporter": "python",
   "pygments_lexer": "ipython3",
   "version": "3.8.10"
  }
 },
 "nbformat": 4,
 "nbformat_minor": 5
}
