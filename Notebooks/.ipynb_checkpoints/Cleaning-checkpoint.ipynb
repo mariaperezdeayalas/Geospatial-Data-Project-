{
 "cells": [
  {
   "cell_type": "code",
   "execution_count": null,
   "id": "85003a8d",
   "metadata": {
    "scrolled": true
   },
   "outputs": [],
   "source": [
    "%pip install pyjsonviewer"
   ]
  },
  {
   "cell_type": "code",
   "execution_count": 29,
   "id": "eead326f",
   "metadata": {},
   "outputs": [
    {
     "name": "stdout",
     "output_type": "stream",
     "text": [
      "Collecting cartoframes\n",
      "  Downloading cartoframes-1.2.4-py2.py3-none-any.whl (245 kB)\n",
      "\u001b[K     |████████████████████████████████| 245 kB 2.6 MB/s eta 0:00:01\n",
      "\u001b[?25hRequirement already satisfied: pandas>=0.25.0 in /opt/homebrew/Caskroom/miniconda/base/envs/ironhack/lib/python3.9/site-packages (from cartoframes) (1.3.4)\n",
      "Collecting jinja2<3.0,>=2.10.1\n",
      "  Downloading Jinja2-2.11.3-py2.py3-none-any.whl (125 kB)\n",
      "\u001b[K     |████████████████████████████████| 125 kB 3.0 MB/s eta 0:00:01\n",
      "\u001b[?25hCollecting carto<2.0,>=1.11.3\n",
      "  Downloading carto-1.11.3.tar.gz (27 kB)\n",
      "Collecting unidecode<2.0,>=1.1.0\n",
      "  Downloading Unidecode-1.3.2-py3-none-any.whl (235 kB)\n",
      "\u001b[K     |████████████████████████████████| 235 kB 2.8 MB/s eta 0:00:01\n",
      "\u001b[?25hCollecting appdirs<2.0,>=1.4.3\n",
      "  Using cached appdirs-1.4.4-py2.py3-none-any.whl (9.6 kB)\n",
      "Collecting geopandas<1.0,>=0.6.0\n",
      "  Downloading geopandas-0.10.2-py2.py3-none-any.whl (1.0 MB)\n",
      "\u001b[K     |████████████████████████████████| 1.0 MB 2.8 MB/s eta 0:00:01\n",
      "\u001b[?25hCollecting semantic-version<3,>=2.8.0\n",
      "  Downloading semantic_version-2.8.5-py2.py3-none-any.whl (15 kB)\n",
      "Requirement already satisfied: requests>=2.7.0 in /opt/homebrew/Caskroom/miniconda/base/envs/ironhack/lib/python3.9/site-packages (from carto<2.0,>=1.11.3->cartoframes) (2.26.0)\n",
      "Collecting pyrestcli==0.6.11\n",
      "  Downloading pyrestcli-0.6.11.tar.gz (9.1 kB)\n",
      "Requirement already satisfied: python-dateutil>=2.5.3 in /opt/homebrew/Caskroom/miniconda/base/envs/ironhack/lib/python3.9/site-packages (from pyrestcli==0.6.11->carto<2.0,>=1.11.3->cartoframes) (2.8.2)\n",
      "Collecting future>=0.15.2\n",
      "  Downloading future-0.18.2.tar.gz (829 kB)\n",
      "\u001b[K     |████████████████████████████████| 829 kB 2.6 MB/s eta 0:00:01\n",
      "\u001b[?25hCollecting shapely>=1.6\n",
      "  Downloading Shapely-1.8.0-cp39-cp39-macosx_10_9_x86_64.whl (1.2 MB)\n",
      "\u001b[K     |████████████████████████████████| 1.2 MB 2.8 MB/s eta 0:00:01\n",
      "\u001b[?25hCollecting fiona>=1.8\n",
      "  Downloading Fiona-1.8.20-cp39-cp39-macosx_10_9_x86_64.whl (19.3 MB)\n",
      "\u001b[K     |████████████████████████████████| 19.3 MB 2.8 MB/s eta 0:00:01\n",
      "\u001b[?25hCollecting pyproj>=2.2.0\n",
      "  Downloading pyproj-3.2.1-cp39-cp39-macosx_10_9_x86_64.whl (7.5 MB)\n",
      "\u001b[K     |████████████████████████████████| 7.5 MB 3.0 MB/s eta 0:00:01\n",
      "\u001b[?25hRequirement already satisfied: six>=1.7 in /opt/homebrew/Caskroom/miniconda/base/envs/ironhack/lib/python3.9/site-packages (from fiona>=1.8->geopandas<1.0,>=0.6.0->cartoframes) (1.16.0)\n",
      "Collecting cligj>=0.5\n",
      "  Downloading cligj-0.7.2-py3-none-any.whl (7.1 kB)\n",
      "Collecting click-plugins>=1.0\n",
      "  Downloading click_plugins-1.1.1-py2.py3-none-any.whl (7.5 kB)\n",
      "Requirement already satisfied: certifi in /opt/homebrew/Caskroom/miniconda/base/envs/ironhack/lib/python3.9/site-packages (from fiona>=1.8->geopandas<1.0,>=0.6.0->cartoframes) (2021.10.8)\n",
      "Requirement already satisfied: setuptools in /opt/homebrew/Caskroom/miniconda/base/envs/ironhack/lib/python3.9/site-packages (from fiona>=1.8->geopandas<1.0,>=0.6.0->cartoframes) (58.0.4)\n",
      "Requirement already satisfied: attrs>=17 in /opt/homebrew/Caskroom/miniconda/base/envs/ironhack/lib/python3.9/site-packages (from fiona>=1.8->geopandas<1.0,>=0.6.0->cartoframes) (21.2.0)\n",
      "Collecting click>=4.0\n",
      "  Downloading click-8.0.3-py3-none-any.whl (97 kB)\n",
      "\u001b[K     |████████████████████████████████| 97 kB 264 kB/s eta 0:00:01\n",
      "\u001b[?25hCollecting munch\n",
      "  Downloading munch-2.5.0-py2.py3-none-any.whl (10 kB)\n",
      "Collecting MarkupSafe>=0.23\n",
      "  Downloading MarkupSafe-2.0.1-cp39-cp39-macosx_10_9_x86_64.whl (13 kB)\n",
      "Requirement already satisfied: pytz>=2017.3 in /opt/homebrew/Caskroom/miniconda/base/envs/ironhack/lib/python3.9/site-packages (from pandas>=0.25.0->cartoframes) (2021.3)\n",
      "Requirement already satisfied: numpy>=1.17.3 in /opt/homebrew/Caskroom/miniconda/base/envs/ironhack/lib/python3.9/site-packages (from pandas>=0.25.0->cartoframes) (1.21.2)\n",
      "Requirement already satisfied: charset-normalizer~=2.0.0 in /opt/homebrew/Caskroom/miniconda/base/envs/ironhack/lib/python3.9/site-packages (from requests>=2.7.0->carto<2.0,>=1.11.3->cartoframes) (2.0.7)\n",
      "Requirement already satisfied: idna<4,>=2.5 in /opt/homebrew/Caskroom/miniconda/base/envs/ironhack/lib/python3.9/site-packages (from requests>=2.7.0->carto<2.0,>=1.11.3->cartoframes) (3.3)\n",
      "Requirement already satisfied: urllib3<1.27,>=1.21.1 in /opt/homebrew/Caskroom/miniconda/base/envs/ironhack/lib/python3.9/site-packages (from requests>=2.7.0->carto<2.0,>=1.11.3->cartoframes) (1.26.7)\n",
      "Building wheels for collected packages: carto, pyrestcli, future\n",
      "  Building wheel for carto (setup.py) ... \u001b[?25ldone\n",
      "\u001b[?25h  Created wheel for carto: filename=carto-1.11.3-py3-none-any.whl size=35088 sha256=4278c9b12166ad61183f03e3f50d79f038648761eba873d13150a4f07292b3cb\n",
      "  Stored in directory: /Users/maperezdeayalas/Library/Caches/pip/wheels/e7/e8/32/a00e7379e192b21d6fa834cba2d5f53ab59c3a4bed644ca31a\n",
      "  Building wheel for pyrestcli (setup.py) ... \u001b[?25ldone\n",
      "\u001b[?25h  Created wheel for pyrestcli: filename=pyrestcli-0.6.11-py3-none-any.whl size=8496 sha256=335dbf6ad03ce38bfbd74bb8a7991eea7349bf9384206ad5d91c7464162e1b53\n",
      "  Stored in directory: /Users/maperezdeayalas/Library/Caches/pip/wheels/a5/09/bc/15c132c44880450badf92af865a4b4bbd1f5f67cee100eb59d\n",
      "  Building wheel for future (setup.py) ... \u001b[?25ldone\n",
      "\u001b[?25h  Created wheel for future: filename=future-0.18.2-py3-none-any.whl size=491070 sha256=bdf66897d412fce47a97147e7cd9187b05029bd13950608bcc132091921db864\n",
      "  Stored in directory: /Users/maperezdeayalas/Library/Caches/pip/wheels/2f/a0/d3/4030d9f80e6b3be787f19fc911b8e7aa462986a40ab1e4bb94\n",
      "Successfully built carto pyrestcli future\n",
      "Installing collected packages: click, munch, future, cligj, click-plugins, shapely, pyrestcli, pyproj, MarkupSafe, fiona, unidecode, semantic-version, jinja2, geopandas, carto, appdirs, cartoframes\n",
      "Successfully installed MarkupSafe-2.0.1 appdirs-1.4.4 carto-1.11.3 cartoframes-1.2.4 click-8.0.3 click-plugins-1.1.1 cligj-0.7.2 fiona-1.8.20 future-0.18.2 geopandas-0.10.2 jinja2-2.11.3 munch-2.5.0 pyproj-3.2.1 pyrestcli-0.6.11 semantic-version-2.8.5 shapely-1.8.0 unidecode-1.3.2\n"
     ]
    }
   ],
   "source": [
    "!pip install cartoframes"
   ]
  },
  {
   "cell_type": "code",
   "execution_count": 33,
   "id": "a58cd847",
   "metadata": {},
   "outputs": [
    {
     "name": "stdout",
     "output_type": "stream",
     "text": [
      "Collecting geopandas\n",
      "  Using cached geopandas-0.10.2-py2.py3-none-any.whl (1.0 MB)\n",
      "Collecting fiona>=1.8\n",
      "  Downloading Fiona-1.8.20-cp38-cp38-macosx_10_9_x86_64.whl (19.3 MB)\n",
      "\u001b[K     |████████████████████████████████| 19.3 MB 2.6 MB/s eta 0:00:01\n",
      "\u001b[?25hCollecting shapely>=1.6\n",
      "  Downloading Shapely-1.8.0-cp38-cp38-macosx_10_9_x86_64.whl (1.2 MB)\n",
      "\u001b[K     |████████████████████████████████| 1.2 MB 2.7 MB/s eta 0:00:01\n",
      "\u001b[?25hCollecting pyproj>=2.2.0\n",
      "  Downloading pyproj-3.2.1-cp38-cp38-macosx_10_9_x86_64.whl (7.5 MB)\n",
      "\u001b[K     |████████████████████████████████| 7.5 MB 3.6 MB/s eta 0:00:01\n",
      "\u001b[?25hRequirement already satisfied: pandas>=0.25.0 in /opt/homebrew/Caskroom/miniconda/base/lib/python3.8/site-packages (from geopandas) (1.3.4)\n",
      "Collecting click>=4.0\n",
      "  Using cached click-8.0.3-py3-none-any.whl (97 kB)\n",
      "Requirement already satisfied: setuptools in /opt/homebrew/Caskroom/miniconda/base/lib/python3.8/site-packages (from fiona>=1.8->geopandas) (52.0.0.post20210125)\n",
      "Collecting cligj>=0.5\n",
      "  Using cached cligj-0.7.2-py3-none-any.whl (7.1 kB)\n",
      "Collecting munch\n",
      "  Using cached munch-2.5.0-py2.py3-none-any.whl (10 kB)\n",
      "Requirement already satisfied: six>=1.7 in /opt/homebrew/Caskroom/miniconda/base/lib/python3.8/site-packages (from fiona>=1.8->geopandas) (1.15.0)\n",
      "Collecting click-plugins>=1.0\n",
      "  Using cached click_plugins-1.1.1-py2.py3-none-any.whl (7.5 kB)\n",
      "Requirement already satisfied: attrs>=17 in /opt/homebrew/Caskroom/miniconda/base/lib/python3.8/site-packages (from fiona>=1.8->geopandas) (21.2.0)\n",
      "Requirement already satisfied: certifi in /opt/homebrew/Caskroom/miniconda/base/lib/python3.8/site-packages (from fiona>=1.8->geopandas) (2021.10.8)\n",
      "Requirement already satisfied: pytz>=2017.3 in /opt/homebrew/Caskroom/miniconda/base/lib/python3.8/site-packages (from pandas>=0.25.0->geopandas) (2021.3)\n",
      "Requirement already satisfied: numpy>=1.17.3 in /opt/homebrew/Caskroom/miniconda/base/lib/python3.8/site-packages (from pandas>=0.25.0->geopandas) (1.21.2)\n",
      "Requirement already satisfied: python-dateutil>=2.7.3 in /opt/homebrew/Caskroom/miniconda/base/lib/python3.8/site-packages (from pandas>=0.25.0->geopandas) (2.8.1)\n",
      "Installing collected packages: click, munch, cligj, click-plugins, shapely, pyproj, fiona, geopandas\n",
      "Successfully installed click-8.0.3 click-plugins-1.1.1 cligj-0.7.2 fiona-1.8.20 geopandas-0.10.2 munch-2.5.0 pyproj-3.2.1 shapely-1.8.0\n",
      "Note: you may need to restart the kernel to use updated packages.\n"
     ]
    }
   ],
   "source": [
    "%pip install geopandas"
   ]
  },
  {
   "cell_type": "code",
   "execution_count": 80,
   "id": "7c553766",
   "metadata": {},
   "outputs": [],
   "source": [
    "import requests\n",
    "import json\n",
    "from dotenv import load_dotenv\n",
    "import os\n",
    "import pandas as pd\n",
    "import sys\n",
    "sys.path.append('/Users/maperezdeayalas/Documents/Ironhack/Geospatial-Data-Project-/SRC')\n",
    "import functions as fc\n",
    "from functools import reduce\n",
    "import operator\n",
    "import geopandas as gpd\n",
    "import shapely.geometry\n",
    "from pymongo import MongoClient\n",
    "from pymongo import GEOSPHERE"
   ]
  },
  {
   "cell_type": "code",
   "execution_count": 2,
   "id": "3f56f768",
   "metadata": {},
   "outputs": [],
   "source": [
    "import pyjsonviewer"
   ]
  },
  {
   "cell_type": "code",
   "execution_count": null,
   "id": "cfbefa8a",
   "metadata": {},
   "outputs": [],
   "source": [
    "# Ciudades: Madrid, San Francisco & Tel Aviv "
   ]
  },
  {
   "cell_type": "code",
   "execution_count": null,
   "id": "3285649b",
   "metadata": {},
   "outputs": [],
   "source": [
    "\"\"\"\n",
    "Primero decido que coordenadas voy a coger como punto inicial por ciudad - en este caso puntos centricos de la ciudad\n",
    "con buena conexion para viajar\n",
    "Madrid = Torre Picasso (al lado de Nuevos Ministerios que me daba error si no...)\n",
    "San Francisco = Caltrain Station San Francisco\n",
    "Tel Aviv = Tel Aviv Savidor Mercaz\n",
    "\"\"\""
   ]
  },
  {
   "cell_type": "code",
   "execution_count": 3,
   "id": "bfadf70b",
   "metadata": {},
   "outputs": [
    {
     "data": {
      "text/plain": [
       "{'type': 'Point', 'coordinates': ['40.45007', '-3.69280']}"
      ]
     },
     "execution_count": 3,
     "metadata": {},
     "output_type": "execute_result"
    }
   ],
   "source": [
    "madrid_location = fc.geocode('Torre Picasso, Madrid')\n",
    "madrid_location"
   ]
  },
  {
   "cell_type": "code",
   "execution_count": 4,
   "id": "609021da",
   "metadata": {},
   "outputs": [
    {
     "data": {
      "text/plain": [
       "{'type': 'Point', 'coordinates': ['37.68461', '-122.39846']}"
      ]
     },
     "execution_count": 4,
     "metadata": {},
     "output_type": "execute_result"
    }
   ],
   "source": [
    "san_francisco_location = fc.geocode('Caltrain Station San Francisco')\n",
    "san_francisco_location"
   ]
  },
  {
   "cell_type": "code",
   "execution_count": 5,
   "id": "95d64878",
   "metadata": {},
   "outputs": [
    {
     "data": {
      "text/plain": [
       "{'type': 'Point', 'coordinates': ['32.08757', '34.78461']}"
      ]
     },
     "execution_count": 5,
     "metadata": {},
     "output_type": "execute_result"
    }
   ],
   "source": [
    "tel_aviv_location = fc.geocode('Tel Aviv Savidor Mercaz')\n",
    "tel_aviv_location"
   ]
  },
  {
   "cell_type": "code",
   "execution_count": null,
   "id": "04336e01",
   "metadata": {},
   "outputs": [],
   "source": [
    "\"\"\"\n",
    "Ahora paso a Foursquare para ver los sitios que tengo cerca, elijo como 3 / 4 criterios por ciudad:\n",
    "Criterios:\n",
    "- Bar\n",
    "- Starbucks\n",
    "- Basketball court\n",
    "\n",
    "\"\"\""
   ]
  },
  {
   "cell_type": "code",
   "execution_count": 6,
   "id": "49c7f7b8",
   "metadata": {},
   "outputs": [
    {
     "data": {
      "text/plain": [
       "True"
      ]
     },
     "execution_count": 6,
     "metadata": {},
     "output_type": "execute_result"
    }
   ],
   "source": [
    "load_dotenv()"
   ]
  },
  {
   "cell_type": "code",
   "execution_count": 7,
   "id": "58ff4af8",
   "metadata": {},
   "outputs": [],
   "source": [
    "url_query = 'https://api.foursquare.com/v2/venues/explore'"
   ]
  },
  {
   "cell_type": "code",
   "execution_count": 8,
   "id": "ca553280",
   "metadata": {},
   "outputs": [],
   "source": [
    "queries = ['Pub', 'Basketball Court', 'Starbucks', 'Preschool', 'Train Station']"
   ]
  },
  {
   "cell_type": "code",
   "execution_count": 9,
   "id": "a09c78eb",
   "metadata": {},
   "outputs": [],
   "source": [
    "madrid = fc.get_parameters(madrid_location['coordinates'], *queries)\n",
    "# madrid"
   ]
  },
  {
   "cell_type": "code",
   "execution_count": 11,
   "id": "e1ea0511",
   "metadata": {},
   "outputs": [],
   "source": [
    "san_francisco = fc.get_parameters(san_francisco_location['coordinates'], *queries)\n",
    "# san_francisco"
   ]
  },
  {
   "cell_type": "code",
   "execution_count": 12,
   "id": "4497026d",
   "metadata": {},
   "outputs": [],
   "source": [
    "tel_aviv = fc.get_parameters(tel_aviv_location['coordinates'], *queries)\n",
    "# tel_aviv"
   ]
  },
  {
   "cell_type": "code",
   "execution_count": 28,
   "id": "e90416db",
   "metadata": {},
   "outputs": [
    {
     "data": {
      "text/plain": [
       "5"
      ]
     },
     "execution_count": 28,
     "metadata": {},
     "output_type": "execute_result"
    }
   ],
   "source": [
    "len(madrid)"
   ]
  },
  {
   "cell_type": "code",
   "execution_count": null,
   "id": "98aca3cc",
   "metadata": {},
   "outputs": [],
   "source": [
    "madrid['Pub']['response']['groups'][0]['items'][0]['venue']"
   ]
  },
  {
   "cell_type": "code",
   "execution_count": null,
   "id": "1267a144",
   "metadata": {},
   "outputs": [],
   "source": [
    "madrid['Pub']['response']['groups'][0]['items'][0]['venue']['name']"
   ]
  },
  {
   "cell_type": "code",
   "execution_count": null,
   "id": "1b33d8c5",
   "metadata": {},
   "outputs": [],
   "source": [
    "madrid['Pub']['response']['groups'][0]['items'][0]['venue']['location']"
   ]
  },
  {
   "cell_type": "code",
   "execution_count": null,
   "id": "0021be24",
   "metadata": {
    "scrolled": true
   },
   "outputs": [],
   "source": [
    "madrid['Pub']['response']['groups'][0]['items'][0]['venue']['location']['lat']"
   ]
  },
  {
   "cell_type": "code",
   "execution_count": null,
   "id": "b0671322",
   "metadata": {},
   "outputs": [],
   "source": [
    "madrid['Pub']['response']['groups'][0]['items'][0]['venue']['location']['lng']"
   ]
  },
  {
   "cell_type": "code",
   "execution_count": 13,
   "id": "423ebdf5",
   "metadata": {},
   "outputs": [],
   "source": [
    "mad = madrid_location['coordinates']"
   ]
  },
  {
   "cell_type": "code",
   "execution_count": 16,
   "id": "7cfc310c",
   "metadata": {},
   "outputs": [],
   "source": [
    "madrid_ = []\n",
    "for i in range(len(queries)):\n",
    "    #print(i)\n",
    "    for x in range(len(madrid[queries[i]]['response']['groups'][0]['items'])):\n",
    "        #print(x)\n",
    "        #print(clean_data2(madrid[queries[i]]['response']['groups'][0]['items'][x]['venue'], mad))\n",
    "        madrid_.append(fc.clean_data(madrid[queries[i]]['response']['groups'][0]['items'][x]['venue'], mad))\n",
    "       "
   ]
  },
  {
   "cell_type": "code",
   "execution_count": 24,
   "id": "ef1efebe",
   "metadata": {},
   "outputs": [],
   "source": [
    "# madrid_"
   ]
  },
  {
   "cell_type": "code",
   "execution_count": 19,
   "id": "2d142373",
   "metadata": {},
   "outputs": [],
   "source": [
    "sf = san_francisco_location['coordinates']"
   ]
  },
  {
   "cell_type": "code",
   "execution_count": 20,
   "id": "98ed1cc7",
   "metadata": {},
   "outputs": [],
   "source": [
    "san_francisco_ = []\n",
    "for i in range(len(queries)):\n",
    "    for x in range(len(san_francisco[queries[i]]['response']['groups'][0]['items'])):\n",
    "        san_francisco_.append(fc.clean_data(san_francisco[queries[i]]['response']['groups'][0]['items'][x]['venue'], sf))"
   ]
  },
  {
   "cell_type": "code",
   "execution_count": null,
   "id": "993e2c70",
   "metadata": {},
   "outputs": [],
   "source": [
    "# san_francisco_"
   ]
  },
  {
   "cell_type": "code",
   "execution_count": 21,
   "id": "8adb7724",
   "metadata": {},
   "outputs": [],
   "source": [
    "ta = tel_aviv_location['coordinates']"
   ]
  },
  {
   "cell_type": "code",
   "execution_count": 22,
   "id": "17793014",
   "metadata": {},
   "outputs": [],
   "source": [
    "tel_aviv_ = []\n",
    "for i in range(len(queries)):\n",
    "    for x in range(len(tel_aviv[queries[i]]['response']['groups'][0]['items'])):\n",
    "        tel_aviv_.append(fc.clean_data(tel_aviv[queries[i]]['response']['groups'][0]['items'][x]['venue'], ta))"
   ]
  },
  {
   "cell_type": "code",
   "execution_count": null,
   "id": "7bf983f1",
   "metadata": {},
   "outputs": [],
   "source": [
    "# tel_aviv_"
   ]
  },
  {
   "cell_type": "code",
   "execution_count": 37,
   "id": "4569363d",
   "metadata": {},
   "outputs": [
    {
     "data": {
      "text/html": [
       "<div>\n",
       "<style scoped>\n",
       "    .dataframe tbody tr th:only-of-type {\n",
       "        vertical-align: middle;\n",
       "    }\n",
       "\n",
       "    .dataframe tbody tr th {\n",
       "        vertical-align: top;\n",
       "    }\n",
       "\n",
       "    .dataframe thead th {\n",
       "        text-align: right;\n",
       "    }\n",
       "</style>\n",
       "<table border=\"1\" class=\"dataframe\">\n",
       "  <thead>\n",
       "    <tr style=\"text-align: right;\">\n",
       "      <th></th>\n",
       "      <th>name</th>\n",
       "      <th>lat</th>\n",
       "      <th>lng</th>\n",
       "      <th>shortName</th>\n",
       "      <th>location</th>\n",
       "    </tr>\n",
       "  </thead>\n",
       "  <tbody>\n",
       "    <tr>\n",
       "      <th>92</th>\n",
       "      <td>Vía 11</td>\n",
       "      <td>40.405148</td>\n",
       "      <td>-3.689649</td>\n",
       "      <td>Train Station</td>\n",
       "      <td>{'type': 'Point', 'coordinates': [40.405147928...</td>\n",
       "    </tr>\n",
       "    <tr>\n",
       "      <th>50</th>\n",
       "      <td>Starbucks</td>\n",
       "      <td>40.425760</td>\n",
       "      <td>-3.691782</td>\n",
       "      <td>Coffee Shop</td>\n",
       "      <td>{'type': 'Point', 'coordinates': [40.425760357...</td>\n",
       "    </tr>\n",
       "    <tr>\n",
       "      <th>62</th>\n",
       "      <td>Starbucks</td>\n",
       "      <td>40.417489</td>\n",
       "      <td>-3.704665</td>\n",
       "      <td>Coffee Shop</td>\n",
       "      <td>{'type': 'Point', 'coordinates': [40.417489421...</td>\n",
       "    </tr>\n",
       "    <tr>\n",
       "      <th>31</th>\n",
       "      <td>Gimnasio Moscardó</td>\n",
       "      <td>40.437909</td>\n",
       "      <td>-3.674336</td>\n",
       "      <td>Gym / Fitness</td>\n",
       "      <td>{'type': 'Point', 'coordinates': [40.437908510...</td>\n",
       "    </tr>\n",
       "    <tr>\n",
       "      <th>77</th>\n",
       "      <td>Intercambiador de Sol</td>\n",
       "      <td>40.416932</td>\n",
       "      <td>-3.703023</td>\n",
       "      <td>Train Station</td>\n",
       "      <td>{'type': 'Point', 'coordinates': [40.416931930...</td>\n",
       "    </tr>\n",
       "  </tbody>\n",
       "</table>\n",
       "</div>"
      ],
      "text/plain": [
       "                     name        lat       lng      shortName  \\\n",
       "92                 Vía 11  40.405148 -3.689649  Train Station   \n",
       "50              Starbucks  40.425760 -3.691782    Coffee Shop   \n",
       "62              Starbucks  40.417489 -3.704665    Coffee Shop   \n",
       "31      Gimnasio Moscardó  40.437909 -3.674336  Gym / Fitness   \n",
       "77  Intercambiador de Sol  40.416932 -3.703023  Train Station   \n",
       "\n",
       "                                             location  \n",
       "92  {'type': 'Point', 'coordinates': [40.405147928...  \n",
       "50  {'type': 'Point', 'coordinates': [40.425760357...  \n",
       "62  {'type': 'Point', 'coordinates': [40.417489421...  \n",
       "31  {'type': 'Point', 'coordinates': [40.437908510...  \n",
       "77  {'type': 'Point', 'coordinates': [40.416931930...  "
      ]
     },
     "execution_count": 37,
     "metadata": {},
     "output_type": "execute_result"
    }
   ],
   "source": [
    "madrid_df = pd.DataFrame(madrid_)\n",
    "madrid_df.sample(5)"
   ]
  },
  {
   "cell_type": "code",
   "execution_count": 39,
   "id": "1920c3da",
   "metadata": {},
   "outputs": [
    {
     "data": {
      "text/plain": [
       "pandas.core.frame.DataFrame"
      ]
     },
     "execution_count": 39,
     "metadata": {},
     "output_type": "execute_result"
    }
   ],
   "source": [
    "type(madrid_df)"
   ]
  },
  {
   "cell_type": "code",
   "execution_count": 40,
   "id": "84caeffd",
   "metadata": {},
   "outputs": [
    {
     "data": {
      "text/html": [
       "<div>\n",
       "<style scoped>\n",
       "    .dataframe tbody tr th:only-of-type {\n",
       "        vertical-align: middle;\n",
       "    }\n",
       "\n",
       "    .dataframe tbody tr th {\n",
       "        vertical-align: top;\n",
       "    }\n",
       "\n",
       "    .dataframe thead th {\n",
       "        text-align: right;\n",
       "    }\n",
       "</style>\n",
       "<table border=\"1\" class=\"dataframe\">\n",
       "  <thead>\n",
       "    <tr style=\"text-align: right;\">\n",
       "      <th></th>\n",
       "      <th>name</th>\n",
       "      <th>lat</th>\n",
       "      <th>lng</th>\n",
       "      <th>shortName</th>\n",
       "      <th>location</th>\n",
       "    </tr>\n",
       "  </thead>\n",
       "  <tbody>\n",
       "    <tr>\n",
       "      <th>22</th>\n",
       "      <td>Taberna La Ola</td>\n",
       "      <td>40.481791</td>\n",
       "      <td>-3.671501</td>\n",
       "      <td>Pub</td>\n",
       "      <td>{'type': 'Point', 'coordinates': [40.481791445...</td>\n",
       "    </tr>\n",
       "  </tbody>\n",
       "</table>\n",
       "</div>"
      ],
      "text/plain": [
       "              name        lat       lng shortName  \\\n",
       "22  Taberna La Ola  40.481791 -3.671501       Pub   \n",
       "\n",
       "                                             location  \n",
       "22  {'type': 'Point', 'coordinates': [40.481791445...  "
      ]
     },
     "execution_count": 40,
     "metadata": {},
     "output_type": "execute_result"
    }
   ],
   "source": [
    "madrid_df.sample()"
   ]
  },
  {
   "cell_type": "code",
   "execution_count": 99,
   "id": "fcaeff56",
   "metadata": {},
   "outputs": [],
   "source": [
    "madrid_gdf = gpd.GeoDataFrame(madrid_df, geometry = gpd.points_from_xy(madrid_df.lng, madrid_df.lat))\n"
   ]
  },
  {
   "cell_type": "code",
   "execution_count": 45,
   "id": "766a5161",
   "metadata": {
    "scrolled": true
   },
   "outputs": [
    {
     "data": {
      "text/html": [
       "<div>\n",
       "<style scoped>\n",
       "    .dataframe tbody tr th:only-of-type {\n",
       "        vertical-align: middle;\n",
       "    }\n",
       "\n",
       "    .dataframe tbody tr th {\n",
       "        vertical-align: top;\n",
       "    }\n",
       "\n",
       "    .dataframe thead th {\n",
       "        text-align: right;\n",
       "    }\n",
       "</style>\n",
       "<table border=\"1\" class=\"dataframe\">\n",
       "  <thead>\n",
       "    <tr style=\"text-align: right;\">\n",
       "      <th></th>\n",
       "      <th>name</th>\n",
       "      <th>lat</th>\n",
       "      <th>lng</th>\n",
       "      <th>shortName</th>\n",
       "      <th>location</th>\n",
       "      <th>geometry</th>\n",
       "    </tr>\n",
       "  </thead>\n",
       "  <tbody>\n",
       "    <tr>\n",
       "      <th>26</th>\n",
       "      <td>El Parnasillo del Príncipe</td>\n",
       "      <td>40.414101</td>\n",
       "      <td>-3.700076</td>\n",
       "      <td>Bar</td>\n",
       "      <td>{'type': 'Point', 'coordinates': [40.414100633...</td>\n",
       "      <td>POINT (-3.70008 40.41410)</td>\n",
       "    </tr>\n",
       "  </tbody>\n",
       "</table>\n",
       "</div>"
      ],
      "text/plain": [
       "                          name        lat       lng shortName  \\\n",
       "26  El Parnasillo del Príncipe  40.414101 -3.700076       Bar   \n",
       "\n",
       "                                             location  \\\n",
       "26  {'type': 'Point', 'coordinates': [40.414100633...   \n",
       "\n",
       "                     geometry  \n",
       "26  POINT (-3.70008 40.41410)  "
      ]
     },
     "execution_count": 45,
     "metadata": {},
     "output_type": "execute_result"
    }
   ],
   "source": [
    "madrid_gdf.sample()"
   ]
  },
  {
   "cell_type": "code",
   "execution_count": 100,
   "id": "d96a40da",
   "metadata": {},
   "outputs": [],
   "source": [
    "madrid_gdf.drop('location', axis=1, inplace=True)"
   ]
  },
  {
   "cell_type": "code",
   "execution_count": 49,
   "id": "985b7073",
   "metadata": {},
   "outputs": [
    {
     "data": {
      "text/html": [
       "<div>\n",
       "<style scoped>\n",
       "    .dataframe tbody tr th:only-of-type {\n",
       "        vertical-align: middle;\n",
       "    }\n",
       "\n",
       "    .dataframe tbody tr th {\n",
       "        vertical-align: top;\n",
       "    }\n",
       "\n",
       "    .dataframe thead th {\n",
       "        text-align: right;\n",
       "    }\n",
       "</style>\n",
       "<table border=\"1\" class=\"dataframe\">\n",
       "  <thead>\n",
       "    <tr style=\"text-align: right;\">\n",
       "      <th></th>\n",
       "      <th>name</th>\n",
       "      <th>lat</th>\n",
       "      <th>lng</th>\n",
       "      <th>shortName</th>\n",
       "      <th>geometry</th>\n",
       "    </tr>\n",
       "  </thead>\n",
       "  <tbody>\n",
       "    <tr>\n",
       "      <th>6</th>\n",
       "      <td>Fun House</td>\n",
       "      <td>40.431327</td>\n",
       "      <td>-3.701232</td>\n",
       "      <td>Pub</td>\n",
       "      <td>POINT (-3.70123 40.43133)</td>\n",
       "    </tr>\n",
       "  </tbody>\n",
       "</table>\n",
       "</div>"
      ],
      "text/plain": [
       "        name        lat       lng shortName                   geometry\n",
       "6  Fun House  40.431327 -3.701232       Pub  POINT (-3.70123 40.43133)"
      ]
     },
     "execution_count": 49,
     "metadata": {},
     "output_type": "execute_result"
    }
   ],
   "source": [
    "madrid_gdf.sample()"
   ]
  },
  {
   "cell_type": "code",
   "execution_count": 51,
   "id": "0d61a178",
   "metadata": {},
   "outputs": [
    {
     "data": {
      "text/html": [
       "<div>\n",
       "<style scoped>\n",
       "    .dataframe tbody tr th:only-of-type {\n",
       "        vertical-align: middle;\n",
       "    }\n",
       "\n",
       "    .dataframe tbody tr th {\n",
       "        vertical-align: top;\n",
       "    }\n",
       "\n",
       "    .dataframe thead th {\n",
       "        text-align: right;\n",
       "    }\n",
       "</style>\n",
       "<table border=\"1\" class=\"dataframe\">\n",
       "  <thead>\n",
       "    <tr style=\"text-align: right;\">\n",
       "      <th></th>\n",
       "      <th>name</th>\n",
       "      <th>lat</th>\n",
       "      <th>lng</th>\n",
       "      <th>shortName</th>\n",
       "      <th>location</th>\n",
       "    </tr>\n",
       "  </thead>\n",
       "  <tbody>\n",
       "    <tr>\n",
       "      <th>10</th>\n",
       "      <td>Starbucks</td>\n",
       "      <td>37.673714</td>\n",
       "      <td>-122.464751</td>\n",
       "      <td>Coffee Shop</td>\n",
       "      <td>{'type': 'Point', 'coordinates': [37.673714171...</td>\n",
       "    </tr>\n",
       "  </tbody>\n",
       "</table>\n",
       "</div>"
      ],
      "text/plain": [
       "         name        lat         lng    shortName  \\\n",
       "10  Starbucks  37.673714 -122.464751  Coffee Shop   \n",
       "\n",
       "                                             location  \n",
       "10  {'type': 'Point', 'coordinates': [37.673714171...  "
      ]
     },
     "execution_count": 51,
     "metadata": {},
     "output_type": "execute_result"
    }
   ],
   "source": [
    "san_francisco_df = pd.DataFrame(san_francisco_)\n",
    "san_francisco_df.sample()"
   ]
  },
  {
   "cell_type": "code",
   "execution_count": 123,
   "id": "de964f86",
   "metadata": {},
   "outputs": [
    {
     "data": {
      "text/html": [
       "<div>\n",
       "<style scoped>\n",
       "    .dataframe tbody tr th:only-of-type {\n",
       "        vertical-align: middle;\n",
       "    }\n",
       "\n",
       "    .dataframe tbody tr th {\n",
       "        vertical-align: top;\n",
       "    }\n",
       "\n",
       "    .dataframe thead th {\n",
       "        text-align: right;\n",
       "    }\n",
       "</style>\n",
       "<table border=\"1\" class=\"dataframe\">\n",
       "  <thead>\n",
       "    <tr style=\"text-align: right;\">\n",
       "      <th></th>\n",
       "      <th>name</th>\n",
       "      <th>lat</th>\n",
       "      <th>lng</th>\n",
       "      <th>shortName</th>\n",
       "      <th>geometry</th>\n",
       "    </tr>\n",
       "  </thead>\n",
       "  <tbody>\n",
       "    <tr>\n",
       "      <th>3</th>\n",
       "      <td>Epiphany Gym</td>\n",
       "      <td>37.71529</td>\n",
       "      <td>-122.433975</td>\n",
       "      <td>Basketball Court</td>\n",
       "      <td>POINT (-122.43398 37.71529)</td>\n",
       "    </tr>\n",
       "  </tbody>\n",
       "</table>\n",
       "</div>"
      ],
      "text/plain": [
       "           name       lat         lng         shortName  \\\n",
       "3  Epiphany Gym  37.71529 -122.433975  Basketball Court   \n",
       "\n",
       "                      geometry  \n",
       "3  POINT (-122.43398 37.71529)  "
      ]
     },
     "execution_count": 123,
     "metadata": {},
     "output_type": "execute_result"
    }
   ],
   "source": [
    "san_francisco_gdf = gpd.GeoDataFrame(san_francisco_df, geometry = gpd.points_from_xy(san_francisco_df.lng, san_francisco_df.lat))\n",
    "san_francisco_gdf.drop('location', axis = 1, inplace = True)\n",
    "san_francisco_gdf.sample()\n"
   ]
  },
  {
   "cell_type": "code",
   "execution_count": 128,
   "id": "49c37c52",
   "metadata": {
    "scrolled": true
   },
   "outputs": [
    {
     "data": {
      "text/html": [
       "<div>\n",
       "<style scoped>\n",
       "    .dataframe tbody tr th:only-of-type {\n",
       "        vertical-align: middle;\n",
       "    }\n",
       "\n",
       "    .dataframe tbody tr th {\n",
       "        vertical-align: top;\n",
       "    }\n",
       "\n",
       "    .dataframe thead th {\n",
       "        text-align: right;\n",
       "    }\n",
       "</style>\n",
       "<table border=\"1\" class=\"dataframe\">\n",
       "  <thead>\n",
       "    <tr style=\"text-align: right;\">\n",
       "      <th></th>\n",
       "      <th>name</th>\n",
       "      <th>lat</th>\n",
       "      <th>lng</th>\n",
       "      <th>shortName</th>\n",
       "      <th>geometry</th>\n",
       "    </tr>\n",
       "  </thead>\n",
       "  <tbody>\n",
       "    <tr>\n",
       "      <th>10</th>\n",
       "      <td>Norman (נורמן)</td>\n",
       "      <td>32.070545</td>\n",
       "      <td>34.769481</td>\n",
       "      <td>Pub</td>\n",
       "      <td>POINT (34.76948 32.07054)</td>\n",
       "    </tr>\n",
       "  </tbody>\n",
       "</table>\n",
       "</div>"
      ],
      "text/plain": [
       "              name        lat        lng shortName                   geometry\n",
       "10  Norman (נורמן)  32.070545  34.769481       Pub  POINT (34.76948 32.07054)"
      ]
     },
     "execution_count": 128,
     "metadata": {},
     "output_type": "execute_result"
    }
   ],
   "source": [
    "tel_aviv_df = pd.DataFrame(tel_aviv_)\n",
    "tel_aviv_gdf = gpd.GeoDataFrame(tel_aviv_df, geometry = gpd.points_from_xy(tel_aviv_df.lng, tel_aviv_df.lat))\n",
    "tel_aviv_gdf.drop('location', axis = 1, inplace = True)\n",
    "tel_aviv_gdf.sample()\n"
   ]
  },
  {
   "cell_type": "code",
   "execution_count": 95,
   "id": "06131e66",
   "metadata": {
    "scrolled": true
   },
   "outputs": [
    {
     "data": {
      "text/plain": [
       "Database(MongoClient(host=['localhost:27017'], document_class=dict, tz_aware=False, connect=True), 'geospatial_project_ironhack')"
      ]
     },
     "execution_count": 95,
     "metadata": {},
     "output_type": "execute_result"
    }
   ],
   "source": [
    "client = MongoClient(\"localhost:27017\")\n",
    "db = client.get_database(\"geospatial_project_ironhack\")\n",
    "db"
   ]
  },
  {
   "cell_type": "code",
   "execution_count": 101,
   "id": "b4aaec89",
   "metadata": {},
   "outputs": [
    {
     "name": "stderr",
     "output_type": "stream",
     "text": [
      "/opt/homebrew/Caskroom/miniconda/base/lib/python3.8/site-packages/geopandas/geodataframe.py:1350: UserWarning: Geometry column does not contain geometry.\n",
      "  warnings.warn(\"Geometry column does not contain geometry.\")\n"
     ]
    }
   ],
   "source": [
    "madrid_gdf['geometry']=madrid_gdf['geometry'].apply(lambda x:shapely.geometry.mapping(x))"
   ]
  },
  {
   "cell_type": "code",
   "execution_count": 102,
   "id": "3903ad28",
   "metadata": {},
   "outputs": [],
   "source": [
    "madrid_dic = madrid_gdf.to_dict(orient=\"records\")"
   ]
  },
  {
   "cell_type": "code",
   "execution_count": 103,
   "id": "c9c21da1",
   "metadata": {},
   "outputs": [
    {
     "data": {
      "text/plain": [
       "'geometry_2dsphere'"
      ]
     },
     "execution_count": 103,
     "metadata": {},
     "output_type": "execute_result"
    }
   ],
   "source": [
    "madrid.create_index([(\"geometry\", GEOSPHERE)])"
   ]
  },
  {
   "cell_type": "code",
   "execution_count": 104,
   "id": "71c64de5",
   "metadata": {
    "scrolled": true
   },
   "outputs": [
    {
     "data": {
      "text/plain": [
       "<pymongo.results.InsertManyResult at 0x7fb57007d3c0>"
      ]
     },
     "execution_count": 104,
     "metadata": {},
     "output_type": "execute_result"
    }
   ],
   "source": [
    "madrid.insert_many(madrid_dic)"
   ]
  },
  {
   "cell_type": "code",
   "execution_count": 124,
   "id": "4f94d7ea",
   "metadata": {},
   "outputs": [
    {
     "name": "stderr",
     "output_type": "stream",
     "text": [
      "/opt/homebrew/Caskroom/miniconda/base/lib/python3.8/site-packages/geopandas/geodataframe.py:1350: UserWarning: Geometry column does not contain geometry.\n",
      "  warnings.warn(\"Geometry column does not contain geometry.\")\n"
     ]
    }
   ],
   "source": [
    "san_francisco_gdf['geometry']=san_francisco_gdf['geometry'].apply(lambda x:shapely.geometry.mapping(x))"
   ]
  },
  {
   "cell_type": "code",
   "execution_count": 125,
   "id": "5ee4ecac",
   "metadata": {},
   "outputs": [],
   "source": [
    "san_francisco_dic = san_francisco_gdf.to_dict(orient=\"records\")"
   ]
  },
  {
   "cell_type": "code",
   "execution_count": 126,
   "id": "038830ae",
   "metadata": {},
   "outputs": [
    {
     "data": {
      "text/plain": [
       "'geometry_2dsphere'"
      ]
     },
     "execution_count": 126,
     "metadata": {},
     "output_type": "execute_result"
    }
   ],
   "source": [
    "san_francisco.create_index([(\"geometry\", GEOSPHERE)])"
   ]
  },
  {
   "cell_type": "code",
   "execution_count": 127,
   "id": "6607a1e3",
   "metadata": {},
   "outputs": [
    {
     "data": {
      "text/plain": [
       "<pymongo.results.InsertManyResult at 0x7fb570077b80>"
      ]
     },
     "execution_count": 127,
     "metadata": {},
     "output_type": "execute_result"
    }
   ],
   "source": [
    "san_francisco.insert_many(san_francisco_dic)"
   ]
  },
  {
   "cell_type": "code",
   "execution_count": 129,
   "id": "9d7ff43a",
   "metadata": {},
   "outputs": [
    {
     "name": "stderr",
     "output_type": "stream",
     "text": [
      "/opt/homebrew/Caskroom/miniconda/base/lib/python3.8/site-packages/geopandas/geodataframe.py:1350: UserWarning: Geometry column does not contain geometry.\n",
      "  warnings.warn(\"Geometry column does not contain geometry.\")\n"
     ]
    }
   ],
   "source": [
    "tel_aviv_gdf['geometry']=tel_aviv_gdf['geometry'].apply(lambda x:shapely.geometry.mapping(x))"
   ]
  },
  {
   "cell_type": "code",
   "execution_count": 130,
   "id": "5c1fa580",
   "metadata": {},
   "outputs": [],
   "source": [
    "tel_aviv_dic = tel_aviv_gdf.to_dict(orient=\"records\")"
   ]
  },
  {
   "cell_type": "code",
   "execution_count": 131,
   "id": "acd1d0a3",
   "metadata": {},
   "outputs": [
    {
     "data": {
      "text/plain": [
       "'geometry_2dsphere'"
      ]
     },
     "execution_count": 131,
     "metadata": {},
     "output_type": "execute_result"
    }
   ],
   "source": [
    "tel_aviv.create_index([(\"geometry\", GEOSPHERE)])"
   ]
  },
  {
   "cell_type": "code",
   "execution_count": 132,
   "id": "7cba6726",
   "metadata": {},
   "outputs": [
    {
     "data": {
      "text/plain": [
       "<pymongo.results.InsertManyResult at 0x7fb57007d080>"
      ]
     },
     "execution_count": 132,
     "metadata": {},
     "output_type": "execute_result"
    }
   ],
   "source": [
    "tel_aviv.insert_many(tel_aviv_dic)"
   ]
  }
 ],
 "metadata": {
  "kernelspec": {
   "display_name": "ironhack",
   "language": "python",
   "name": "ironhack"
  },
  "language_info": {
   "codemirror_mode": {
    "name": "ipython",
    "version": 3
   },
   "file_extension": ".py",
   "mimetype": "text/x-python",
   "name": "python",
   "nbconvert_exporter": "python",
   "pygments_lexer": "ipython3",
   "version": "3.8.10"
  }
 },
 "nbformat": 4,
 "nbformat_minor": 5
}
