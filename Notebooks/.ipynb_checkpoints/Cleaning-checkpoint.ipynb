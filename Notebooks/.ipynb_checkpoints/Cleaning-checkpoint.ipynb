{
 "cells": [
  {
   "cell_type": "code",
   "execution_count": 1,
   "id": "b4ab6fde",
   "metadata": {},
   "outputs": [
    {
     "name": "stdout",
     "output_type": "stream",
     "text": [
      "Requirement already satisfied: pyjsonviewer in /opt/homebrew/Caskroom/miniconda/base/lib/python3.8/site-packages (1.6.0)\n",
      "Note: you may need to restart the kernel to use updated packages.\n"
     ]
    }
   ],
   "source": [
    "%pip install pyjsonviewer"
   ]
  },
  {
   "cell_type": "code",
   "execution_count": 2,
   "id": "4b2048a7",
   "metadata": {},
   "outputs": [],
   "source": [
    "import requests\n",
    "import json\n",
    "from dotenv import load_dotenv\n",
    "import os\n",
    "import pandas as pd\n",
    "import sys\n",
    "sys.path.append('/Users/maperezdeayalas/Documents/Ironhack/Geospatial-Data-Project-/SRC')\n",
    "import functions as fc\n",
    "from functools import reduce\n",
    "import operator"
   ]
  },
  {
   "cell_type": "code",
   "execution_count": 3,
   "id": "b567d2bc",
   "metadata": {},
   "outputs": [],
   "source": [
    "import pyjsonviewer"
   ]
  },
  {
   "cell_type": "code",
   "execution_count": 4,
   "id": "859b16aa",
   "metadata": {},
   "outputs": [],
   "source": [
    "# Ciudades: Madrid, San Francisco & Tel Aviv "
   ]
  },
  {
   "cell_type": "code",
   "execution_count": 5,
   "id": "2dfc4d4a",
   "metadata": {},
   "outputs": [
    {
     "data": {
      "text/plain": [
       "'\\nPrimero decido que coordenadas voy a coger como punto inicial por ciudad - en este caso puntos centricos de la ciudad\\ncon buena conexion para viajar\\nMadrid = Torre Picasso (al lado de Nuevos Ministerios que me daba error si no...)\\nSan Francisco = Caltrain Station San Francisco\\nTel Aviv = Tel Aviv Savidor Mercaz\\n'"
      ]
     },
     "execution_count": 5,
     "metadata": {},
     "output_type": "execute_result"
    }
   ],
   "source": [
    "\"\"\"\n",
    "Primero decido que coordenadas voy a coger como punto inicial por ciudad - en este caso puntos centricos de la ciudad\n",
    "con buena conexion para viajar\n",
    "Madrid = Torre Picasso (al lado de Nuevos Ministerios que me daba error si no...)\n",
    "San Francisco = Caltrain Station San Francisco\n",
    "Tel Aviv = Tel Aviv Savidor Mercaz\n",
    "\"\"\""
   ]
  },
  {
   "cell_type": "code",
   "execution_count": 6,
   "id": "bb6edfa9",
   "metadata": {},
   "outputs": [],
   "source": [
    "# Como hago para importar esta funcion de SRC???\n",
    "def geocode(direccion):\n",
    "    \"\"\"\n",
    "    Esta función saca las coordenadas de la dirección que le pases\n",
    "    \"\"\"\n",
    "    data = requests.get(f\"https://geocode.xyz/{direccion}?json=1\").json()\n",
    "    try:\n",
    "        return {\"type\": \"Point\", \"coordinates\": [data[\"latt\"], data[\"longt\"]]}\n",
    "    except:\n",
    "        return data"
   ]
  },
  {
   "cell_type": "code",
   "execution_count": 7,
   "id": "8fa20c9f",
   "metadata": {},
   "outputs": [
    {
     "data": {
      "text/plain": [
       "{'type': 'Point', 'coordinates': ['40.45007', '-3.69280']}"
      ]
     },
     "execution_count": 7,
     "metadata": {},
     "output_type": "execute_result"
    }
   ],
   "source": [
    "madrid = geocode('Torre Picasso, Madrid')\n",
    "madrid"
   ]
  },
  {
   "cell_type": "code",
   "execution_count": 8,
   "id": "23a820a5",
   "metadata": {},
   "outputs": [
    {
     "data": {
      "text/plain": [
       "{'type': 'Point', 'coordinates': ['37.68461', '-122.39846']}"
      ]
     },
     "execution_count": 8,
     "metadata": {},
     "output_type": "execute_result"
    }
   ],
   "source": [
    "san_francisco = geocode('Caltrain Station San Francisco')\n",
    "san_francisco"
   ]
  },
  {
   "cell_type": "code",
   "execution_count": 34,
   "id": "4b06d59a",
   "metadata": {},
   "outputs": [
    {
     "data": {
      "text/plain": [
       "{'type': 'Point', 'coordinates': ['32.08757', '34.78461']}"
      ]
     },
     "execution_count": 34,
     "metadata": {},
     "output_type": "execute_result"
    }
   ],
   "source": [
    "tel_aviv = geocode('Tel Aviv Savidor Mercaz')\n",
    "tel_aviv"
   ]
  },
  {
   "cell_type": "code",
   "execution_count": 10,
   "id": "a68712a5",
   "metadata": {},
   "outputs": [
    {
     "data": {
      "text/plain": [
       "'\\nAhora paso a Foursquare para ver los sitios que tengo cerca, elijo como 3 / 4 criterios por ciudad:\\nCriterios:\\n- Bar\\n- Starbucks\\n- Basketball court\\n\\n'"
      ]
     },
     "execution_count": 10,
     "metadata": {},
     "output_type": "execute_result"
    }
   ],
   "source": [
    "\"\"\"\n",
    "Ahora paso a Foursquare para ver los sitios que tengo cerca, elijo como 3 / 4 criterios por ciudad:\n",
    "Criterios:\n",
    "- Bar\n",
    "- Starbucks\n",
    "- Basketball court\n",
    "\n",
    "\"\"\""
   ]
  },
  {
   "cell_type": "code",
   "execution_count": 11,
   "id": "19bbacb2",
   "metadata": {},
   "outputs": [
    {
     "data": {
      "text/plain": [
       "True"
      ]
     },
     "execution_count": 11,
     "metadata": {},
     "output_type": "execute_result"
    }
   ],
   "source": [
    "load_dotenv()"
   ]
  },
  {
   "cell_type": "code",
   "execution_count": 12,
   "id": "6bda6ce7",
   "metadata": {},
   "outputs": [],
   "source": [
    "client_id = os.getenv(\"tok1\")\n",
    "client_secret = os.getenv(\"tok2\")"
   ]
  },
  {
   "cell_type": "code",
   "execution_count": 13,
   "id": "339e2614",
   "metadata": {},
   "outputs": [],
   "source": [
    "url_query = 'https://api.foursquare.com/v2/venues/search'\n",
    "url_recomendados = 'https://api.foursquare.com/v2/venues/explore'"
   ]
  },
  {
   "cell_type": "code",
   "execution_count": 14,
   "id": "5ec4793d",
   "metadata": {},
   "outputs": [],
   "source": [
    "# Empiezo cogiendo los criterios de Madrid"
   ]
  },
  {
   "cell_type": "code",
   "execution_count": 15,
   "id": "e2d9e3b4",
   "metadata": {},
   "outputs": [],
   "source": [
    "parametros_bar_mad = {\n",
    "    \"client_id\": client_id,\n",
    "    \"client_secret\": client_secret,\n",
    "    \"v\": \"20180323\",\n",
    "    \"ll\": f\"{madrid['coordinates'][0]}, {madrid['coordinates'][1]}\",\n",
    "    \"query\": \"Bar\"\n",
    "}"
   ]
  },
  {
   "cell_type": "code",
   "execution_count": 16,
   "id": "3f3566bb",
   "metadata": {},
   "outputs": [],
   "source": [
    "resp_bar_mad = requests.get(url_query, params = parametros_bar_mad).json()"
   ]
  },
  {
   "cell_type": "code",
   "execution_count": 17,
   "id": "669a7cbb",
   "metadata": {},
   "outputs": [
    {
     "data": {
      "text/plain": [
       "dict"
      ]
     },
     "execution_count": 17,
     "metadata": {},
     "output_type": "execute_result"
    }
   ],
   "source": [
    "type(resp_bar_mad)"
   ]
  },
  {
   "cell_type": "code",
   "execution_count": 18,
   "id": "1f4adfb0",
   "metadata": {},
   "outputs": [],
   "source": [
    "parametros_starbucks_mad = {\n",
    "    \"client_id\": client_id,\n",
    "    \"client_secret\": client_secret,\n",
    "    \"v\": \"20180323\",\n",
    "    \"ll\": f\"{madrid['coordinates'][0]}, {madrid['coordinates'][1]}\",\n",
    "    \"query\": \"Starbucks\"\n",
    "}"
   ]
  },
  {
   "cell_type": "code",
   "execution_count": 19,
   "id": "40479863",
   "metadata": {},
   "outputs": [],
   "source": [
    "resp_starbucks_mad = requests.get(url_query, params = parametros_starbucks_mad).json()"
   ]
  },
  {
   "cell_type": "code",
   "execution_count": 20,
   "id": "e60ec63f",
   "metadata": {},
   "outputs": [
    {
     "data": {
      "text/plain": [
       "dict"
      ]
     },
     "execution_count": 20,
     "metadata": {},
     "output_type": "execute_result"
    }
   ],
   "source": [
    "type(resp_starbucks_mad)"
   ]
  },
  {
   "cell_type": "code",
   "execution_count": 21,
   "id": "37084030",
   "metadata": {},
   "outputs": [],
   "source": [
    "parametros_basket_mad = {\n",
    "    \"client_id\": client_id,\n",
    "    \"client_secret\": client_secret,\n",
    "    \"v\": \"20180323\",\n",
    "    \"ll\": f\"{madrid['coordinates'][0]}, {madrid['coordinates'][1]}\",\n",
    "    \"query\": \"Cancha Baloncesto\"\n",
    "}"
   ]
  },
  {
   "cell_type": "code",
   "execution_count": 22,
   "id": "6a012527",
   "metadata": {},
   "outputs": [],
   "source": [
    "resp_basket_mad = requests.get(url_query, params = parametros_basket_mad).json()"
   ]
  },
  {
   "cell_type": "code",
   "execution_count": 23,
   "id": "fb6a9eaa",
   "metadata": {},
   "outputs": [
    {
     "data": {
      "text/plain": [
       "dict"
      ]
     },
     "execution_count": 23,
     "metadata": {},
     "output_type": "execute_result"
    }
   ],
   "source": [
    "type(resp_basket_mad)"
   ]
  },
  {
   "cell_type": "code",
   "execution_count": 24,
   "id": "6f6820cb",
   "metadata": {},
   "outputs": [],
   "source": [
    "# Podría hacer una función aquí??? "
   ]
  },
  {
   "cell_type": "code",
   "execution_count": 25,
   "id": "01c5512c",
   "metadata": {},
   "outputs": [],
   "source": [
    "# Ahora paso a SF"
   ]
  },
  {
   "cell_type": "code",
   "execution_count": 26,
   "id": "afb1873f",
   "metadata": {},
   "outputs": [],
   "source": [
    "parametros_bar_sf = {\n",
    "    \"client_id\": client_id,\n",
    "    \"client_secret\": client_secret,\n",
    "    \"v\": \"20180323\",\n",
    "    \"ll\": f\"{san_francisco['coordinates'][0]}, {san_francisco['coordinates'][1]}\",\n",
    "    \"query\": \"Bar\"\n",
    "}"
   ]
  },
  {
   "cell_type": "code",
   "execution_count": 27,
   "id": "4bc275e2",
   "metadata": {},
   "outputs": [],
   "source": [
    "resp_bar_sf = requests.get(url_query, params = parametros_bar_sf).json()"
   ]
  },
  {
   "cell_type": "code",
   "execution_count": 28,
   "id": "e47c5357",
   "metadata": {},
   "outputs": [],
   "source": [
    "parametros_starbucks_sf = {\n",
    "    \"client_id\": client_id,\n",
    "    \"client_secret\": client_secret,\n",
    "    \"v\": \"20180323\",\n",
    "    \"ll\": f\"{san_francisco['coordinates'][0]}, {san_francisco['coordinates'][1]}\",\n",
    "    \"query\": \"Starbucks\"\n",
    "}"
   ]
  },
  {
   "cell_type": "code",
   "execution_count": 29,
   "id": "2a9699c8",
   "metadata": {},
   "outputs": [],
   "source": [
    "resp_starbucks_sf = requests.get(url_query, params = parametros_starbucks_sf).json()"
   ]
  },
  {
   "cell_type": "code",
   "execution_count": 30,
   "id": "77c923ed",
   "metadata": {},
   "outputs": [],
   "source": [
    "parametros_basket_sf = {\n",
    "    \"client_id\": client_id,\n",
    "    \"client_secret\": client_secret,\n",
    "    \"v\": \"20180323\",\n",
    "    \"ll\": f\"{san_francisco['coordinates'][0]}, {san_francisco['coordinates'][1]}\",\n",
    "    \"query\": \"Basketball Court\"\n",
    "}"
   ]
  },
  {
   "cell_type": "code",
   "execution_count": 31,
   "id": "9c9d5bfd",
   "metadata": {},
   "outputs": [],
   "source": [
    "resp_basket_sf = requests.get(url_query, params = parametros_basket_sf).json()"
   ]
  },
  {
   "cell_type": "code",
   "execution_count": 32,
   "id": "79dcb9b9",
   "metadata": {},
   "outputs": [],
   "source": [
    "# Y ya por último Tel Aviv"
   ]
  },
  {
   "cell_type": "code",
   "execution_count": 35,
   "id": "b6e3c289",
   "metadata": {},
   "outputs": [],
   "source": [
    "parametros_bar_ta = {\n",
    "    \"client_id\": client_id,\n",
    "    \"client_secret\": client_secret,\n",
    "    \"v\": \"20180323\",\n",
    "    \"ll\": f\"{tel_aviv['coordinates'][0]}, {tel_aviv['coordinates'][1]}\",\n",
    "    \"query\": \"Bar\"\n",
    "}"
   ]
  },
  {
   "cell_type": "code",
   "execution_count": 36,
   "id": "4fb7102c",
   "metadata": {},
   "outputs": [],
   "source": [
    "resp_bar_ta = requests.get(url_query, params = parametros_bar_ta).json()"
   ]
  },
  {
   "cell_type": "code",
   "execution_count": 37,
   "id": "8f699392",
   "metadata": {},
   "outputs": [],
   "source": [
    "parametros_starbucks_ta = {\n",
    "    \"client_id\": client_id,\n",
    "    \"client_secret\": client_secret,\n",
    "    \"v\": \"20180323\",\n",
    "    \"ll\": f\"{tel_aviv['coordinates'][0]}, {tel_aviv['coordinates'][1]}\",\n",
    "    \"query\": \"Starbucks\"\n",
    "}"
   ]
  },
  {
   "cell_type": "code",
   "execution_count": 38,
   "id": "d51e9097",
   "metadata": {},
   "outputs": [],
   "source": [
    "resp_starbucks_ta = requests.get(url_query, params = parametros_starbucks_ta).json()"
   ]
  },
  {
   "cell_type": "code",
   "execution_count": 39,
   "id": "91449752",
   "metadata": {},
   "outputs": [],
   "source": [
    "parametros_basket_ta = {\n",
    "    \"client_id\": client_id,\n",
    "    \"client_secret\": client_secret,\n",
    "    \"v\": \"20180323\",\n",
    "    \"ll\": f\"{tel_aviv['coordinates'][0]}, {tel_aviv['coordinates'][1]}\",\n",
    "    \"query\": \"Basketball Court\"\n",
    "}"
   ]
  },
  {
   "cell_type": "code",
   "execution_count": 40,
   "id": "ff8c9898",
   "metadata": {},
   "outputs": [],
   "source": [
    "resp_basket_ta = requests.get(url_query, params = parametros_basket_ta).json()"
   ]
  },
  {
   "cell_type": "code",
   "execution_count": null,
   "id": "8fb053ef",
   "metadata": {},
   "outputs": [],
   "source": [
    "# Ahora hago lo que pyjsonviewer para ver mejor lo que quiero"
   ]
  },
  {
   "cell_type": "code",
   "execution_count": 41,
   "id": "d868e0a6",
   "metadata": {},
   "outputs": [],
   "source": [
    "import json\n",
    "with open('madrid.json', 'w') as f:\n",
    "    json.dump(resp_bar_mad, f)"
   ]
  },
  {
   "cell_type": "code",
   "execution_count": null,
   "id": "a0e1a6ab",
   "metadata": {},
   "outputs": [],
   "source": [
    "pyjsonviewer.view_data(json_file=\"madrid.json\")"
   ]
  },
  {
   "cell_type": "code",
   "execution_count": 42,
   "id": "cb4785eb",
   "metadata": {},
   "outputs": [],
   "source": [
    "def getFromDict(diccionario,mapa):\n",
    "    return reduce(operator.getitem,mapa,diccionario)"
   ]
  },
  {
   "cell_type": "code",
   "execution_count": null,
   "id": "6b3168c5",
   "metadata": {},
   "outputs": [],
   "source": [
    "# Y ahora tengo que limpiar lo que me devuelve foursquare"
   ]
  },
  {
   "cell_type": "code",
   "execution_count": 43,
   "id": "21243000",
   "metadata": {
    "scrolled": true
   },
   "outputs": [
    {
     "data": {
      "text/plain": [
       "{'id': '4c595e02b8b3c9b6abe888b6',\n",
       " 'name': 'Tapas  Bar',\n",
       " 'contact': {},\n",
       " 'location': {'address': 'Paseo de la Castellana, 95',\n",
       "  'lat': 40.45104383573553,\n",
       "  'lng': -3.6915566385306384,\n",
       "  'labeledLatLngs': [{'label': 'display',\n",
       "    'lat': 40.45104383573553,\n",
       "    'lng': -3.6915566385306384}],\n",
       "  'distance': 151,\n",
       "  'postalCode': '28046',\n",
       "  'cc': 'ES',\n",
       "  'city': 'Madrid',\n",
       "  'state': 'Madrid',\n",
       "  'country': 'España',\n",
       "  'formattedAddress': ['Paseo de la Castellana, 95',\n",
       "   '28046 Madrid Madrid',\n",
       "   'España']},\n",
       " 'categories': [{'id': '4bf58dd8d48988d150941735',\n",
       "   'name': 'Spanish Restaurant',\n",
       "   'pluralName': 'Spanish Restaurants',\n",
       "   'shortName': 'Spanish',\n",
       "   'icon': {'prefix': 'https://ss3.4sqi.net/img/categories_v2/food/spanish_',\n",
       "    'suffix': '.png'},\n",
       "   'primary': True}],\n",
       " 'verified': False,\n",
       " 'stats': {'tipCount': 0,\n",
       "  'usersCount': 0,\n",
       "  'checkinsCount': 0,\n",
       "  'visitsCount': 0},\n",
       " 'beenHere': {'count': 0,\n",
       "  'lastCheckinExpiredAt': 0,\n",
       "  'marked': False,\n",
       "  'unconfirmedCount': 0},\n",
       " 'hereNow': {'count': 0, 'summary': 'Nobody here', 'groups': []},\n",
       " 'referralId': 'v-1636906550',\n",
       " 'venueChains': [],\n",
       " 'hasPerk': False}"
      ]
     },
     "execution_count": 43,
     "metadata": {},
     "output_type": "execute_result"
    }
   ],
   "source": [
    "resp_bar_mad['response']['venues'][0]"
   ]
  },
  {
   "cell_type": "code",
   "execution_count": 44,
   "id": "b7016e1b",
   "metadata": {},
   "outputs": [],
   "source": [
    "map = ['location', 'lat']"
   ]
  },
  {
   "cell_type": "code",
   "execution_count": 45,
   "id": "a22a14f1",
   "metadata": {},
   "outputs": [
    {
     "data": {
      "text/plain": [
       "40.45104383573553"
      ]
     },
     "execution_count": 45,
     "metadata": {},
     "output_type": "execute_result"
    }
   ],
   "source": [
    "getFromDict(resp_bar_mad[\"response\"][\"venues\"][0], map)"
   ]
  },
  {
   "cell_type": "code",
   "execution_count": 46,
   "id": "e3232035",
   "metadata": {},
   "outputs": [],
   "source": [
    "def type_point(lista):\n",
    "    return {\"type\":\"Point\", \"coordinates\": lista}"
   ]
  },
  {
   "cell_type": "code",
   "execution_count": 55,
   "id": "d2d59c24",
   "metadata": {},
   "outputs": [],
   "source": [
    "def keydata(json):\n",
    "    info = {\"nombre\": [\"name\"], \"latitud\": [\"location\", \"lat\"], \"longitud\": [\"location\", \"lng\"]} \n",
    "    total = []\n",
    "    for elemento in json:\n",
    "        place = {key: getFromDict(elemento, value) for key,value in info.items()}\n",
    "        place[\"location\"] = type_point([place[\"latitud\"], place[\"longitud\"]])\n",
    "        total.append(place)\n",
    "    return total\n"
   ]
  },
  {
   "cell_type": "code",
   "execution_count": 56,
   "id": "3921b807",
   "metadata": {},
   "outputs": [
    {
     "data": {
      "text/plain": [
       "dict"
      ]
     },
     "execution_count": 56,
     "metadata": {},
     "output_type": "execute_result"
    }
   ],
   "source": [
    "type(resp_bar_mad)"
   ]
  },
  {
   "cell_type": "code",
   "execution_count": 57,
   "id": "a8071dab",
   "metadata": {},
   "outputs": [],
   "source": [
    "bar_mad = resp_bar_mad['response']['venues']"
   ]
  },
  {
   "cell_type": "code",
   "execution_count": 58,
   "id": "67bb077c",
   "metadata": {},
   "outputs": [
    {
     "data": {
      "text/plain": [
       "list"
      ]
     },
     "execution_count": 58,
     "metadata": {},
     "output_type": "execute_result"
    }
   ],
   "source": [
    "type(bar_mad)"
   ]
  },
  {
   "cell_type": "code",
   "execution_count": 59,
   "id": "8e33bd35",
   "metadata": {},
   "outputs": [],
   "source": [
    "bar_mad_claro = keydata(bar_mad)"
   ]
  },
  {
   "cell_type": "code",
   "execution_count": 60,
   "id": "36cb3f5c",
   "metadata": {},
   "outputs": [],
   "source": [
    "data_bar_mad = pd.DataFrame(bar_mad_claro)"
   ]
  },
  {
   "cell_type": "code",
   "execution_count": 61,
   "id": "9fe76ded",
   "metadata": {
    "scrolled": true
   },
   "outputs": [
    {
     "data": {
      "text/html": [
       "<div>\n",
       "<style scoped>\n",
       "    .dataframe tbody tr th:only-of-type {\n",
       "        vertical-align: middle;\n",
       "    }\n",
       "\n",
       "    .dataframe tbody tr th {\n",
       "        vertical-align: top;\n",
       "    }\n",
       "\n",
       "    .dataframe thead th {\n",
       "        text-align: right;\n",
       "    }\n",
       "</style>\n",
       "<table border=\"1\" class=\"dataframe\">\n",
       "  <thead>\n",
       "    <tr style=\"text-align: right;\">\n",
       "      <th></th>\n",
       "      <th>nombre</th>\n",
       "      <th>latitud</th>\n",
       "      <th>longitud</th>\n",
       "      <th>location</th>\n",
       "    </tr>\n",
       "  </thead>\n",
       "  <tbody>\n",
       "    <tr>\n",
       "      <th>0</th>\n",
       "      <td>Tapas  Bar</td>\n",
       "      <td>40.451044</td>\n",
       "      <td>-3.691557</td>\n",
       "      <td>{'type': 'Point', 'coordinates': [40.451043835...</td>\n",
       "    </tr>\n",
       "    <tr>\n",
       "      <th>1</th>\n",
       "      <td>Bar Delfín</td>\n",
       "      <td>40.449049</td>\n",
       "      <td>-3.695312</td>\n",
       "      <td>{'type': 'Point', 'coordinates': [40.449049196...</td>\n",
       "    </tr>\n",
       "    <tr>\n",
       "      <th>2</th>\n",
       "      <td>Bar Los Torreznos</td>\n",
       "      <td>40.441387</td>\n",
       "      <td>-3.697533</td>\n",
       "      <td>{'type': 'Point', 'coordinates': [40.441387220...</td>\n",
       "    </tr>\n",
       "    <tr>\n",
       "      <th>3</th>\n",
       "      <td>El Bar 89</td>\n",
       "      <td>40.444865</td>\n",
       "      <td>-3.698840</td>\n",
       "      <td>{'type': 'Point', 'coordinates': [40.444864855...</td>\n",
       "    </tr>\n",
       "    <tr>\n",
       "      <th>4</th>\n",
       "      <td>B12 The Bar Lab</td>\n",
       "      <td>40.445931</td>\n",
       "      <td>-3.686380</td>\n",
       "      <td>{'type': 'Point', 'coordinates': [40.445930867...</td>\n",
       "    </tr>\n",
       "  </tbody>\n",
       "</table>\n",
       "</div>"
      ],
      "text/plain": [
       "              nombre    latitud  longitud  \\\n",
       "0         Tapas  Bar  40.451044 -3.691557   \n",
       "1         Bar Delfín  40.449049 -3.695312   \n",
       "2  Bar Los Torreznos  40.441387 -3.697533   \n",
       "3          El Bar 89  40.444865 -3.698840   \n",
       "4    B12 The Bar Lab  40.445931 -3.686380   \n",
       "\n",
       "                                            location  \n",
       "0  {'type': 'Point', 'coordinates': [40.451043835...  \n",
       "1  {'type': 'Point', 'coordinates': [40.449049196...  \n",
       "2  {'type': 'Point', 'coordinates': [40.441387220...  \n",
       "3  {'type': 'Point', 'coordinates': [40.444864855...  \n",
       "4  {'type': 'Point', 'coordinates': [40.445930867...  "
      ]
     },
     "execution_count": 61,
     "metadata": {},
     "output_type": "execute_result"
    }
   ],
   "source": [
    "data_bar_mad.head()"
   ]
  },
  {
   "cell_type": "code",
   "execution_count": 71,
   "id": "438b99af",
   "metadata": {},
   "outputs": [],
   "source": [
    "import json\n",
    "with open ('bar_mad.json', 'w') as f:\n",
    "    json.dump(bar_mad_claro, f)"
   ]
  },
  {
   "cell_type": "code",
   "execution_count": 67,
   "id": "67c933bc",
   "metadata": {},
   "outputs": [
    {
     "data": {
      "text/plain": [
       "_io.TextIOWrapper"
      ]
     },
     "execution_count": 67,
     "metadata": {},
     "output_type": "execute_result"
    }
   ],
   "source": [
    "type(f)"
   ]
  },
  {
   "cell_type": "code",
   "execution_count": null,
   "id": "da695300",
   "metadata": {},
   "outputs": [],
   "source": [
    "# Y ahora uso la función para el resto de mis datasets"
   ]
  },
  {
   "cell_type": "code",
   "execution_count": 72,
   "id": "6e872f5b",
   "metadata": {},
   "outputs": [],
   "source": [
    "basket_mad = resp_basket_mad['response']['venues']"
   ]
  },
  {
   "cell_type": "code",
   "execution_count": 73,
   "id": "13e1384e",
   "metadata": {},
   "outputs": [],
   "source": [
    "basket_mad_claro = keydata(basket_mad)"
   ]
  },
  {
   "cell_type": "code",
   "execution_count": 74,
   "id": "3e507117",
   "metadata": {},
   "outputs": [
    {
     "data": {
      "text/html": [
       "<div>\n",
       "<style scoped>\n",
       "    .dataframe tbody tr th:only-of-type {\n",
       "        vertical-align: middle;\n",
       "    }\n",
       "\n",
       "    .dataframe tbody tr th {\n",
       "        vertical-align: top;\n",
       "    }\n",
       "\n",
       "    .dataframe thead th {\n",
       "        text-align: right;\n",
       "    }\n",
       "</style>\n",
       "<table border=\"1\" class=\"dataframe\">\n",
       "  <thead>\n",
       "    <tr style=\"text-align: right;\">\n",
       "      <th></th>\n",
       "      <th>nombre</th>\n",
       "      <th>latitud</th>\n",
       "      <th>longitud</th>\n",
       "      <th>location</th>\n",
       "    </tr>\n",
       "  </thead>\n",
       "  <tbody>\n",
       "    <tr>\n",
       "      <th>0</th>\n",
       "      <td>Cancha Baloncesto</td>\n",
       "      <td>40.399531</td>\n",
       "      <td>-3.684874</td>\n",
       "      <td>{'type': 'Point', 'coordinates': [40.399531464...</td>\n",
       "    </tr>\n",
       "    <tr>\n",
       "      <th>1</th>\n",
       "      <td>Cancha Baloncesto Santa Paula</td>\n",
       "      <td>40.466998</td>\n",
       "      <td>-3.640037</td>\n",
       "      <td>{'type': 'Point', 'coordinates': [40.466998, -...</td>\n",
       "    </tr>\n",
       "    <tr>\n",
       "      <th>2</th>\n",
       "      <td>Cancha Baloncesto</td>\n",
       "      <td>40.509340</td>\n",
       "      <td>-3.676942</td>\n",
       "      <td>{'type': 'Point', 'coordinates': [40.50934, -3...</td>\n",
       "    </tr>\n",
       "    <tr>\n",
       "      <th>3</th>\n",
       "      <td>cancha baloncesto</td>\n",
       "      <td>40.368928</td>\n",
       "      <td>-3.714425</td>\n",
       "      <td>{'type': 'Point', 'coordinates': [40.368927768...</td>\n",
       "    </tr>\n",
       "    <tr>\n",
       "      <th>4</th>\n",
       "      <td>Canchas baloncesto</td>\n",
       "      <td>40.403492</td>\n",
       "      <td>-3.713572</td>\n",
       "      <td>{'type': 'Point', 'coordinates': [40.403492220...</td>\n",
       "    </tr>\n",
       "  </tbody>\n",
       "</table>\n",
       "</div>"
      ],
      "text/plain": [
       "                          nombre    latitud  longitud  \\\n",
       "0              Cancha Baloncesto  40.399531 -3.684874   \n",
       "1  Cancha Baloncesto Santa Paula  40.466998 -3.640037   \n",
       "2              Cancha Baloncesto  40.509340 -3.676942   \n",
       "3              cancha baloncesto  40.368928 -3.714425   \n",
       "4             Canchas baloncesto  40.403492 -3.713572   \n",
       "\n",
       "                                            location  \n",
       "0  {'type': 'Point', 'coordinates': [40.399531464...  \n",
       "1  {'type': 'Point', 'coordinates': [40.466998, -...  \n",
       "2  {'type': 'Point', 'coordinates': [40.50934, -3...  \n",
       "3  {'type': 'Point', 'coordinates': [40.368927768...  \n",
       "4  {'type': 'Point', 'coordinates': [40.403492220...  "
      ]
     },
     "execution_count": 74,
     "metadata": {},
     "output_type": "execute_result"
    }
   ],
   "source": [
    "data_basket_mad = pd.DataFrame(basket_mad_claro)\n",
    "data_basket_mad.head()"
   ]
  },
  {
   "cell_type": "code",
   "execution_count": 75,
   "id": "2561f816",
   "metadata": {},
   "outputs": [],
   "source": [
    "starbucks_mad = resp_starbucks_mad['response']['venues']"
   ]
  },
  {
   "cell_type": "code",
   "execution_count": 76,
   "id": "5958d227",
   "metadata": {},
   "outputs": [],
   "source": [
    "starbucks_mad_claro = keydata(starbucks_mad)"
   ]
  },
  {
   "cell_type": "code",
   "execution_count": 78,
   "id": "1886ef63",
   "metadata": {},
   "outputs": [],
   "source": [
    "bar_sf = resp_bar_sf['response']['venues']"
   ]
  },
  {
   "cell_type": "code",
   "execution_count": 79,
   "id": "4df90dcc",
   "metadata": {},
   "outputs": [],
   "source": [
    "bar_sf_claro = keydata(bar_sf)"
   ]
  },
  {
   "cell_type": "code",
   "execution_count": 80,
   "id": "9039eb42",
   "metadata": {},
   "outputs": [],
   "source": [
    "starbucks_sf = resp_starbucks_sf['response']['venues']"
   ]
  },
  {
   "cell_type": "code",
   "execution_count": 81,
   "id": "d0e062d3",
   "metadata": {},
   "outputs": [],
   "source": [
    "starbucks_sf_claro = keydata(starbucks_sf)"
   ]
  },
  {
   "cell_type": "code",
   "execution_count": 82,
   "id": "07f1efc3",
   "metadata": {},
   "outputs": [],
   "source": [
    "basket_sf = resp_basket_sf['response']['venues']"
   ]
  },
  {
   "cell_type": "code",
   "execution_count": 83,
   "id": "68a6722a",
   "metadata": {},
   "outputs": [],
   "source": [
    "basket_sf_claro = keydata(basket_sf)"
   ]
  },
  {
   "cell_type": "code",
   "execution_count": 84,
   "id": "4fc6dcba",
   "metadata": {},
   "outputs": [],
   "source": [
    "bar_ta = resp_bar_ta['response']['venues']"
   ]
  },
  {
   "cell_type": "code",
   "execution_count": 85,
   "id": "feb5c67f",
   "metadata": {},
   "outputs": [],
   "source": [
    "bar_ta_claro = keydata(bar_ta)"
   ]
  },
  {
   "cell_type": "code",
   "execution_count": 86,
   "id": "9768cb87",
   "metadata": {},
   "outputs": [],
   "source": [
    "starbucks_ta = resp_starbucks_ta['response']['venues']"
   ]
  },
  {
   "cell_type": "code",
   "execution_count": 87,
   "id": "9005345c",
   "metadata": {},
   "outputs": [],
   "source": [
    "starbucks_ta_claro = keydata(starbucks_ta)"
   ]
  },
  {
   "cell_type": "code",
   "execution_count": 88,
   "id": "7c67b842",
   "metadata": {},
   "outputs": [],
   "source": [
    "basket_ta = resp_basket_ta['response']['venues']"
   ]
  },
  {
   "cell_type": "code",
   "execution_count": 89,
   "id": "53506a84",
   "metadata": {},
   "outputs": [],
   "source": [
    "basket_ta_claro = keydata(basket_ta)"
   ]
  }
 ],
 "metadata": {
  "kernelspec": {
   "display_name": "ironhack",
   "language": "python",
   "name": "ironhack"
  },
  "language_info": {
   "codemirror_mode": {
    "name": "ipython",
    "version": 3
   },
   "file_extension": ".py",
   "mimetype": "text/x-python",
   "name": "python",
   "nbconvert_exporter": "python",
   "pygments_lexer": "ipython3",
   "version": "3.8.10"
  }
 },
 "nbformat": 4,
 "nbformat_minor": 5
}
