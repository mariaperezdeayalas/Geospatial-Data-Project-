{
 "cells": [
  {
   "cell_type": "code",
   "execution_count": null,
   "id": "bda135bc",
   "metadata": {
    "scrolled": true
   },
   "outputs": [],
   "source": [
    "%pip install pyjsonviewer"
   ]
  },
  {
   "cell_type": "code",
   "execution_count": 1,
   "id": "1ee636f1",
   "metadata": {},
   "outputs": [],
   "source": [
    "import requests\n",
    "import json\n",
    "from dotenv import load_dotenv\n",
    "import os\n",
    "import pandas as pd\n",
    "import sys\n",
    "sys.path.append('/Users/maperezdeayalas/Documents/Ironhack/Geospatial-Data-Project-/SRC')\n",
    "import functions as fc\n",
    "from functools import reduce\n",
    "import operator"
   ]
  },
  {
   "cell_type": "code",
   "execution_count": 2,
   "id": "498762ee",
   "metadata": {},
   "outputs": [],
   "source": [
    "import pyjsonviewer"
   ]
  },
  {
   "cell_type": "code",
   "execution_count": null,
   "id": "0138a36e",
   "metadata": {},
   "outputs": [],
   "source": [
    "# Ciudades: Madrid, San Francisco & Tel Aviv "
   ]
  },
  {
   "cell_type": "code",
   "execution_count": null,
   "id": "6a6b7faa",
   "metadata": {},
   "outputs": [],
   "source": [
    "\"\"\"\n",
    "Primero decido que coordenadas voy a coger como punto inicial por ciudad - en este caso puntos centricos de la ciudad\n",
    "con buena conexion para viajar\n",
    "Madrid = Torre Picasso (al lado de Nuevos Ministerios que me daba error si no...)\n",
    "San Francisco = Caltrain Station San Francisco\n",
    "Tel Aviv = Tel Aviv Savidor Mercaz\n",
    "\"\"\""
   ]
  },
  {
   "cell_type": "code",
   "execution_count": 3,
   "id": "ff33b8c8",
   "metadata": {},
   "outputs": [
    {
     "data": {
      "text/plain": [
       "{'type': 'Point', 'coordinates': ['40.45007', '-3.69280']}"
      ]
     },
     "execution_count": 3,
     "metadata": {},
     "output_type": "execute_result"
    }
   ],
   "source": [
    "madrid_location = fc.geocode('Torre Picasso, Madrid')\n",
    "madrid_location"
   ]
  },
  {
   "cell_type": "code",
   "execution_count": 4,
   "id": "db69e7eb",
   "metadata": {},
   "outputs": [
    {
     "data": {
      "text/plain": [
       "{'type': 'Point', 'coordinates': ['37.68461', '-122.39846']}"
      ]
     },
     "execution_count": 4,
     "metadata": {},
     "output_type": "execute_result"
    }
   ],
   "source": [
    "san_francisco_location = fc.geocode('Caltrain Station San Francisco')\n",
    "san_francisco_location"
   ]
  },
  {
   "cell_type": "code",
   "execution_count": 5,
   "id": "218ce874",
   "metadata": {},
   "outputs": [
    {
     "data": {
      "text/plain": [
       "{'type': 'Point', 'coordinates': ['32.08757', '34.78461']}"
      ]
     },
     "execution_count": 5,
     "metadata": {},
     "output_type": "execute_result"
    }
   ],
   "source": [
    "tel_aviv_location = fc.geocode('Tel Aviv Savidor Mercaz')\n",
    "tel_aviv_location"
   ]
  },
  {
   "cell_type": "code",
   "execution_count": null,
   "id": "dc19fdfd",
   "metadata": {},
   "outputs": [],
   "source": [
    "\"\"\"\n",
    "Ahora paso a Foursquare para ver los sitios que tengo cerca, elijo como 3 / 4 criterios por ciudad:\n",
    "Criterios:\n",
    "- Bar\n",
    "- Starbucks\n",
    "- Basketball court\n",
    "\n",
    "\"\"\""
   ]
  },
  {
   "cell_type": "code",
   "execution_count": 6,
   "id": "c22aacca",
   "metadata": {},
   "outputs": [
    {
     "data": {
      "text/plain": [
       "True"
      ]
     },
     "execution_count": 6,
     "metadata": {},
     "output_type": "execute_result"
    }
   ],
   "source": [
    "load_dotenv()"
   ]
  },
  {
   "cell_type": "code",
   "execution_count": 7,
   "id": "c58b61db",
   "metadata": {},
   "outputs": [],
   "source": [
    "url_query = 'https://api.foursquare.com/v2/venues/explore'"
   ]
  },
  {
   "cell_type": "code",
   "execution_count": 8,
   "id": "582d34e2",
   "metadata": {},
   "outputs": [],
   "source": [
    "queries = ['Pub', 'Basketball Court', 'Starbucks', 'Preschool', 'Train Station']"
   ]
  },
  {
   "cell_type": "code",
   "execution_count": 9,
   "id": "40bf1886",
   "metadata": {},
   "outputs": [],
   "source": [
    "madrid = fc.get_parameters(madrid_location['coordinates'], *queries)\n",
    "# madrid"
   ]
  },
  {
   "cell_type": "code",
   "execution_count": 11,
   "id": "3f35f959",
   "metadata": {},
   "outputs": [],
   "source": [
    "san_francisco = fc.get_parameters(san_francisco_location['coordinates'], *queries)\n",
    "# san_francisco"
   ]
  },
  {
   "cell_type": "code",
   "execution_count": 12,
   "id": "901623d0",
   "metadata": {},
   "outputs": [],
   "source": [
    "tel_aviv = fc.get_parameters(tel_aviv_location['coordinates'], *queries)\n",
    "# tel_aviv"
   ]
  },
  {
   "cell_type": "code",
   "execution_count": 28,
   "id": "0f59729b",
   "metadata": {},
   "outputs": [
    {
     "data": {
      "text/plain": [
       "5"
      ]
     },
     "execution_count": 28,
     "metadata": {},
     "output_type": "execute_result"
    }
   ],
   "source": [
    "len(madrid)"
   ]
  },
  {
   "cell_type": "code",
   "execution_count": null,
   "id": "3abd34c2",
   "metadata": {},
   "outputs": [],
   "source": [
    "madrid['Pub']['response']['groups'][0]['items'][0]['venue']"
   ]
  },
  {
   "cell_type": "code",
   "execution_count": null,
   "id": "4265dfa1",
   "metadata": {},
   "outputs": [],
   "source": [
    "madrid['Pub']['response']['groups'][0]['items'][0]['venue']['name']"
   ]
  },
  {
   "cell_type": "code",
   "execution_count": null,
   "id": "f832b1be",
   "metadata": {},
   "outputs": [],
   "source": [
    "madrid['Pub']['response']['groups'][0]['items'][0]['venue']['location']"
   ]
  },
  {
   "cell_type": "code",
   "execution_count": null,
   "id": "f2a9efc0",
   "metadata": {
    "scrolled": true
   },
   "outputs": [],
   "source": [
    "madrid['Pub']['response']['groups'][0]['items'][0]['venue']['location']['lat']"
   ]
  },
  {
   "cell_type": "code",
   "execution_count": null,
   "id": "39112673",
   "metadata": {},
   "outputs": [],
   "source": [
    "madrid['Pub']['response']['groups'][0]['items'][0]['venue']['location']['lng']"
   ]
  },
  {
   "cell_type": "code",
   "execution_count": 13,
   "id": "f6787b95",
   "metadata": {},
   "outputs": [],
   "source": [
    "mad = madrid_location['coordinates']"
   ]
  },
  {
   "cell_type": "code",
   "execution_count": 16,
   "id": "11218d9a",
   "metadata": {},
   "outputs": [],
   "source": [
    "madrid_ = []\n",
    "for i in range(len(queries)):\n",
    "    #print(i)\n",
    "    for x in range(len(madrid[queries[i]]['response']['groups'][0]['items'])):\n",
    "        #print(x)\n",
    "        #print(clean_data2(madrid[queries[i]]['response']['groups'][0]['items'][x]['venue'], mad))\n",
    "        madrid_.append(fc.clean_data(madrid[queries[i]]['response']['groups'][0]['items'][x]['venue'], mad))\n",
    "       "
   ]
  },
  {
   "cell_type": "code",
   "execution_count": 24,
   "id": "d4d530a5",
   "metadata": {},
   "outputs": [],
   "source": [
    "# madrid_"
   ]
  },
  {
   "cell_type": "code",
   "execution_count": 19,
   "id": "48b329a5",
   "metadata": {},
   "outputs": [],
   "source": [
    "sf = san_francisco_location['coordinates']"
   ]
  },
  {
   "cell_type": "code",
   "execution_count": 20,
   "id": "805fa7ce",
   "metadata": {},
   "outputs": [],
   "source": [
    "san_francisco_ = []\n",
    "for i in range(len(queries)):\n",
    "    for x in range(len(san_francisco[queries[i]]['response']['groups'][0]['items'])):\n",
    "        san_francisco_.append(fc.clean_data(san_francisco[queries[i]]['response']['groups'][0]['items'][x]['venue'], sf))"
   ]
  },
  {
   "cell_type": "code",
   "execution_count": null,
   "id": "5c926ddc",
   "metadata": {},
   "outputs": [],
   "source": [
    "# san_francisco_"
   ]
  },
  {
   "cell_type": "code",
   "execution_count": 21,
   "id": "4f4c8923",
   "metadata": {},
   "outputs": [],
   "source": [
    "ta = tel_aviv_location['coordinates']"
   ]
  },
  {
   "cell_type": "code",
   "execution_count": 22,
   "id": "df8527f9",
   "metadata": {},
   "outputs": [],
   "source": [
    "tel_aviv_ = []\n",
    "for i in range(len(queries)):\n",
    "    for x in range(len(tel_aviv[queries[i]]['response']['groups'][0]['items'])):\n",
    "        tel_aviv_.append(fc.clean_data(tel_aviv[queries[i]]['response']['groups'][0]['items'][x]['venue'], ta))"
   ]
  },
  {
   "cell_type": "code",
   "execution_count": null,
   "id": "7d377ccf",
   "metadata": {},
   "outputs": [],
   "source": [
    "# tel_aviv_"
   ]
  },
  {
   "cell_type": "code",
   "execution_count": 23,
   "id": "1ab1fbdd",
   "metadata": {},
   "outputs": [
    {
     "data": {
      "text/html": [
       "<div>\n",
       "<style scoped>\n",
       "    .dataframe tbody tr th:only-of-type {\n",
       "        vertical-align: middle;\n",
       "    }\n",
       "\n",
       "    .dataframe tbody tr th {\n",
       "        vertical-align: top;\n",
       "    }\n",
       "\n",
       "    .dataframe thead th {\n",
       "        text-align: right;\n",
       "    }\n",
       "</style>\n",
       "<table border=\"1\" class=\"dataframe\">\n",
       "  <thead>\n",
       "    <tr style=\"text-align: right;\">\n",
       "      <th></th>\n",
       "      <th>name</th>\n",
       "      <th>lat</th>\n",
       "      <th>lng</th>\n",
       "      <th>shortName</th>\n",
       "      <th>location</th>\n",
       "    </tr>\n",
       "  </thead>\n",
       "  <tbody>\n",
       "    <tr>\n",
       "      <th>26</th>\n",
       "      <td>El Parnasillo del Príncipe</td>\n",
       "      <td>40.414101</td>\n",
       "      <td>-3.700076</td>\n",
       "      <td>Bar</td>\n",
       "      <td>{'type': 'Point', 'coordinates': [40.414100633...</td>\n",
       "    </tr>\n",
       "    <tr>\n",
       "      <th>80</th>\n",
       "      <td>Vía 2</td>\n",
       "      <td>40.445427</td>\n",
       "      <td>-3.691752</td>\n",
       "      <td>Platform</td>\n",
       "      <td>{'type': 'Point', 'coordinates': [40.445426691...</td>\n",
       "    </tr>\n",
       "    <tr>\n",
       "      <th>50</th>\n",
       "      <td>Starbucks</td>\n",
       "      <td>40.425760</td>\n",
       "      <td>-3.691782</td>\n",
       "      <td>Coffee Shop</td>\n",
       "      <td>{'type': 'Point', 'coordinates': [40.425760357...</td>\n",
       "    </tr>\n",
       "    <tr>\n",
       "      <th>46</th>\n",
       "      <td>Starbucks</td>\n",
       "      <td>40.423320</td>\n",
       "      <td>-3.710883</td>\n",
       "      <td>Coffee Shop</td>\n",
       "      <td>{'type': 'Point', 'coordinates': [40.423319643...</td>\n",
       "    </tr>\n",
       "    <tr>\n",
       "      <th>30</th>\n",
       "      <td>Club Estudiantes de Baloncesto</td>\n",
       "      <td>40.442387</td>\n",
       "      <td>-3.686064</td>\n",
       "      <td>Basketball Court</td>\n",
       "      <td>{'type': 'Point', 'coordinates': [40.442386830...</td>\n",
       "    </tr>\n",
       "    <tr>\n",
       "      <th>76</th>\n",
       "      <td>Estación de Cercanías de Madrid-Atocha</td>\n",
       "      <td>40.405497</td>\n",
       "      <td>-3.688216</td>\n",
       "      <td>Train Station</td>\n",
       "      <td>{'type': 'Point', 'coordinates': [40.405496649...</td>\n",
       "    </tr>\n",
       "    <tr>\n",
       "      <th>45</th>\n",
       "      <td>Starbucks</td>\n",
       "      <td>40.419668</td>\n",
       "      <td>-3.706135</td>\n",
       "      <td>Coffee Shop</td>\n",
       "      <td>{'type': 'Point', 'coordinates': [40.419667845...</td>\n",
       "    </tr>\n",
       "    <tr>\n",
       "      <th>27</th>\n",
       "      <td>Freeway</td>\n",
       "      <td>40.425528</td>\n",
       "      <td>-3.701905</td>\n",
       "      <td>Bar</td>\n",
       "      <td>{'type': 'Point', 'coordinates': [40.425528070...</td>\n",
       "    </tr>\n",
       "    <tr>\n",
       "      <th>28</th>\n",
       "      <td>Maloney's Madrid</td>\n",
       "      <td>40.439339</td>\n",
       "      <td>-3.693051</td>\n",
       "      <td>Pub</td>\n",
       "      <td>{'type': 'Point', 'coordinates': [40.439339291...</td>\n",
       "    </tr>\n",
       "    <tr>\n",
       "      <th>14</th>\n",
       "      <td>Fenrir Metal</td>\n",
       "      <td>40.433445</td>\n",
       "      <td>-3.714799</td>\n",
       "      <td>Pub</td>\n",
       "      <td>{'type': 'Point', 'coordinates': [40.433445460...</td>\n",
       "    </tr>\n",
       "    <tr>\n",
       "      <th>39</th>\n",
       "      <td>Starbucks</td>\n",
       "      <td>40.432968</td>\n",
       "      <td>-3.683220</td>\n",
       "      <td>Coffee Shop</td>\n",
       "      <td>{'type': 'Point', 'coordinates': [40.432967606...</td>\n",
       "    </tr>\n",
       "    <tr>\n",
       "      <th>82</th>\n",
       "      <td>Intercambiador de Príncipe Pío</td>\n",
       "      <td>40.420945</td>\n",
       "      <td>-3.720275</td>\n",
       "      <td>Train Station</td>\n",
       "      <td>{'type': 'Point', 'coordinates': [40.420945319...</td>\n",
       "    </tr>\n",
       "    <tr>\n",
       "      <th>23</th>\n",
       "      <td>Bar Aleatorio!</td>\n",
       "      <td>40.427791</td>\n",
       "      <td>-3.703937</td>\n",
       "      <td>Pub</td>\n",
       "      <td>{'type': 'Point', 'coordinates': [40.427790573...</td>\n",
       "    </tr>\n",
       "    <tr>\n",
       "      <th>53</th>\n",
       "      <td>Starbucks</td>\n",
       "      <td>40.415323</td>\n",
       "      <td>-3.694949</td>\n",
       "      <td>Coffee Shop</td>\n",
       "      <td>{'type': 'Point', 'coordinates': [40.415323273...</td>\n",
       "    </tr>\n",
       "    <tr>\n",
       "      <th>93</th>\n",
       "      <td>alvia madrid-santander</td>\n",
       "      <td>40.472687</td>\n",
       "      <td>-3.680966</td>\n",
       "      <td>Train</td>\n",
       "      <td>{'type': 'Point', 'coordinates': [40.472687435...</td>\n",
       "    </tr>\n",
       "    <tr>\n",
       "      <th>75</th>\n",
       "      <td>Vip Lounge. Estación Chamartin</td>\n",
       "      <td>40.472590</td>\n",
       "      <td>-3.681952</td>\n",
       "      <td>Train Station</td>\n",
       "      <td>{'type': 'Point', 'coordinates': [40.472589508...</td>\n",
       "    </tr>\n",
       "    <tr>\n",
       "      <th>21</th>\n",
       "      <td>Collin's</td>\n",
       "      <td>40.428017</td>\n",
       "      <td>-3.697498</td>\n",
       "      <td>Pub</td>\n",
       "      <td>{'type': 'Point', 'coordinates': [40.428017294...</td>\n",
       "    </tr>\n",
       "    <tr>\n",
       "      <th>36</th>\n",
       "      <td>Starbucks</td>\n",
       "      <td>40.447489</td>\n",
       "      <td>-3.693093</td>\n",
       "      <td>Coffee Shop</td>\n",
       "      <td>{'type': 'Point', 'coordinates': [40.447488723...</td>\n",
       "    </tr>\n",
       "    <tr>\n",
       "      <th>15</th>\n",
       "      <td>Bar Rowland</td>\n",
       "      <td>40.442353</td>\n",
       "      <td>-3.663287</td>\n",
       "      <td>Pub</td>\n",
       "      <td>{'type': 'Point', 'coordinates': [40.442353172...</td>\n",
       "    </tr>\n",
       "    <tr>\n",
       "      <th>65</th>\n",
       "      <td>Foodies in the City</td>\n",
       "      <td>40.421212</td>\n",
       "      <td>-3.717058</td>\n",
       "      <td>Preschool</td>\n",
       "      <td>{'type': 'Point', 'coordinates': [40.4212121, ...</td>\n",
       "    </tr>\n",
       "  </tbody>\n",
       "</table>\n",
       "</div>"
      ],
      "text/plain": [
       "                                      name        lat       lng  \\\n",
       "26              El Parnasillo del Príncipe  40.414101 -3.700076   \n",
       "80                                   Vía 2  40.445427 -3.691752   \n",
       "50                               Starbucks  40.425760 -3.691782   \n",
       "46                               Starbucks  40.423320 -3.710883   \n",
       "30          Club Estudiantes de Baloncesto  40.442387 -3.686064   \n",
       "76  Estación de Cercanías de Madrid-Atocha  40.405497 -3.688216   \n",
       "45                               Starbucks  40.419668 -3.706135   \n",
       "27                                 Freeway  40.425528 -3.701905   \n",
       "28                        Maloney's Madrid  40.439339 -3.693051   \n",
       "14                            Fenrir Metal  40.433445 -3.714799   \n",
       "39                               Starbucks  40.432968 -3.683220   \n",
       "82          Intercambiador de Príncipe Pío  40.420945 -3.720275   \n",
       "23                          Bar Aleatorio!  40.427791 -3.703937   \n",
       "53                               Starbucks  40.415323 -3.694949   \n",
       "93                  alvia madrid-santander  40.472687 -3.680966   \n",
       "75          Vip Lounge. Estación Chamartin  40.472590 -3.681952   \n",
       "21                                Collin's  40.428017 -3.697498   \n",
       "36                               Starbucks  40.447489 -3.693093   \n",
       "15                             Bar Rowland  40.442353 -3.663287   \n",
       "65                     Foodies in the City  40.421212 -3.717058   \n",
       "\n",
       "           shortName                                           location  \n",
       "26               Bar  {'type': 'Point', 'coordinates': [40.414100633...  \n",
       "80          Platform  {'type': 'Point', 'coordinates': [40.445426691...  \n",
       "50       Coffee Shop  {'type': 'Point', 'coordinates': [40.425760357...  \n",
       "46       Coffee Shop  {'type': 'Point', 'coordinates': [40.423319643...  \n",
       "30  Basketball Court  {'type': 'Point', 'coordinates': [40.442386830...  \n",
       "76     Train Station  {'type': 'Point', 'coordinates': [40.405496649...  \n",
       "45       Coffee Shop  {'type': 'Point', 'coordinates': [40.419667845...  \n",
       "27               Bar  {'type': 'Point', 'coordinates': [40.425528070...  \n",
       "28               Pub  {'type': 'Point', 'coordinates': [40.439339291...  \n",
       "14               Pub  {'type': 'Point', 'coordinates': [40.433445460...  \n",
       "39       Coffee Shop  {'type': 'Point', 'coordinates': [40.432967606...  \n",
       "82     Train Station  {'type': 'Point', 'coordinates': [40.420945319...  \n",
       "23               Pub  {'type': 'Point', 'coordinates': [40.427790573...  \n",
       "53       Coffee Shop  {'type': 'Point', 'coordinates': [40.415323273...  \n",
       "93             Train  {'type': 'Point', 'coordinates': [40.472687435...  \n",
       "75     Train Station  {'type': 'Point', 'coordinates': [40.472589508...  \n",
       "21               Pub  {'type': 'Point', 'coordinates': [40.428017294...  \n",
       "36       Coffee Shop  {'type': 'Point', 'coordinates': [40.447488723...  \n",
       "15               Pub  {'type': 'Point', 'coordinates': [40.442353172...  \n",
       "65         Preschool  {'type': 'Point', 'coordinates': [40.4212121, ...  "
      ]
     },
     "execution_count": 23,
     "metadata": {},
     "output_type": "execute_result"
    }
   ],
   "source": [
    "df = pd.DataFrame(madrid_)\n",
    "df.sample(20)"
   ]
  },
  {
   "cell_type": "code",
   "execution_count": 25,
   "id": "f88d42a3",
   "metadata": {},
   "outputs": [],
   "source": [
    "import json\n",
    "with open ('madrid.json', 'w') as f:\n",
    "    json.dump(madrid_, f)"
   ]
  },
  {
   "cell_type": "code",
   "execution_count": 26,
   "id": "934f347f",
   "metadata": {},
   "outputs": [],
   "source": [
    "import json\n",
    "with open ('san_francisco.json', 'w') as f:\n",
    "    json.dump(san_francisco_, f)"
   ]
  },
  {
   "cell_type": "code",
   "execution_count": 27,
   "id": "ada50069",
   "metadata": {},
   "outputs": [],
   "source": [
    "import json\n",
    "with open ('tel_aviv.json', 'w') as f:\n",
    "    json.dump(tel_aviv_, f)"
   ]
  }
 ],
 "metadata": {
  "kernelspec": {
   "display_name": "ironhack",
   "language": "python",
   "name": "ironhack"
  },
  "language_info": {
   "codemirror_mode": {
    "name": "ipython",
    "version": 3
   },
   "file_extension": ".py",
   "mimetype": "text/x-python",
   "name": "python",
   "nbconvert_exporter": "python",
   "pygments_lexer": "ipython3",
   "version": "3.8.10"
  }
 },
 "nbformat": 4,
 "nbformat_minor": 5
}
